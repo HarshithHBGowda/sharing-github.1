{
 "cells": [
  {
   "cell_type": "code",
   "execution_count": 5,
   "id": "696cdf4a",
   "metadata": {},
   "outputs": [
    {
     "name": "stdout",
     "output_type": "stream",
     "text": [
      "[1, 2, 3]\n"
     ]
    }
   ],
   "source": [
    "#section 3 list \n",
    "\n",
    "new_list=[1,2,3,4]\n",
    "list=[5,6]\n",
    "new_list.remove(4)                                 #remove\n",
    "print(new_list)"
   ]
  },
  {
   "cell_type": "code",
   "execution_count": 6,
   "id": "9535ac5a",
   "metadata": {},
   "outputs": [
    {
     "name": "stdout",
     "output_type": "stream",
     "text": [
      "['art', 123, 12, 1, 3]\n"
     ]
    }
   ],
   "source": [
    "new_list=[123,12,1,3]\n",
    "new_list.insert(0,\"art\")                            #insert\n",
    "print(new_list)"
   ]
  },
  {
   "cell_type": "code",
   "execution_count": 7,
   "id": "6ba9db25",
   "metadata": {},
   "outputs": [
    {
     "data": {
      "text/plain": [
       "{1, 2, 3, 4, 5}"
      ]
     },
     "execution_count": 7,
     "metadata": {},
     "output_type": "execute_result"
    }
   ],
   "source": [
    "#section 3 dict\n",
    "\n",
    "dict={1,2,3,4,5}\n",
    "dict\n"
   ]
  },
  {
   "cell_type": "code",
   "execution_count": 8,
   "id": "651b4d44",
   "metadata": {},
   "outputs": [
    {
     "data": {
      "text/plain": [
       "{'key1': 'value1', 'key2': 'value2'}"
      ]
     },
     "execution_count": 8,
     "metadata": {},
     "output_type": "execute_result"
    }
   ],
   "source": [
    "d={'key1':'value1','key2':'value2'}\n",
    "d"
   ]
  },
  {
   "cell_type": "code",
   "execution_count": 19,
   "id": "9f73d58d",
   "metadata": {},
   "outputs": [
    {
     "data": {
      "text/plain": [
       "120"
      ]
     },
     "execution_count": 19,
     "metadata": {},
     "output_type": "execute_result"
    }
   ],
   "source": [
    "d={'grahpes':120,'apple':200}\n",
    "\n",
    "d['grahpes']                                    #grabbingthevalue\n",
    "\n",
    "\n",
    "\n",
    "\n"
   ]
  },
  {
   "cell_type": "code",
   "execution_count": 24,
   "id": "2b4e16dc",
   "metadata": {},
   "outputs": [
    {
     "data": {
      "text/plain": [
       "2"
      ]
     },
     "execution_count": 24,
     "metadata": {},
     "output_type": "execute_result"
    }
   ],
   "source": [
    "new_dict={'a':1,'b':2,'c':3}\n",
    "new_dict['b']\n",
    "\n"
   ]
  },
  {
   "cell_type": "code",
   "execution_count": 28,
   "id": "746a0ee1",
   "metadata": {},
   "outputs": [
    {
     "data": {
      "text/plain": [
       "'HELLO'"
      ]
     },
     "execution_count": 28,
     "metadata": {},
     "output_type": "execute_result"
    }
   ],
   "source": [
    "new_dict={'key1':'hello','key2':'hai','key3':'hy'}\n",
    "new_dict['key1']\n",
    "my_list=new_dict['key1']                         #lowercase to upper case\n",
    "my_list\n",
    "my_list.upper()\n"
   ]
  },
  {
   "cell_type": "code",
   "execution_count": 33,
   "id": "5c5c865f",
   "metadata": {},
   "outputs": [
    {
     "data": {
      "text/plain": [
       "'L'"
      ]
     },
     "execution_count": 33,
     "metadata": {},
     "output_type": "execute_result"
    }
   ],
   "source": [
    "new_dict={'key1':'hello','key2':'hai','key3':'hy'}\n",
    "new_dict['key1'][2].upper()\n",
    "                                                  #we can also.......upper method\n",
    "\n"
   ]
  },
  {
   "cell_type": "code",
   "execution_count": 34,
   "id": "798a3ea0",
   "metadata": {},
   "outputs": [
    {
     "data": {
      "text/plain": [
       "'hello'"
      ]
     },
     "execution_count": 34,
     "metadata": {},
     "output_type": "execute_result"
    }
   ],
   "source": [
    "new_dict={'key1':'HELLO','key2':'hai','key3':'hy'}\n",
    "new_dict['key1']\n",
    "my_list=new_dict['key1']                           #uppercase to lowercase\n",
    "my_list\n",
    "my_list.lower()\n"
   ]
  },
  {
   "cell_type": "code",
   "execution_count": 41,
   "id": "e4a2aa98",
   "metadata": {},
   "outputs": [
    {
     "data": {
      "text/plain": [
       "{'key1': 'a', 'key2': 'b', 'key3': 200}"
      ]
     },
     "execution_count": 41,
     "metadata": {},
     "output_type": "execute_result"
    }
   ],
   "source": [
    "d={'key1':'a','key2':'b'}\n",
    "d['key3']=200\n",
    "d                                                  #adding items to dict\n"
   ]
  },
  {
   "cell_type": "code",
   "execution_count": 44,
   "id": "6657abb3",
   "metadata": {},
   "outputs": [
    {
     "data": {
      "text/plain": [
       "{'key1': 'HELLO', 'key2': 'new value', 'key3': 'hy'}"
      ]
     },
     "execution_count": 44,
     "metadata": {},
     "output_type": "execute_result"
    }
   ],
   "source": [
    "new_dict={'key1':'HELLO','key2':'hai','key3':'hy'}\n",
    "new_dict['key2']='new value'                         #inserting \n",
    "new_dict"
   ]
  },
  {
   "cell_type": "code",
   "execution_count": 46,
   "id": "a6b19e31",
   "metadata": {},
   "outputs": [
    {
     "data": {
      "text/plain": [
       "dict_keys(['key1', 'key2', 'key3'])"
      ]
     },
     "execution_count": 46,
     "metadata": {},
     "output_type": "execute_result"
    }
   ],
   "source": [
    "new_dict={'key1':'income','key2':'tax','key3':'sal'}\n",
    "new_dict.keys()                                      #acutal keys"
   ]
  },
  {
   "cell_type": "code",
   "execution_count": 47,
   "id": "c0ba9a36",
   "metadata": {},
   "outputs": [
    {
     "data": {
      "text/plain": [
       "dict_values(['income', 'tax', 'sal'])"
      ]
     },
     "execution_count": 47,
     "metadata": {},
     "output_type": "execute_result"
    }
   ],
   "source": [
    "new_dict={'key1':'income','key2':'tax','key3':'sal'}\n",
    "new_dict.values()                                      #acutal values"
   ]
  },
  {
   "cell_type": "code",
   "execution_count": 49,
   "id": "6d64e7b1",
   "metadata": {},
   "outputs": [
    {
     "data": {
      "text/plain": [
       "dict_items([('key1', 'income'), ('key2', 'tax'), ('key3', 'sal')])"
      ]
     },
     "execution_count": 49,
     "metadata": {},
     "output_type": "execute_result"
    }
   ],
   "source": [
    "new_dict={'key1':'income','key2':'tax','key3':'sal'}\n",
    "new_dict.items()                                      #keys and values"
   ]
  },
  {
   "cell_type": "code",
   "execution_count": 50,
   "id": "79f0c74a",
   "metadata": {},
   "outputs": [],
   "source": [
    "#section.3 tuples"
   ]
  },
  {
   "cell_type": "code",
   "execution_count": 51,
   "id": "748d1bdd",
   "metadata": {},
   "outputs": [
    {
     "data": {
      "text/plain": [
       "(1, 2, 3, 4, 5, 6, 7, 8, 9)"
      ]
     },
     "execution_count": 51,
     "metadata": {},
     "output_type": "execute_result"
    }
   ],
   "source": [
    "t=(1,2,3,4,5,6,7,8,9)\n",
    "t                                                    #tuples"
   ]
  },
  {
   "cell_type": "code",
   "execution_count": 53,
   "id": "2e139ae8",
   "metadata": {},
   "outputs": [
    {
     "data": {
      "text/plain": [
       "6"
      ]
     },
     "execution_count": 53,
     "metadata": {},
     "output_type": "execute_result"
    }
   ],
   "source": [
    "t=(12,22,32,3,2,44)\n",
    "len(t)                                                #lengthofthetuple"
   ]
  },
  {
   "cell_type": "code",
   "execution_count": 59,
   "id": "5059fef8",
   "metadata": {},
   "outputs": [
    {
     "data": {
      "text/plain": [
       "(12, 11, 22, 33, 44, 55, 66)"
      ]
     },
     "execution_count": 59,
     "metadata": {},
     "output_type": "execute_result"
    }
   ],
   "source": [
    "t=(12,11,22,33,44,55,66)\n",
    "\n",
    "t\n",
    "\n"
   ]
  },
  {
   "cell_type": "code",
   "execution_count": 61,
   "id": "7a2f9bcc",
   "metadata": {},
   "outputs": [
    {
     "data": {
      "text/plain": [
       "0"
      ]
     },
     "execution_count": 61,
     "metadata": {},
     "output_type": "execute_result"
    }
   ],
   "source": [
    "t=(88,99,88,666)\n",
    "t.count(1)                                             #tocount"
   ]
  },
  {
   "cell_type": "code",
   "execution_count": 62,
   "id": "a6e0972b",
   "metadata": {},
   "outputs": [
    {
     "data": {
      "text/plain": [
       "0"
      ]
     },
     "execution_count": 62,
     "metadata": {},
     "output_type": "execute_result"
    }
   ],
   "source": [
    "t=(88,99,88,666)\n",
    "t.count(3)                                             #tocount"
   ]
  },
  {
   "cell_type": "code",
   "execution_count": 72,
   "id": "955935cb",
   "metadata": {},
   "outputs": [
    {
     "data": {
      "text/plain": [
       "0"
      ]
     },
     "execution_count": 72,
     "metadata": {},
     "output_type": "execute_result"
    }
   ],
   "source": [
    "t=('aaa','bbbb','ccccc','fffff')\n",
    "t.index('aaa') \n",
    "                                                       #index"
   ]
  },
  {
   "cell_type": "code",
   "execution_count": 73,
   "id": "47e7a4e4",
   "metadata": {},
   "outputs": [
    {
     "data": {
      "text/plain": [
       "0"
      ]
     },
     "execution_count": 73,
     "metadata": {},
     "output_type": "execute_result"
    }
   ],
   "source": [
    "t=('hhhh','tttt')\n",
    "t.count('hhh')                                          #index"
   ]
  },
  {
   "cell_type": "code",
   "execution_count": 74,
   "id": "5ea51a00",
   "metadata": {},
   "outputs": [
    {
     "data": {
      "text/plain": [
       "()"
      ]
     },
     "execution_count": 74,
     "metadata": {},
     "output_type": "execute_result"
    }
   ],
   "source": [
    "#sectin 3 sets\n",
    "\n",
    "set=()\n",
    "set"
   ]
  },
  {
   "cell_type": "code",
   "execution_count": 76,
   "id": "7d24bbb6",
   "metadata": {},
   "outputs": [
    {
     "data": {
      "text/plain": [
       "2"
      ]
     },
     "execution_count": 76,
     "metadata": {},
     "output_type": "execute_result"
    }
   ],
   "source": [
    "my_set=(2)\n",
    "my_set"
   ]
  },
  {
   "cell_type": "code",
   "execution_count": 92,
   "id": "5df0de06",
   "metadata": {},
   "outputs": [],
   "source": [
    "\n"
   ]
  },
  {
   "cell_type": "code",
   "execution_count": null,
   "id": "8b25a9d9",
   "metadata": {},
   "outputs": [],
   "source": []
  }
 ],
 "metadata": {
  "kernelspec": {
   "display_name": "Python 3",
   "language": "python",
   "name": "python3"
  },
  "language_info": {
   "codemirror_mode": {
    "name": "ipython",
    "version": 3
   },
   "file_extension": ".py",
   "mimetype": "text/x-python",
   "name": "python",
   "nbconvert_exporter": "python",
   "pygments_lexer": "ipython3",
   "version": "3.8.8"
  }
 },
 "nbformat": 4,
 "nbformat_minor": 5
}

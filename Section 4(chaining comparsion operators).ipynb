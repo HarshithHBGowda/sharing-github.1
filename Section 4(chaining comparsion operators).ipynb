{
 "cells": [
  {
   "cell_type": "code",
   "execution_count": 2,
   "id": "cfa31b95",
   "metadata": {},
   "outputs": [],
   "source": [
    "#there are three logical operators \n",
    "#and \n",
    "#or\n",
    "#not"
   ]
  },
  {
   "cell_type": "code",
   "execution_count": 3,
   "id": "2f32fa62",
   "metadata": {},
   "outputs": [
    {
     "data": {
      "text/plain": [
       "True"
      ]
     },
     "execution_count": 3,
     "metadata": {},
     "output_type": "execute_result"
    }
   ],
   "source": [
    "1<2<9"
   ]
  },
  {
   "cell_type": "code",
   "execution_count": 4,
   "id": "f8c9e33b",
   "metadata": {},
   "outputs": [
    {
     "data": {
      "text/plain": [
       "False"
      ]
     },
     "execution_count": 4,
     "metadata": {},
     "output_type": "execute_result"
    }
   ],
   "source": [
    "#insted of above by using 'and' keyword\n",
    "\n",
    "\n",
    "1<2 and 2>3"
   ]
  },
  {
   "cell_type": "code",
   "execution_count": 33,
   "id": "acf4166b",
   "metadata": {},
   "outputs": [
    {
     "data": {
      "text/plain": [
       "False"
      ]
     },
     "execution_count": 33,
     "metadata": {},
     "output_type": "execute_result"
    }
   ],
   "source": [
    "9<3 and 'hhhhh'>'HHHH'"
   ]
  },
  {
   "cell_type": "code",
   "execution_count": 6,
   "id": "298469c1",
   "metadata": {},
   "outputs": [
    {
     "data": {
      "text/plain": [
       "False"
      ]
     },
     "execution_count": 6,
     "metadata": {},
     "output_type": "execute_result"
    }
   ],
   "source": [
    "3>9 and 9>9"
   ]
  },
  {
   "cell_type": "code",
   "execution_count": 7,
   "id": "8c2d1b60",
   "metadata": {},
   "outputs": [
    {
     "data": {
      "text/plain": [
       "False"
      ]
     },
     "execution_count": 7,
     "metadata": {},
     "output_type": "execute_result"
    }
   ],
   "source": [
    "1==2 and 2==1"
   ]
  },
  {
   "cell_type": "markdown",
   "id": "0fb36823",
   "metadata": {},
   "source": []
  },
  {
   "cell_type": "code",
   "execution_count": 30,
   "id": "3442c19d",
   "metadata": {},
   "outputs": [
    {
     "data": {
      "text/plain": [
       "False"
      ]
     },
     "execution_count": 30,
     "metadata": {},
     "output_type": "execute_result"
    }
   ],
   "source": [
    "1==6 and 6==1"
   ]
  },
  {
   "cell_type": "code",
   "execution_count": 32,
   "id": "380fdd5b",
   "metadata": {},
   "outputs": [
    {
     "data": {
      "text/plain": [
       "False"
      ]
     },
     "execution_count": 32,
     "metadata": {},
     "output_type": "execute_result"
    }
   ],
   "source": [
    "'BIG'=='big' and 2==1"
   ]
  },
  {
   "cell_type": "code",
   "execution_count": 10,
   "id": "e401a350",
   "metadata": {},
   "outputs": [
    {
     "data": {
      "text/plain": [
       "False"
      ]
     },
     "execution_count": 10,
     "metadata": {},
     "output_type": "execute_result"
    }
   ],
   "source": [
    "1<=8 and 2==1"
   ]
  },
  {
   "cell_type": "code",
   "execution_count": 11,
   "id": "3c4a35bc",
   "metadata": {},
   "outputs": [
    {
     "data": {
      "text/plain": [
       "False"
      ]
     },
     "execution_count": 11,
     "metadata": {},
     "output_type": "execute_result"
    }
   ],
   "source": [
    "3>=4 and 5!=3"
   ]
  },
  {
   "cell_type": "code",
   "execution_count": 12,
   "id": "1caa1009",
   "metadata": {},
   "outputs": [
    {
     "data": {
      "text/plain": [
       "False"
      ]
     },
     "execution_count": 12,
     "metadata": {},
     "output_type": "execute_result"
    }
   ],
   "source": [
    "3>4 and 5!=3"
   ]
  },
  {
   "cell_type": "code",
   "execution_count": 14,
   "id": "e4626b24",
   "metadata": {},
   "outputs": [
    {
     "data": {
      "text/plain": [
       "True"
      ]
     },
     "execution_count": 14,
     "metadata": {},
     "output_type": "execute_result"
    }
   ],
   "source": [
    "#by using 'or' opertor\n",
    "\n",
    "\n",
    "3>=2 or 5!=9\n",
    "\n"
   ]
  },
  {
   "cell_type": "code",
   "execution_count": 16,
   "id": "c0045a0b",
   "metadata": {},
   "outputs": [
    {
     "data": {
      "text/plain": [
       "True"
      ]
     },
     "execution_count": 16,
     "metadata": {},
     "output_type": "execute_result"
    }
   ],
   "source": [
    "1>4 or 5!=3"
   ]
  },
  {
   "cell_type": "code",
   "execution_count": 17,
   "id": "c4bebba2",
   "metadata": {},
   "outputs": [
    {
     "data": {
      "text/plain": [
       "False"
      ]
     },
     "execution_count": 17,
     "metadata": {},
     "output_type": "execute_result"
    }
   ],
   "source": [
    "22>44 or 888>8888"
   ]
  },
  {
   "cell_type": "code",
   "execution_count": 18,
   "id": "1a0bcf8f",
   "metadata": {},
   "outputs": [
    {
     "data": {
      "text/plain": [
       "True"
      ]
     },
     "execution_count": 18,
     "metadata": {},
     "output_type": "execute_result"
    }
   ],
   "source": [
    "14151>6363 or 8288<77272"
   ]
  },
  {
   "cell_type": "code",
   "execution_count": 20,
   "id": "57d2a7f8",
   "metadata": {},
   "outputs": [
    {
     "data": {
      "text/plain": [
       "False"
      ]
     },
     "execution_count": 20,
     "metadata": {},
     "output_type": "execute_result"
    }
   ],
   "source": [
    "22>=44 or 888>=8888"
   ]
  },
  {
   "cell_type": "code",
   "execution_count": 22,
   "id": "f0b21014",
   "metadata": {},
   "outputs": [
    {
     "data": {
      "text/plain": [
       "True"
      ]
     },
     "execution_count": 22,
     "metadata": {},
     "output_type": "execute_result"
    }
   ],
   "source": [
    "12!=11 or 11>12"
   ]
  },
  {
   "cell_type": "code",
   "execution_count": 25,
   "id": "eabf3a41",
   "metadata": {},
   "outputs": [
    {
     "data": {
      "text/plain": [
       "False"
      ]
     },
     "execution_count": 25,
     "metadata": {},
     "output_type": "execute_result"
    }
   ],
   "source": [
    "#by using not  opertor\n",
    "\n",
    "not ('hhhh=hhhh')"
   ]
  },
  {
   "cell_type": "code",
   "execution_count": 29,
   "id": "9f5e293b",
   "metadata": {},
   "outputs": [
    {
     "data": {
      "text/plain": [
       "True"
      ]
     },
     "execution_count": 29,
     "metadata": {},
     "output_type": "execute_result"
    }
   ],
   "source": [
    "55>11  or 77>11"
   ]
  },
  {
   "cell_type": "code",
   "execution_count": 26,
   "id": "9096e852",
   "metadata": {},
   "outputs": [
    {
     "data": {
      "text/plain": [
       "False"
      ]
     },
     "execution_count": 26,
     "metadata": {},
     "output_type": "execute_result"
    }
   ],
   "source": [
    "not(1==1)"
   ]
  },
  {
   "cell_type": "code",
   "execution_count": 27,
   "id": "cd5cbed6",
   "metadata": {},
   "outputs": [
    {
     "data": {
      "text/plain": [
       "True"
      ]
     },
     "execution_count": 27,
     "metadata": {},
     "output_type": "execute_result"
    }
   ],
   "source": [
    "not(1>1)"
   ]
  },
  {
   "cell_type": "code",
   "execution_count": 28,
   "id": "6818eaeb",
   "metadata": {},
   "outputs": [
    {
     "data": {
      "text/plain": [
       "True"
      ]
     },
     "execution_count": 28,
     "metadata": {},
     "output_type": "execute_result"
    }
   ],
   "source": [
    "not(12>21)"
   ]
  },
  {
   "cell_type": "code",
   "execution_count": 36,
   "id": "47fbdbe5",
   "metadata": {},
   "outputs": [
    {
     "data": {
      "text/plain": [
       "False"
      ]
     },
     "execution_count": 36,
     "metadata": {},
     "output_type": "execute_result"
    }
   ],
   "source": [
    "not('hhhh'>'HHHH')"
   ]
  },
  {
   "cell_type": "code",
   "execution_count": null,
   "id": "4ee9ba33",
   "metadata": {},
   "outputs": [],
   "source": []
  }
 ],
 "metadata": {
  "kernelspec": {
   "display_name": "Python 3",
   "language": "python",
   "name": "python3"
  },
  "language_info": {
   "codemirror_mode": {
    "name": "ipython",
    "version": 3
   },
   "file_extension": ".py",
   "mimetype": "text/x-python",
   "name": "python",
   "nbconvert_exporter": "python",
   "pygments_lexer": "ipython3",
   "version": "3.8.8"
  }
 },
 "nbformat": 4,
 "nbformat_minor": 5
}

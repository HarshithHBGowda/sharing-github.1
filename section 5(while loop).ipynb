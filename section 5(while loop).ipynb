{
 "cells": [
  {
   "cell_type": "code",
   "execution_count": 8,
   "id": "4affbb90",
   "metadata": {},
   "outputs": [
    {
     "name": "stdout",
     "output_type": "stream",
     "text": [
      "the value of x is 0\n",
      "the value of x is 1\n",
      "the value of x is 2\n",
      "the value of x is 3\n",
      "the value of x is 4\n",
      "the value of x is 5\n"
     ]
    }
   ],
   "source": [
    "x = 0\n",
    "\n",
    "while x<6:\n",
    "     print(f'the value of x is {x}')              #while loop\n",
    "     x = x + 1\n"
   ]
  },
  {
   "cell_type": "code",
   "execution_count": 9,
   "id": "4a4ffda1",
   "metadata": {},
   "outputs": [],
   "source": [
    " x = 1"
   ]
  },
  {
   "cell_type": "code",
   "execution_count": null,
   "id": "bbeba512",
   "metadata": {},
   "outputs": [],
   "source": [
    "while x<2:\n",
    "    print(f'the current value of is {x}')\n",
    "    x = x + 1"
   ]
  },
  {
   "cell_type": "code",
   "execution_count": null,
   "id": "0d784c38",
   "metadata": {},
   "outputs": [],
   "source": [
    "x = 0\n",
    "\n",
    "while x<6:\n",
    "     print(f'the value of x is {x}')              #while loop\n",
    "     x = x + 1\n",
    "else:\n",
    "    print('the value of x is 1')"
   ]
  },
  {
   "cell_type": "code",
   "execution_count": 16,
   "id": "93e77764",
   "metadata": {},
   "outputs": [
    {
     "name": "stdout",
     "output_type": "stream",
     "text": [
      "hello\n",
      "hello\n",
      "hello\n",
      "hello\n",
      "hello\n"
     ]
    }
   ],
   "source": [
    "mystring = 'hello'\n",
    "\n",
    "for stri in mystring:\n",
    "    print(mystring)                            #pass\n",
    "    pass\n"
   ]
  },
  {
   "cell_type": "code",
   "execution_count": 27,
   "id": "ae06273e",
   "metadata": {},
   "outputs": [
    {
     "name": "stdout",
     "output_type": "stream",
     "text": [
      "e\n",
      "l\n",
      "l\n",
      "o\n"
     ]
    }
   ],
   "source": [
    "mystring = 'hello'\n",
    "\n",
    "\n",
    "for stri in mystring:\n",
    "    if stri =='h':\n",
    "        continue                             #continue\n",
    "    print(stri)                            \n",
    "\n",
    "\n",
    "                            \n",
    "    \n"
   ]
  },
  {
   "cell_type": "code",
   "execution_count": 3,
   "id": "ffae216a",
   "metadata": {},
   "outputs": [],
   "source": [
    "mystring = 'hello'\n",
    "\n",
    "\n",
    "for stri in mystring:\n",
    "    if stri =='h':\n",
    "        break                             #break\n",
    "    print(stri)                            \n",
    "\n"
   ]
  },
  {
   "cell_type": "code",
   "execution_count": null,
   "id": "4a0b8fc2",
   "metadata": {},
   "outputs": [],
   "source": []
  },
  {
   "cell_type": "code",
   "execution_count": null,
   "id": "23011102",
   "metadata": {},
   "outputs": [],
   "source": []
  }
 ],
 "metadata": {
  "kernelspec": {
   "display_name": "Python 3",
   "language": "python",
   "name": "python3"
  },
  "language_info": {
   "codemirror_mode": {
    "name": "ipython",
    "version": 3
   },
   "file_extension": ".py",
   "mimetype": "text/x-python",
   "name": "python",
   "nbconvert_exporter": "python",
   "pygments_lexer": "ipython3",
   "version": "3.8.8"
  }
 },
 "nbformat": 4,
 "nbformat_minor": 5
}

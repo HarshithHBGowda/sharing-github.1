{
 "cells": [
  {
   "cell_type": "code",
   "execution_count": 1,
   "id": "20de2975",
   "metadata": {},
   "outputs": [],
   "source": [
    "#unque way of quickly creating new list"
   ]
  },
  {
   "cell_type": "code",
   "execution_count": 6,
   "id": "e6794bc7",
   "metadata": {},
   "outputs": [],
   "source": [
    "mystring = 'hello'\n",
    "    "
   ]
  },
  {
   "cell_type": "code",
   "execution_count": 7,
   "id": "1647e818",
   "metadata": {},
   "outputs": [],
   "source": [
    "mylist =[]"
   ]
  },
  {
   "cell_type": "code",
   "execution_count": 9,
   "id": "674e75d2",
   "metadata": {},
   "outputs": [],
   "source": [
    "for letter in mystring:\n",
    "    mylist.append(letter)"
   ]
  },
  {
   "cell_type": "code",
   "execution_count": 10,
   "id": "bf3402a1",
   "metadata": {},
   "outputs": [
    {
     "data": {
      "text/plain": [
       "['h', 'e', 'l', 'l', 'o', 'h', 'e', 'l', 'l', 'o']"
      ]
     },
     "execution_count": 10,
     "metadata": {},
     "output_type": "execute_result"
    }
   ],
   "source": [
    "mylist"
   ]
  },
  {
   "cell_type": "code",
   "execution_count": 13,
   "id": "83a9017e",
   "metadata": {},
   "outputs": [],
   "source": [
    "mylist=[letter for letter in mystring]                           #exact same thing in sin gle line"
   ]
  },
  {
   "cell_type": "code",
   "execution_count": 12,
   "id": "4b557cc3",
   "metadata": {},
   "outputs": [
    {
     "data": {
      "text/plain": [
       "['h', 'e', 'l', 'l', 'o']"
      ]
     },
     "execution_count": 12,
     "metadata": {},
     "output_type": "execute_result"
    }
   ],
   "source": [
    "mylist"
   ]
  },
  {
   "cell_type": "code",
   "execution_count": 14,
   "id": "5233800c",
   "metadata": {},
   "outputs": [],
   "source": [
    "mystr = 'old'"
   ]
  },
  {
   "cell_type": "code",
   "execution_count": 17,
   "id": "5a323e2c",
   "metadata": {},
   "outputs": [],
   "source": [
    "myst=[sss for sss in mystr]"
   ]
  },
  {
   "cell_type": "code",
   "execution_count": 18,
   "id": "27b44a9a",
   "metadata": {},
   "outputs": [
    {
     "data": {
      "text/plain": [
       "['o', 'l', 'd']"
      ]
     },
     "execution_count": 18,
     "metadata": {},
     "output_type": "execute_result"
    }
   ],
   "source": [
    "myst"
   ]
  },
  {
   "cell_type": "code",
   "execution_count": 22,
   "id": "48af4fb9",
   "metadata": {},
   "outputs": [],
   "source": [
    "air = 'grass'\n",
    "BSNL=[wwe for wwe in 'grass']"
   ]
  },
  {
   "cell_type": "code",
   "execution_count": 23,
   "id": "62a66266",
   "metadata": {},
   "outputs": [
    {
     "name": "stdout",
     "output_type": "stream",
     "text": [
      "['g', 'r', 'a', 's', 's']\n"
     ]
    }
   ],
   "source": [
    "print(BSNL)"
   ]
  },
  {
   "cell_type": "code",
   "execution_count": 24,
   "id": "58c1e0b4",
   "metadata": {},
   "outputs": [],
   "source": [
    "#by using range"
   ]
  },
  {
   "cell_type": "code",
   "execution_count": 25,
   "id": "d844a5ca",
   "metadata": {},
   "outputs": [],
   "source": [
    "mysum=[num for num in range(2,9)]"
   ]
  },
  {
   "cell_type": "code",
   "execution_count": 26,
   "id": "894d626b",
   "metadata": {},
   "outputs": [
    {
     "data": {
      "text/plain": [
       "[2, 3, 4, 5, 6, 7, 8]"
      ]
     },
     "execution_count": 26,
     "metadata": {},
     "output_type": "execute_result"
    }
   ],
   "source": [
    "mysum"
   ]
  },
  {
   "cell_type": "code",
   "execution_count": 27,
   "id": "74ba0499",
   "metadata": {},
   "outputs": [],
   "source": [
    "mysub=[num-2 for num in range(0,9)]"
   ]
  },
  {
   "cell_type": "code",
   "execution_count": 28,
   "id": "a3754634",
   "metadata": {},
   "outputs": [
    {
     "data": {
      "text/plain": [
       "[-2, -1, 0, 1, 2, 3, 4, 5, 6]"
      ]
     },
     "execution_count": 28,
     "metadata": {},
     "output_type": "execute_result"
    }
   ],
   "source": [
    "mysub"
   ]
  },
  {
   "cell_type": "code",
   "execution_count": 33,
   "id": "86c23104",
   "metadata": {},
   "outputs": [],
   "source": [
    "myadd=[num+2 for num in range(10,20)]"
   ]
  },
  {
   "cell_type": "code",
   "execution_count": 35,
   "id": "7a931277",
   "metadata": {},
   "outputs": [
    {
     "data": {
      "text/plain": [
       "[12, 13, 14, 15, 16, 17, 18, 19, 20, 21]"
      ]
     },
     "execution_count": 35,
     "metadata": {},
     "output_type": "execute_result"
    }
   ],
   "source": [
    "myadd"
   ]
  },
  {
   "cell_type": "code",
   "execution_count": 36,
   "id": "0ed51844",
   "metadata": {},
   "outputs": [],
   "source": [
    "mysqr=[num**1 for num in range(1,2)]"
   ]
  },
  {
   "cell_type": "code",
   "execution_count": 37,
   "id": "88695ab5",
   "metadata": {},
   "outputs": [
    {
     "data": {
      "text/plain": [
       "[1]"
      ]
     },
     "execution_count": 37,
     "metadata": {},
     "output_type": "execute_result"
    }
   ],
   "source": [
    "mysqr"
   ]
  },
  {
   "cell_type": "code",
   "execution_count": 38,
   "id": "c3ffae65",
   "metadata": {},
   "outputs": [],
   "source": [
    "mydiv=[num/1 for num in range(2,1)]"
   ]
  },
  {
   "cell_type": "code",
   "execution_count": 39,
   "id": "a1ef78a8",
   "metadata": {},
   "outputs": [
    {
     "data": {
      "text/plain": [
       "[]"
      ]
     },
     "execution_count": 39,
     "metadata": {},
     "output_type": "execute_result"
    }
   ],
   "source": [
    "mydiv"
   ]
  },
  {
   "cell_type": "code",
   "execution_count": 40,
   "id": "908d968e",
   "metadata": {},
   "outputs": [],
   "source": [
    "#we can also add if statment into this"
   ]
  },
  {
   "cell_type": "code",
   "execution_count": 43,
   "id": "14169d4f",
   "metadata": {},
   "outputs": [],
   "source": [
    "myif=[sub for sub in range(12,22) if sub - 1]"
   ]
  },
  {
   "cell_type": "code",
   "execution_count": 4,
   "id": "35fec9d9",
   "metadata": {},
   "outputs": [
    {
     "data": {
      "text/plain": [
       "[12, 13, 14, 15, 16, 17, 18, 19, 20, 21]"
      ]
     },
     "execution_count": 4,
     "metadata": {},
     "output_type": "execute_result"
    }
   ],
   "source": [
    "myif"
   ]
  },
  {
   "cell_type": "code",
   "execution_count": 5,
   "id": "1e49c6a0",
   "metadata": {},
   "outputs": [],
   "source": [
    "myif=[sub for sub in range(12,22) if sub - 122]"
   ]
  },
  {
   "cell_type": "code",
   "execution_count": 6,
   "id": "bbb65b6e",
   "metadata": {},
   "outputs": [
    {
     "data": {
      "text/plain": [
       "[12, 13, 14, 15, 16, 17, 18, 19, 20, 21]"
      ]
     },
     "execution_count": 6,
     "metadata": {},
     "output_type": "execute_result"
    }
   ],
   "source": [
    "myif"
   ]
  },
  {
   "cell_type": "code",
   "execution_count": 55,
   "id": "135d57c8",
   "metadata": {},
   "outputs": [],
   "source": [
    "myif=[mat for mat in range(42,44) if mat + 1]"
   ]
  },
  {
   "cell_type": "code",
   "execution_count": 7,
   "id": "414c28ec",
   "metadata": {},
   "outputs": [
    {
     "data": {
      "text/plain": [
       "[12, 13, 14, 15, 16, 17, 18, 19, 20, 21]"
      ]
     },
     "execution_count": 7,
     "metadata": {},
     "output_type": "execute_result"
    }
   ],
   "source": [
    "myif"
   ]
  },
  {
   "cell_type": "code",
   "execution_count": 10,
   "id": "9333dcee",
   "metadata": {},
   "outputs": [],
   "source": [
    "myf=[math for math in range(12,2) if math - 1]"
   ]
  },
  {
   "cell_type": "code",
   "execution_count": 11,
   "id": "33e621c3",
   "metadata": {},
   "outputs": [
    {
     "data": {
      "text/plain": [
       "[]"
      ]
     },
     "execution_count": 11,
     "metadata": {},
     "output_type": "execute_result"
    }
   ],
   "source": [
    "myf"
   ]
  },
  {
   "cell_type": "code",
   "execution_count": 15,
   "id": "ed95c1d8",
   "metadata": {},
   "outputs": [],
   "source": [
    "celius=[0,10,20,30,40]"
   ]
  },
  {
   "cell_type": "code",
   "execution_count": 16,
   "id": "5a5a3f8d",
   "metadata": {},
   "outputs": [],
   "source": [
    "fahrenite=[]"
   ]
  },
  {
   "cell_type": "code",
   "execution_count": 23,
   "id": "0bd9b781",
   "metadata": {
    "scrolled": true
   },
   "outputs": [],
   "source": [
    "for temp in celius:\n",
    "    fahrenite.append(((9/5)*temp + 32))                      #for loop method              \n",
    "    "
   ]
  },
  {
   "cell_type": "code",
   "execution_count": 24,
   "id": "79b5d79a",
   "metadata": {},
   "outputs": [
    {
     "data": {
      "text/plain": [
       "[32.0, 50.0, 68.0, 86.0, 104.0, 32.0, 50.0, 68.0, 86.0, 104.0]"
      ]
     },
     "execution_count": 24,
     "metadata": {},
     "output_type": "execute_result"
    }
   ],
   "source": [
    " fahrenite"
   ]
  },
  {
   "cell_type": "code",
   "execution_count": 26,
   "id": "1a562586",
   "metadata": {},
   "outputs": [],
   "source": [
    "celius = [0,10,20,30,40]"
   ]
  },
  {
   "cell_type": "code",
   "execution_count": 28,
   "id": "2a07150d",
   "metadata": {},
   "outputs": [],
   "source": [
    "fahrenite=[((9/5)*temp + 32) for temp in celius]"
   ]
  },
  {
   "cell_type": "code",
   "execution_count": 29,
   "id": "ab778c6f",
   "metadata": {},
   "outputs": [
    {
     "data": {
      "text/plain": [
       "[32.0, 50.0, 68.0, 86.0, 104.0]"
      ]
     },
     "execution_count": 29,
     "metadata": {},
     "output_type": "execute_result"
    }
   ],
   "source": [
    "fahrenite                                                 #single line flattend"
   ]
  },
  {
   "cell_type": "code",
   "execution_count": 33,
   "id": "03227b76",
   "metadata": {},
   "outputs": [],
   "source": [
    "sqr = [2,4,6,8]"
   ]
  },
  {
   "cell_type": "code",
   "execution_count": 37,
   "id": "6df0763d",
   "metadata": {},
   "outputs": [],
   "source": [
    "ice=[yup+22 for yup in sqr]"
   ]
  },
  {
   "cell_type": "code",
   "execution_count": 38,
   "id": "982adf21",
   "metadata": {},
   "outputs": [
    {
     "data": {
      "text/plain": [
       "[24, 26, 28, 30]"
      ]
     },
     "execution_count": 38,
     "metadata": {},
     "output_type": "execute_result"
    }
   ],
   "source": [
    "ice"
   ]
  },
  {
   "cell_type": "code",
   "execution_count": 39,
   "id": "a3532447",
   "metadata": {},
   "outputs": [],
   "source": [
    "sea = [12,24,36,60]"
   ]
  },
  {
   "cell_type": "code",
   "execution_count": 40,
   "id": "ba752497",
   "metadata": {},
   "outputs": [],
   "source": [
    "cool=[(2-2+3)*temp for temp in sea]"
   ]
  },
  {
   "cell_type": "code",
   "execution_count": 41,
   "id": "554604e7",
   "metadata": {},
   "outputs": [
    {
     "data": {
      "text/plain": [
       "[12, 24, 36, 60]"
      ]
     },
     "execution_count": 41,
     "metadata": {},
     "output_type": "execute_result"
    }
   ],
   "source": [
    "sea"
   ]
  },
  {
   "cell_type": "code",
   "execution_count": 42,
   "id": "92bb9c67",
   "metadata": {},
   "outputs": [],
   "source": [
    "#using if else into these"
   ]
  },
  {
   "cell_type": "code",
   "execution_count": 43,
   "id": "dcb23fb8",
   "metadata": {},
   "outputs": [],
   "source": [
    "cool =1,2,3,4,5,6,7"
   ]
  },
  {
   "cell_type": "code",
   "execution_count": 50,
   "id": "38ec44b1",
   "metadata": {},
   "outputs": [],
   "source": [
    "odd=[x if x%2 else'ok its not even' for x in cool]"
   ]
  },
  {
   "cell_type": "code",
   "execution_count": 48,
   "id": "3b6b46f0",
   "metadata": {},
   "outputs": [
    {
     "data": {
      "text/plain": [
       "[1, 'ok its not even', 3, 'ok its not even', 5, 'ok its not even', 7]"
      ]
     },
     "execution_count": 48,
     "metadata": {},
     "output_type": "execute_result"
    }
   ],
   "source": [
    "odd"
   ]
  },
  {
   "cell_type": "code",
   "execution_count": 51,
   "id": "5eea8528",
   "metadata": {},
   "outputs": [],
   "source": [
    "well = 'abc','bca','aca'"
   ]
  },
  {
   "cell_type": "code",
   "execution_count": 52,
   "id": "bf7e1500",
   "metadata": {},
   "outputs": [],
   "source": [
    "bell=[uk if 'uk is in abc'else 'not in it' for uk in well]"
   ]
  },
  {
   "cell_type": "code",
   "execution_count": 53,
   "id": "a319c6f5",
   "metadata": {},
   "outputs": [
    {
     "data": {
      "text/plain": [
       "['abc', 'bca', 'aca']"
      ]
     },
     "execution_count": 53,
     "metadata": {},
     "output_type": "execute_result"
    }
   ],
   "source": [
    "bell"
   ]
  },
  {
   "cell_type": "code",
   "execution_count": 54,
   "id": "85df26ca",
   "metadata": {},
   "outputs": [],
   "source": [
    "results = [1,2,3,4,5,6,7]"
   ]
  },
  {
   "cell_type": "code",
   "execution_count": 55,
   "id": "feab19e2",
   "metadata": {},
   "outputs": [],
   "source": [
    "pas=[x if x>=1 else 'ok' for x in range(1,4)]"
   ]
  },
  {
   "cell_type": "code",
   "execution_count": 56,
   "id": "8135cf29",
   "metadata": {},
   "outputs": [
    {
     "data": {
      "text/plain": [
       "[1, 2, 3]"
      ]
     },
     "execution_count": 56,
     "metadata": {},
     "output_type": "execute_result"
    }
   ],
   "source": [
    "pas"
   ]
  },
  {
   "cell_type": "code",
   "execution_count": 59,
   "id": "467e58fa",
   "metadata": {},
   "outputs": [],
   "source": [
    "x =[1,2,3]\n",
    "y= [2,3,4]\n"
   ]
  },
  {
   "cell_type": "code",
   "execution_count": 69,
   "id": "66c6f5fb",
   "metadata": {},
   "outputs": [],
   "source": [
    "results=[x*y for x in x  ]"
   ]
  },
  {
   "cell_type": "code",
   "execution_count": 70,
   "id": "7b7ec5b6",
   "metadata": {},
   "outputs": [
    {
     "data": {
      "text/plain": [
       "[[2, 3, 4], [2, 3, 4, 2, 3, 4], [2, 3, 4, 2, 3, 4, 2, 3, 4]]"
      ]
     },
     "execution_count": 70,
     "metadata": {},
     "output_type": "execute_result"
    }
   ],
   "source": [
    "results"
   ]
  },
  {
   "cell_type": "code",
   "execution_count": null,
   "id": "88bc0be6",
   "metadata": {},
   "outputs": [],
   "source": [
    "x =[1,2,3]\n",
    "y= [2,3,4]\n"
   ]
  },
  {
   "cell_type": "code",
   "execution_count": null,
   "id": "f02df23d",
   "metadata": {},
   "outputs": [],
   "source": [
    "results=[x*y for x in [1,2,3] for  y in [2,3,4] ]"
   ]
  },
  {
   "cell_type": "code",
   "execution_count": 73,
   "id": "a56cc51d",
   "metadata": {},
   "outputs": [
    {
     "data": {
      "text/plain": [
       "[2, 3, 4, 4, 6, 8, 6, 9, 12]"
      ]
     },
     "execution_count": 73,
     "metadata": {},
     "output_type": "execute_result"
    }
   ],
   "source": [
    "results"
   ]
  },
  {
   "cell_type": "code",
   "execution_count": null,
   "id": "03badfca",
   "metadata": {},
   "outputs": [],
   "source": []
  }
 ],
 "metadata": {
  "kernelspec": {
   "display_name": "Python 3",
   "language": "python",
   "name": "python3"
  },
  "language_info": {
   "codemirror_mode": {
    "name": "ipython",
    "version": 3
   },
   "file_extension": ".py",
   "mimetype": "text/x-python",
   "name": "python",
   "nbconvert_exporter": "python",
   "pygments_lexer": "ipython3",
   "version": "3.8.8"
  }
 },
 "nbformat": 4,
 "nbformat_minor": 5
}

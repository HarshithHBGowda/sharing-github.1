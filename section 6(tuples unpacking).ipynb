{
 "cells": [
  {
   "cell_type": "code",
   "execution_count": 1,
   "id": "771014a1",
   "metadata": {},
   "outputs": [],
   "source": [
    "#tuples unpacking\n"
   ]
  },
  {
   "cell_type": "code",
   "execution_count": 3,
   "id": "669ad0fc",
   "metadata": {},
   "outputs": [],
   "source": [
    "work_hours=[('apple',400),('grahpes',300)]"
   ]
  },
  {
   "cell_type": "code",
   "execution_count": 5,
   "id": "c91ab9e6",
   "metadata": {},
   "outputs": [
    {
     "name": "stdout",
     "output_type": "stream",
     "text": [
      "('apple', 400)\n",
      "('grahpes', 300)\n"
     ]
    }
   ],
   "source": [
    "for friut in work_hours:\n",
    "    print(friut)                                  #tuple unpacking"
   ]
  },
  {
   "cell_type": "code",
   "execution_count": 6,
   "id": "c61a8d2a",
   "metadata": {},
   "outputs": [],
   "source": [
    "tree=[('teak',200),('silver',300),('cocu',500)]"
   ]
  },
  {
   "cell_type": "code",
   "execution_count": 15,
   "id": "1329fd75",
   "metadata": {},
   "outputs": [
    {
     "name": "stdout",
     "output_type": "stream",
     "text": [
      "cocu\n",
      "200\n",
      "cocu\n",
      "300\n",
      "cocu\n",
      "500\n"
     ]
    }
   ],
   "source": [
    "for leveas ,branches in tree:\n",
    "    print(leaves)\n",
    "    print(branches)"
   ]
  },
  {
   "cell_type": "code",
   "execution_count": 18,
   "id": "f504a603",
   "metadata": {},
   "outputs": [],
   "source": [
    "tree=[('teak',200),('silver',300),('cocu',50)]"
   ]
  },
  {
   "cell_type": "code",
   "execution_count": 19,
   "id": "954479aa",
   "metadata": {},
   "outputs": [
    {
     "name": "stdout",
     "output_type": "stream",
     "text": [
      "cocu\n",
      "200\n",
      "\t\n",
      "cocu\n",
      "300\n",
      "\t\n",
      "cocu\n",
      "50\n",
      "\t\n"
     ]
    }
   ],
   "source": [
    "for leveas ,branches in tree:\n",
    "    print(leaves)\n",
    "    print(branches)\n",
    "    print('\\t')"
   ]
  },
  {
   "cell_type": "code",
   "execution_count": 1,
   "id": "6db4017c",
   "metadata": {},
   "outputs": [],
   "source": [
    "#tuple unpacking bt using def keyword"
   ]
  },
  {
   "cell_type": "code",
   "execution_count": 54,
   "id": "57ab756e",
   "metadata": {},
   "outputs": [],
   "source": [
    "work_hours = [('harsh',10 ),('gowda',200),('hbs',500)]"
   ]
  },
  {
   "cell_type": "code",
   "execution_count": 59,
   "id": "888b2af4",
   "metadata": {},
   "outputs": [],
   "source": [
    "def com_emp(work_hours):  \n",
    "    \n",
    "    current_max = 0 \n",
    "    \n",
    "    \n",
    "    emp_of_the_comp = ''    \n",
    "    \n",
    "    for empl,hours in work_hours:\n",
    "         \n",
    "        if hours > current_max: \n",
    "            current_max = hours\n",
    "            emp_of_the_comp = empl   \n",
    "        \n",
    "        else: \n",
    "            pass \n",
    "    \n",
    "    return(empl,current_max)\n",
    "   "
   ]
  },
  {
   "cell_type": "code",
   "execution_count": 60,
   "id": "c4361962",
   "metadata": {},
   "outputs": [
    {
     "data": {
      "text/plain": [
       "('hbs', 500)"
      ]
     },
     "execution_count": 60,
     "metadata": {},
     "output_type": "execute_result"
    }
   ],
   "source": [
    "com_emp(work_hours)"
   ]
  },
  {
   "cell_type": "code",
   "execution_count": null,
   "id": "3dd1dbdc",
   "metadata": {},
   "outputs": [],
   "source": []
  },
  {
   "cell_type": "code",
   "execution_count": null,
   "id": "80b162e6",
   "metadata": {},
   "outputs": [],
   "source": []
  },
  {
   "cell_type": "raw",
   "id": "2473eeb5",
   "metadata": {},
   "source": []
  },
  {
   "cell_type": "code",
   "execution_count": null,
   "id": "1b23cca3",
   "metadata": {},
   "outputs": [],
   "source": []
  },
  {
   "cell_type": "code",
   "execution_count": null,
   "id": "b631e519",
   "metadata": {},
   "outputs": [],
   "source": []
  }
 ],
 "metadata": {
  "kernelspec": {
   "display_name": "Python 3",
   "language": "python",
   "name": "python3"
  },
  "language_info": {
   "codemirror_mode": {
    "name": "ipython",
    "version": 3
   },
   "file_extension": ".py",
   "mimetype": "text/x-python",
   "name": "python",
   "nbconvert_exporter": "python",
   "pygments_lexer": "ipython3",
   "version": "3.8.8"
  }
 },
 "nbformat": 4,
 "nbformat_minor": 5
}

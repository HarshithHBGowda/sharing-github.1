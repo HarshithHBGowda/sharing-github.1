{
 "cells": [
  {
   "cell_type": "code",
   "execution_count": 1,
   "id": "d4fbe642",
   "metadata": {},
   "outputs": [],
   "source": [
    "#shulling without using def"
   ]
  },
  {
   "cell_type": "code",
   "execution_count": 9,
   "id": "274c60b3",
   "metadata": {},
   "outputs": [],
   "source": [
    "myword = [1,2,3,4,5,6,7,8]"
   ]
  },
  {
   "cell_type": "code",
   "execution_count": 10,
   "id": "d9a66add",
   "metadata": {},
   "outputs": [],
   "source": [
    "from random import shuffle"
   ]
  },
  {
   "cell_type": "code",
   "execution_count": 11,
   "id": "3cd5cc35",
   "metadata": {},
   "outputs": [],
   "source": [
    "shuffle(myword)"
   ]
  },
  {
   "cell_type": "code",
   "execution_count": 13,
   "id": "27dbc0a9",
   "metadata": {},
   "outputs": [
    {
     "data": {
      "text/plain": [
       "[1, 8, 6, 5, 2, 3, 7, 4]"
      ]
     },
     "execution_count": 13,
     "metadata": {},
     "output_type": "execute_result"
    }
   ],
   "source": [
    "myword"
   ]
  },
  {
   "cell_type": "code",
   "execution_count": 14,
   "id": "16ccd92d",
   "metadata": {},
   "outputs": [],
   "source": [
    "ex =[1,2,3]"
   ]
  },
  {
   "cell_type": "code",
   "execution_count": 16,
   "id": "31a1b4ae",
   "metadata": {},
   "outputs": [],
   "source": [
    "from random import shuffle\n",
    "    "
   ]
  },
  {
   "cell_type": "code",
   "execution_count": 17,
   "id": "674c2046",
   "metadata": {},
   "outputs": [],
   "source": [
    "res = shuffle(ex)"
   ]
  },
  {
   "cell_type": "code",
   "execution_count": 20,
   "id": "eaa238b9",
   "metadata": {},
   "outputs": [
    {
     "data": {
      "text/plain": [
       "[3, 2, 1]"
      ]
     },
     "execution_count": 20,
     "metadata": {},
     "output_type": "execute_result"
    }
   ],
   "source": [
    "ex"
   ]
  },
  {
   "cell_type": "code",
   "execution_count": 21,
   "id": "9cb56bad",
   "metadata": {},
   "outputs": [],
   "source": [
    "#by using def keyword"
   ]
  },
  {
   "cell_type": "code",
   "execution_count": 29,
   "id": "cfc68c7f",
   "metadata": {},
   "outputs": [],
   "source": [
    "def sfl(ex):\n",
    "    shuffle(ex)\n",
    "    return ex\n",
    "    "
   ]
  },
  {
   "cell_type": "code",
   "execution_count": 30,
   "id": "5bc12d88",
   "metadata": {},
   "outputs": [
    {
     "data": {
      "text/plain": [
       "[3, 1, 2]"
      ]
     },
     "execution_count": 30,
     "metadata": {},
     "output_type": "execute_result"
    }
   ],
   "source": [
    "sfl(ex)"
   ]
  },
  {
   "cell_type": "code",
   "execution_count": 38,
   "id": "81bd6baf",
   "metadata": {},
   "outputs": [],
   "source": [
    "word =[1,2,3,4,5]"
   ]
  },
  {
   "cell_type": "code",
   "execution_count": 39,
   "id": "0737b35f",
   "metadata": {},
   "outputs": [],
   "source": [
    "def numb(word):\n",
    "    shuffle(word)\n",
    "    return word\n",
    "    "
   ]
  },
  {
   "cell_type": "code",
   "execution_count": 43,
   "id": "4b2b3b3c",
   "metadata": {},
   "outputs": [
    {
     "data": {
      "text/plain": [
       "[5, 4, 1, 2, 3]"
      ]
     },
     "execution_count": 43,
     "metadata": {},
     "output_type": "execute_result"
    }
   ],
   "source": [
    "numb(word)"
   ]
  },
  {
   "cell_type": "code",
   "execution_count": 44,
   "id": "e5d5bcce",
   "metadata": {},
   "outputs": [],
   "source": [
    "game = ['',['0'],'']                                 "
   ]
  },
  {
   "cell_type": "code",
   "execution_count": 45,
   "id": "24149855",
   "metadata": {},
   "outputs": [],
   "source": [
    "shuffle(game)"
   ]
  },
  {
   "cell_type": "code",
   "execution_count": 47,
   "id": "72c3bd9b",
   "metadata": {},
   "outputs": [
    {
     "data": {
      "text/plain": [
       "['', '', ['0']]"
      ]
     },
     "execution_count": 47,
     "metadata": {},
     "output_type": "execute_result"
    }
   ],
   "source": [
    "game"
   ]
  },
  {
   "cell_type": "code",
   "execution_count": 55,
   "id": "75644039",
   "metadata": {},
   "outputs": [],
   "source": [
    "mylist =['','0','']"
   ]
  },
  {
   "cell_type": "code",
   "execution_count": 10,
   "id": "5f57a8d7",
   "metadata": {},
   "outputs": [],
   "source": [
    "def player_guess():\n",
    "    \n",
    "    guess='' \n",
    "    \n",
    "    while guess not in ['0','1','2']:\n",
    "         guess = input('pick a number:0,1,or 2')\n",
    "    return int(guess)"
   ]
  },
  {
   "cell_type": "code",
   "execution_count": null,
   "id": "ed5e47d8",
   "metadata": {},
   "outputs": [],
   "source": [
    "player_guess()"
   ]
  },
  {
   "cell_type": "code",
   "execution_count": null,
   "id": "40361d7a",
   "metadata": {},
   "outputs": [],
   "source": [
    "def check_guess(mylist,guess):\n",
    "    if mylist[guess]=='0':\n",
    "        print('correct')\n",
    "    else:\n",
    "        print('wrong')"
   ]
  },
  {
   "cell_type": "code",
   "execution_count": null,
   "id": "8a31b136",
   "metadata": {},
   "outputs": [],
   "source": [
    "print(mylist)"
   ]
  },
  {
   "cell_type": "code",
   "execution_count": null,
   "id": "ef6c87bb",
   "metadata": {},
   "outputs": [],
   "source": []
  },
  {
   "cell_type": "code",
   "execution_count": null,
   "id": "3a88402f",
   "metadata": {},
   "outputs": [],
   "source": []
  }
 ],
 "metadata": {
  "kernelspec": {
   "display_name": "Python 3",
   "language": "python",
   "name": "python3"
  },
  "language_info": {
   "codemirror_mode": {
    "name": "ipython",
    "version": 3
   },
   "file_extension": ".py",
   "mimetype": "text/x-python",
   "name": "python",
   "nbconvert_exporter": "python",
   "pygments_lexer": "ipython3",
   "version": "3.8.8"
  }
 },
 "nbformat": 4,
 "nbformat_minor": 5
}

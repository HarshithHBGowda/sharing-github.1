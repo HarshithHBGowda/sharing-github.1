{
 "cells": [
  {
   "cell_type": "code",
   "execution_count": 5,
   "id": "6814ef43",
   "metadata": {},
   "outputs": [],
   "source": [
    "def myfunc(a,b):\n",
    "    return ((a+b)*.05)                        #poistinal arguments"
   ]
  },
  {
   "cell_type": "code",
   "execution_count": 6,
   "id": "308ed0f7",
   "metadata": {},
   "outputs": [
    {
     "data": {
      "text/plain": [
       "1.5"
      ]
     },
     "execution_count": 6,
     "metadata": {},
     "output_type": "execute_result"
    }
   ],
   "source": [
    "myfunc(10,20)"
   ]
  },
  {
   "cell_type": "code",
   "execution_count": 21,
   "id": "b02a6518",
   "metadata": {},
   "outputs": [],
   "source": [
    "def myfun(a,b,c=0,d=0): \n",
    "    return ((a+b+c+d)*.5)"
   ]
  },
  {
   "cell_type": "code",
   "execution_count": 22,
   "id": "c28ba5b5",
   "metadata": {},
   "outputs": [
    {
     "data": {
      "text/plain": [
       "9.0"
      ]
     },
     "execution_count": 22,
     "metadata": {},
     "output_type": "execute_result"
    }
   ],
   "source": [
    "myfun(1,3,5,9)"
   ]
  },
  {
   "cell_type": "code",
   "execution_count": 29,
   "id": "de4528e7",
   "metadata": {},
   "outputs": [],
   "source": [
    "def myfun(*args):\n",
    "    return sum(args)\n",
    "                                                  #*args(multiple arguments):"
   ]
  },
  {
   "cell_type": "code",
   "execution_count": 30,
   "id": "8e7d04ee",
   "metadata": {},
   "outputs": [
    {
     "data": {
      "text/plain": [
       "100"
      ]
     },
     "execution_count": 30,
     "metadata": {},
     "output_type": "execute_result"
    }
   ],
   "source": [
    "myfun(10,20,30,40)"
   ]
  },
  {
   "cell_type": "code",
   "execution_count": 31,
   "id": "1362ccb9",
   "metadata": {},
   "outputs": [],
   "source": [
    "def myfun(*args):\n",
    "    return (args)\n",
    "                        "
   ]
  },
  {
   "cell_type": "code",
   "execution_count": 32,
   "id": "f2e266a2",
   "metadata": {},
   "outputs": [
    {
     "data": {
      "text/plain": [
       "(1, 2, 3, 4, 5, 5, 6)"
      ]
     },
     "execution_count": 32,
     "metadata": {},
     "output_type": "execute_result"
    }
   ],
   "source": [
    "myfun(1,2,3,4,5,5,6)"
   ]
  },
  {
   "cell_type": "code",
   "execution_count": 42,
   "id": "33f6060a",
   "metadata": {},
   "outputs": [],
   "source": [
    "def sub (*spam):\n",
    "    print(spam)"
   ]
  },
  {
   "cell_type": "code",
   "execution_count": 43,
   "id": "6e7108b4",
   "metadata": {},
   "outputs": [
    {
     "name": "stdout",
     "output_type": "stream",
     "text": [
      "()\n"
     ]
    }
   ],
   "source": [
    "res=sub()"
   ]
  },
  {
   "cell_type": "code",
   "execution_count": 56,
   "id": "b8e63e95",
   "metadata": {},
   "outputs": [],
   "source": [
    "def num(*add):\n",
    "    return(add)\n",
    "   \n",
    "  "
   ]
  },
  {
   "cell_type": "code",
   "execution_count": 58,
   "id": "4363e25d",
   "metadata": {},
   "outputs": [
    {
     "data": {
      "text/plain": [
       "(20, 20, 20)"
      ]
     },
     "execution_count": 58,
     "metadata": {},
     "output_type": "execute_result"
    }
   ],
   "source": [
    "num(20,20,20)                                  #args return tuple"
   ]
  },
  {
   "cell_type": "code",
   "execution_count": 59,
   "id": "e1f64cc1",
   "metadata": {},
   "outputs": [],
   "source": [
    "def mul(*shell):\n",
    "    return(shell)"
   ]
  },
  {
   "cell_type": "code",
   "execution_count": 61,
   "id": "0906b6f5",
   "metadata": {},
   "outputs": [
    {
     "data": {
      "text/plain": [
       "(2, 3, 4, 5, 6, 6, 4)"
      ]
     },
     "execution_count": 61,
     "metadata": {},
     "output_type": "execute_result"
    }
   ],
   "source": [
    "mul(2,3,4,5,6,6,4)"
   ]
  },
  {
   "cell_type": "code",
   "execution_count": 78,
   "id": "44bd6f61",
   "metadata": {},
   "outputs": [],
   "source": [
    "    def add(**kwargs):\n",
    "        \n",
    "        print('the world is full{}'.format(kwargs['key']))\n",
    "                                                                         #kwargs "
   ]
  },
  {
   "cell_type": "code",
   "execution_count": 79,
   "id": "d13cc5c5",
   "metadata": {},
   "outputs": [
    {
     "name": "stdout",
     "output_type": "stream",
     "text": [
      "the world is fullvalue1\n"
     ]
    }
   ],
   "source": [
    "add(key='value1',key2='value2')"
   ]
  },
  {
   "cell_type": "code",
   "execution_count": 80,
   "id": "850a35e2",
   "metadata": {},
   "outputs": [],
   "source": [
    "def dictn (**kwargs):\n",
    "    print(kwargs)"
   ]
  },
  {
   "cell_type": "code",
   "execution_count": 82,
   "id": "da9696c0",
   "metadata": {},
   "outputs": [
    {
     "name": "stdout",
     "output_type": "stream",
     "text": [
      "{'ok': 'hai'}\n"
     ]
    }
   ],
   "source": [
    "dictn(ok ='hai')                                                       #it will print the dictinories "
   ]
  },
  {
   "cell_type": "code",
   "execution_count": 96,
   "id": "c90591e3",
   "metadata": {},
   "outputs": [],
   "source": [
    "def myfucna (**kwargs):\n",
    "    print(kwargs)\n",
    "    if 'kiwi' in kwargs:\n",
    "        print('my fav fruit is {}'.format(kwargs['kiwi']))"
   ]
  },
  {
   "cell_type": "code",
   "execution_count": 102,
   "id": "1c28ac58",
   "metadata": {},
   "outputs": [
    {
     "name": "stdout",
     "output_type": "stream",
     "text": [
      "{'kiwi': 'apple'}\n",
      "my fav fruit is apple\n"
     ]
    }
   ],
   "source": [
    "myfucna(kiwi='apple')"
   ]
  },
  {
   "cell_type": "code",
   "execution_count": 103,
   "id": "d6437650",
   "metadata": {},
   "outputs": [],
   "source": [
    "def myfucna (**kwargs):\n",
    "    print(kwargs)\n",
    "    if 'kiwi' in kwargs:\n",
    "           print('my fav fruit is {}'.format(kwargs['kiwi']))\n",
    "    else:\n",
    "            print('i did not find any thing')"
   ]
  },
  {
   "cell_type": "code",
   "execution_count": 106,
   "id": "2b946f0a",
   "metadata": {},
   "outputs": [
    {
     "name": "stdout",
     "output_type": "stream",
     "text": [
      "{'kii': 'orange'}\n",
      "i did not find any thing\n"
     ]
    }
   ],
   "source": [
    "myfucna(kii='orange')"
   ]
  },
  {
   "cell_type": "code",
   "execution_count": null,
   "id": "f1948d3f",
   "metadata": {},
   "outputs": [],
   "source": [
    "                                  #using both args and kwargs"
   ]
  },
  {
   "cell_type": "code",
   "execution_count": 107,
   "id": "579d1cf6",
   "metadata": {},
   "outputs": [],
   "source": [
    "def myfun(*args,**kwargs):\n",
    "    print(args)\n",
    "    print(kwargs)"
   ]
  },
  {
   "cell_type": "code",
   "execution_count": 111,
   "id": "2f99bc31",
   "metadata": {},
   "outputs": [
    {
     "name": "stdout",
     "output_type": "stream",
     "text": [
      "(10, 20, 30)\n",
      "{}\n",
      "\n",
      "\n",
      "()\n",
      "{'kiwi': 'fruit', 'tree': 'arca'}\n"
     ]
    }
   ],
   "source": [
    "myfun(10,20,30)\n",
    "print('\\n')\n",
    "myfun(kiwi='fruit',tree='arca')"
   ]
  },
  {
   "cell_type": "code",
   "execution_count": 119,
   "id": "a69017ec",
   "metadata": {},
   "outputs": [],
   "source": [
    "def myf(*args,**kwargs):             #frist shoulde be args then kwargs\n",
    "    print(kwargs)\n",
    "    print(args)\n",
    "                \n",
    "    "
   ]
  },
  {
   "cell_type": "code",
   "execution_count": 122,
   "id": "73f51801",
   "metadata": {},
   "outputs": [
    {
     "name": "stdout",
     "output_type": "stream",
     "text": [
      "{}\n",
      "(10, 20, 30, 40)\n",
      "{'key': 'key2'}\n",
      "()\n"
     ]
    }
   ],
   "source": [
    "myf(10,20,30,40)\n",
    "myf(key='key2')"
   ]
  },
  {
   "cell_type": "code",
   "execution_count": null,
   "id": "44ffbceb",
   "metadata": {},
   "outputs": [],
   "source": []
  },
  {
   "cell_type": "code",
   "execution_count": null,
   "id": "31a88100",
   "metadata": {},
   "outputs": [],
   "source": []
  }
 ],
 "metadata": {
  "kernelspec": {
   "display_name": "Python 3",
   "language": "python",
   "name": "python3"
  },
  "language_info": {
   "codemirror_mode": {
    "name": "ipython",
    "version": 3
   },
   "file_extension": ".py",
   "mimetype": "text/x-python",
   "name": "python",
   "nbconvert_exporter": "python",
   "pygments_lexer": "ipython3",
   "version": "3.8.8"
  }
 },
 "nbformat": 4,
 "nbformat_minor": 5
}

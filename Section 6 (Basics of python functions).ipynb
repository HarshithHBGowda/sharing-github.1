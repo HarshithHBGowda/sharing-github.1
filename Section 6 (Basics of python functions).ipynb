{
 "cells": [
  {
   "cell_type": "code",
   "execution_count": 14,
   "id": "4392dbde",
   "metadata": {
    "scrolled": true
   },
   "outputs": [
    {
     "ename": "SyntaxError",
     "evalue": "invalid syntax (<ipython-input-14-92c3de408da7>, line 1)",
     "output_type": "error",
     "traceback": [
      "\u001b[1;36m  File \u001b[1;32m\"<ipython-input-14-92c3de408da7>\"\u001b[1;36m, line \u001b[1;32m1\u001b[0m\n\u001b[1;33m    def                          #keyword is used to create the function\u001b[0m\n\u001b[1;37m                                 ^\u001b[0m\n\u001b[1;31mSyntaxError\u001b[0m\u001b[1;31m:\u001b[0m invalid syntax\n"
     ]
    }
   ],
   "source": [
    "def                          #def keyword is used to create the function\n"
   ]
  },
  {
   "cell_type": "code",
   "execution_count": 15,
   "id": "c62a4701",
   "metadata": {},
   "outputs": [
    {
     "ename": "SyntaxError",
     "evalue": "invalid syntax (<ipython-input-15-abf0fab63500>, line 1)",
     "output_type": "error",
     "traceback": [
      "\u001b[1;36m  File \u001b[1;32m\"<ipython-input-15-abf0fab63500>\"\u001b[1;36m, line \u001b[1;32m1\u001b[0m\n\u001b[1;33m    def say_hello                #say_hello is functiin name (case senstive)\u001b[0m\n\u001b[1;37m                                 ^\u001b[0m\n\u001b[1;31mSyntaxError\u001b[0m\u001b[1;31m:\u001b[0m invalid syntax\n"
     ]
    }
   ],
   "source": [
    " def say_hello            #say_hello is functiin name (case senstive)"
   ]
  },
  {
   "cell_type": "code",
   "execution_count": 17,
   "id": "f6b4b030",
   "metadata": {},
   "outputs": [
    {
     "ename": "SyntaxError",
     "evalue": "unexpected EOF while parsing (<ipython-input-17-ca745f5f9d51>, line 1)",
     "output_type": "error",
     "traceback": [
      "\u001b[1;36m  File \u001b[1;32m\"<ipython-input-17-ca745f5f9d51>\"\u001b[1;36m, line \u001b[1;32m1\u001b[0m\n\u001b[1;33m    def say_hello ():              #()  which pass the arguments to the function name\u001b[0m\n\u001b[1;37m                                                                                     ^\u001b[0m\n\u001b[1;31mSyntaxError\u001b[0m\u001b[1;31m:\u001b[0m unexpected EOF while parsing\n"
     ]
    }
   ],
   "source": [
    "def say_hello ():              #()  which pass the arguments to the function name"
   ]
  },
  {
   "cell_type": "code",
   "execution_count": 25,
   "id": "bc33259f",
   "metadata": {},
   "outputs": [],
   "source": [
    "def say_hello():                 \n",
    "    print('hello')\n",
    "    \n",
    "    "
   ]
  },
  {
   "cell_type": "code",
   "execution_count": 26,
   "id": "9188f111",
   "metadata": {},
   "outputs": [
    {
     "name": "stdout",
     "output_type": "stream",
     "text": [
      "hello\n"
     ]
    }
   ],
   "source": [
    "say_hello()"
   ]
  },
  {
   "cell_type": "code",
   "execution_count": 32,
   "id": "aa25b8fe",
   "metadata": {},
   "outputs": [],
   "source": [
    "def fun_name():\n",
    "    print('Harshith')\n",
    "    print('Gowda')\n",
    "    print('H B')"
   ]
  },
  {
   "cell_type": "code",
   "execution_count": 33,
   "id": "6902f1f8",
   "metadata": {},
   "outputs": [
    {
     "name": "stdout",
     "output_type": "stream",
     "text": [
      "Harshith\n",
      "Gowda\n",
      "H B\n"
     ]
    }
   ],
   "source": [
    "fun_name()"
   ]
  },
  {
   "cell_type": "code",
   "execution_count": 35,
   "id": "a91bbeca",
   "metadata": {},
   "outputs": [],
   "source": [
    "def add_sub(num1,num2):\n",
    "    print(num1+num2)"
   ]
  },
  {
   "cell_type": "code",
   "execution_count": 36,
   "id": "664cd4f3",
   "metadata": {},
   "outputs": [
    {
     "name": "stdout",
     "output_type": "stream",
     "text": [
      "21\n"
     ]
    }
   ],
   "source": [
    "add_sub(10,11)"
   ]
  },
  {
   "cell_type": "code",
   "execution_count": 41,
   "id": "00454ce7",
   "metadata": {},
   "outputs": [],
   "source": [
    "def define_name (add1,add2,add3):\n",
    "    print(add1-add2*add3)"
   ]
  },
  {
   "cell_type": "code",
   "execution_count": 42,
   "id": "eeef605d",
   "metadata": {},
   "outputs": [
    {
     "name": "stdout",
     "output_type": "stream",
     "text": [
      "-790\n"
     ]
    }
   ],
   "source": [
    "define_name(10,20,40)"
   ]
  },
  {
   "cell_type": "code",
   "execution_count": 50,
   "id": "e25a8d02",
   "metadata": {},
   "outputs": [],
   "source": [
    " def defi_mul (mul1,mul2):\n",
    "    print(mul1*mul2)"
   ]
  },
  {
   "cell_type": "code",
   "execution_count": 52,
   "id": "3a2c2f3f",
   "metadata": {},
   "outputs": [
    {
     "name": "stdout",
     "output_type": "stream",
     "text": [
      "800\n"
     ]
    }
   ],
   "source": [
    "defi_mul(10,80)"
   ]
  },
  {
   "cell_type": "code",
   "execution_count": 69,
   "id": "ab23f8b1",
   "metadata": {},
   "outputs": [],
   "source": [
    " def sub_add(add1,add2):\n",
    "        return(add1,add2)               #by using return"
   ]
  },
  {
   "cell_type": "code",
   "execution_count": 68,
   "id": "db8229b1",
   "metadata": {},
   "outputs": [
    {
     "data": {
      "text/plain": [
       "30"
      ]
     },
     "execution_count": 68,
     "metadata": {},
     "output_type": "execute_result"
    }
   ],
   "source": [
    "sub_add(10,22)"
   ]
  },
  {
   "cell_type": "code",
   "execution_count": 71,
   "id": "750c6caa",
   "metadata": {},
   "outputs": [],
   "source": [
    "def div(div1,div2,div3):\n",
    "    return(div1>div2+div3) "
   ]
  },
  {
   "cell_type": "code",
   "execution_count": 73,
   "id": "03f3d2ed",
   "metadata": {},
   "outputs": [
    {
     "data": {
      "text/plain": [
       "(9, 22, 11)"
      ]
     },
     "execution_count": 73,
     "metadata": {},
     "output_type": "execute_result"
    }
   ],
   "source": [
    "div(9,22,11)"
   ]
  },
  {
   "cell_type": "code",
   "execution_count": 77,
   "id": "dcd2f84f",
   "metadata": {},
   "outputs": [],
   "source": [
    "def div(div1,div2,div3):\n",
    "    print(div1+div2+div3)"
   ]
  },
  {
   "cell_type": "code",
   "execution_count": 83,
   "id": "0c92eed7",
   "metadata": {},
   "outputs": [
    {
     "name": "stdout",
     "output_type": "stream",
     "text": [
      "6\n"
     ]
    }
   ],
   "source": [
    "div(1,2,3)                            "
   ]
  },
  {
   "cell_type": "code",
   "execution_count": 85,
   "id": "50e596a8",
   "metadata": {},
   "outputs": [],
   "source": [
    "def div(div1,div2,div3):\n",
    "    return(div1+div2+div3)"
   ]
  },
  {
   "cell_type": "code",
   "execution_count": 87,
   "id": "33d036ef",
   "metadata": {},
   "outputs": [],
   "source": [
    "result=div(1,2,3)"
   ]
  },
  {
   "cell_type": "code",
   "execution_count": 88,
   "id": "35c33669",
   "metadata": {},
   "outputs": [
    {
     "data": {
      "text/plain": [
       "6"
      ]
     },
     "execution_count": 88,
     "metadata": {},
     "output_type": "execute_result"
    }
   ],
   "source": [
    "result"
   ]
  },
  {
   "cell_type": "code",
   "execution_count": 89,
   "id": "9eec6fb8",
   "metadata": {},
   "outputs": [],
   "source": [
    "def div(div1,div2,div3):\n",
    "    print(div1+div2+div3)"
   ]
  },
  {
   "cell_type": "code",
   "execution_count": 90,
   "id": "b6b7f593",
   "metadata": {},
   "outputs": [],
   "source": [
    "result=div(1,2,3)"
   ]
  },
  {
   "cell_type": "code",
   "execution_count": 91,
   "id": "8e186197",
   "metadata": {},
   "outputs": [
    {
     "data": {
      "text/plain": [
       "6"
      ]
     },
     "execution_count": 91,
     "metadata": {},
     "output_type": "execute_result"
    }
   ],
   "source": [
    "result"
   ]
  },
  {
   "cell_type": "code",
   "execution_count": 102,
   "id": "e1c1a90e",
   "metadata": {},
   "outputs": [],
   "source": [
    "def sum_of (add1,add2,add3):\n",
    "    print(add1+add2+add3)"
   ]
  },
  {
   "cell_type": "code",
   "execution_count": 103,
   "id": "5bc54bab",
   "metadata": {},
   "outputs": [
    {
     "name": "stdout",
     "output_type": "stream",
     "text": [
      "60\n"
     ]
    }
   ],
   "source": [
    "res=sum_of(10,20,30)                          #here its not going to print output(varible)"
   ]
  },
  {
   "cell_type": "code",
   "execution_count": 107,
   "id": "2388ae2a",
   "metadata": {},
   "outputs": [],
   "source": [
    "def sum_of (add1,add2,add3):\n",
    "    return(add1+add2+add3)"
   ]
  },
  {
   "cell_type": "code",
   "execution_count": 110,
   "id": "304c6590",
   "metadata": {},
   "outputs": [],
   "source": [
    "res=sum_of(1,2,3)                             # diff b/w return and print"
   ]
  },
  {
   "cell_type": "code",
   "execution_count": 111,
   "id": "a069fbcd",
   "metadata": {},
   "outputs": [
    {
     "data": {
      "text/plain": [
       "6"
      ]
     },
     "execution_count": 111,
     "metadata": {},
     "output_type": "execute_result"
    }
   ],
   "source": [
    "res"
   ]
  },
  {
   "cell_type": "code",
   "execution_count": 114,
   "id": "fb5ff65f",
   "metadata": {},
   "outputs": [],
   "source": [
    "def off(aw1,aw2,aw3):\n",
    "    return(aw1,aw2)\n",
    "    print(aw1,aw2)"
   ]
  },
  {
   "cell_type": "code",
   "execution_count": 117,
   "id": "cedc21cf",
   "metadata": {},
   "outputs": [
    {
     "data": {
      "text/plain": [
       "(1, 2)"
      ]
     },
     "execution_count": 117,
     "metadata": {},
     "output_type": "execute_result"
    }
   ],
   "source": [
    "off(1,2,3)"
   ]
  },
  {
   "cell_type": "code",
   "execution_count": 121,
   "id": "287c7dcf",
   "metadata": {},
   "outputs": [],
   "source": [
    "def off(aw1,aw2,aw3):\n",
    "    return(aw1,aw2)\n",
    "    print(aw1,aw2)                            #here return will excute first"
   ]
  },
  {
   "cell_type": "code",
   "execution_count": 122,
   "id": "3750b2f5",
   "metadata": {},
   "outputs": [],
   "source": [
    "res=off(1,2,3)"
   ]
  },
  {
   "cell_type": "code",
   "execution_count": 123,
   "id": "ff0fcddf",
   "metadata": {},
   "outputs": [
    {
     "data": {
      "text/plain": [
       "(1, 2)"
      ]
     },
     "execution_count": 123,
     "metadata": {},
     "output_type": "execute_result"
    }
   ],
   "source": [
    "res"
   ]
  },
  {
   "cell_type": "code",
   "execution_count": 126,
   "id": "429a07f8",
   "metadata": {},
   "outputs": [],
   "source": [
    "def myfun(a,b,c):\n",
    "    print(a,b,c)"
   ]
  },
  {
   "cell_type": "code",
   "execution_count": 132,
   "id": "e941da21",
   "metadata": {},
   "outputs": [
    {
     "name": "stdout",
     "output_type": "stream",
     "text": [
      "0 1\n"
     ]
    }
   ],
   "source": [
    "res = myfun(0,1,3)"
   ]
  },
  {
   "cell_type": "code",
   "execution_count": 133,
   "id": "bc5d176f",
   "metadata": {},
   "outputs": [],
   "source": []
  },
  {
   "cell_type": "code",
   "execution_count": null,
   "id": "467b9fb3",
   "metadata": {},
   "outputs": [],
   "source": []
  }
 ],
 "metadata": {
  "kernelspec": {
   "display_name": "Python 3",
   "language": "python",
   "name": "python3"
  },
  "language_info": {
   "codemirror_mode": {
    "name": "ipython",
    "version": 3
   },
   "file_extension": ".py",
   "mimetype": "text/x-python",
   "name": "python",
   "nbconvert_exporter": "python",
   "pygments_lexer": "ipython3",
   "version": "3.8.8"
  }
 },
 "nbformat": 4,
 "nbformat_minor": 5
}

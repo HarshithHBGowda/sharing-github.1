{
 "cells": [
  {
   "cell_type": "code",
   "execution_count": 1,
   "id": "2d8a4992",
   "metadata": {},
   "outputs": [],
   "source": [
    "#two bultin modules "
   ]
  },
  {
   "cell_type": "code",
   "execution_count": 2,
   "id": "0e9c74ca",
   "metadata": {},
   "outputs": [],
   "source": [
    "#1)math module"
   ]
  },
  {
   "cell_type": "code",
   "execution_count": 3,
   "id": "5bcc4973",
   "metadata": {},
   "outputs": [],
   "source": [
    "import math"
   ]
  },
  {
   "cell_type": "code",
   "execution_count": 4,
   "id": "206addcf",
   "metadata": {},
   "outputs": [],
   "source": [
    "value = 4.99"
   ]
  },
  {
   "cell_type": "code",
   "execution_count": 5,
   "id": "5fdd184f",
   "metadata": {},
   "outputs": [
    {
     "data": {
      "text/plain": [
       "5"
      ]
     },
     "execution_count": 5,
     "metadata": {},
     "output_type": "execute_result"
    }
   ],
   "source": [
    "math.ceil(4.99)                        #ceil       "
   ]
  },
  {
   "cell_type": "code",
   "execution_count": 6,
   "id": "5e1d03f0",
   "metadata": {},
   "outputs": [
    {
     "data": {
      "text/plain": [
       "4"
      ]
     },
     "execution_count": 6,
     "metadata": {},
     "output_type": "execute_result"
    }
   ],
   "source": [
    "math.floor(4.99)                       #floor"
   ]
  },
  {
   "cell_type": "code",
   "execution_count": 7,
   "id": "623786b2",
   "metadata": {},
   "outputs": [
    {
     "data": {
      "text/plain": [
       "5"
      ]
     },
     "execution_count": 7,
     "metadata": {},
     "output_type": "execute_result"
    }
   ],
   "source": [
    "round(value)                           #round"
   ]
  },
  {
   "cell_type": "code",
   "execution_count": 8,
   "id": "823eebc5",
   "metadata": {},
   "outputs": [
    {
     "data": {
      "text/plain": [
       "6"
      ]
     },
     "execution_count": 8,
     "metadata": {},
     "output_type": "execute_result"
    }
   ],
   "source": [
    "round(5.5)                              #round"
   ]
  },
  {
   "cell_type": "code",
   "execution_count": 9,
   "id": "822c1568",
   "metadata": {},
   "outputs": [
    {
     "data": {
      "text/plain": [
       "3.141592653589793"
      ]
     },
     "execution_count": 9,
     "metadata": {},
     "output_type": "execute_result"
    }
   ],
   "source": [
    "math.pi                                #pi"
   ]
  },
  {
   "cell_type": "code",
   "execution_count": 10,
   "id": "1efea99d",
   "metadata": {},
   "outputs": [],
   "source": [
    "#also\n",
    "\n",
    "from math import pi"
   ]
  },
  {
   "cell_type": "code",
   "execution_count": 11,
   "id": "195a7afc",
   "metadata": {},
   "outputs": [
    {
     "data": {
      "text/plain": [
       "3.141592653589793"
      ]
     },
     "execution_count": 11,
     "metadata": {},
     "output_type": "execute_result"
    }
   ],
   "source": [
    "pi"
   ]
  },
  {
   "cell_type": "code",
   "execution_count": 12,
   "id": "a623afa5",
   "metadata": {},
   "outputs": [
    {
     "data": {
      "text/plain": [
       "2.718281828459045"
      ]
     },
     "execution_count": 12,
     "metadata": {},
     "output_type": "execute_result"
    }
   ],
   "source": [
    "math.e"
   ]
  },
  {
   "cell_type": "code",
   "execution_count": 13,
   "id": "c79d663f",
   "metadata": {},
   "outputs": [
    {
     "data": {
      "text/plain": [
       "inf"
      ]
     },
     "execution_count": 13,
     "metadata": {},
     "output_type": "execute_result"
    }
   ],
   "source": [
    "math.inf"
   ]
  },
  {
   "cell_type": "code",
   "execution_count": 14,
   "id": "eaccd051",
   "metadata": {},
   "outputs": [
    {
     "data": {
      "text/plain": [
       "nan"
      ]
     },
     "execution_count": 14,
     "metadata": {},
     "output_type": "execute_result"
    }
   ],
   "source": [
    "math.nan"
   ]
  },
  {
   "cell_type": "code",
   "execution_count": 15,
   "id": "985b5fa5",
   "metadata": {},
   "outputs": [],
   "source": [
    "#numpy"
   ]
  },
  {
   "cell_type": "code",
   "execution_count": 16,
   "id": "32dc543b",
   "metadata": {},
   "outputs": [
    {
     "data": {
      "text/plain": [
       "2.718281828459045"
      ]
     },
     "execution_count": 16,
     "metadata": {},
     "output_type": "execute_result"
    }
   ],
   "source": [
    "math.e"
   ]
  },
  {
   "cell_type": "code",
   "execution_count": 17,
   "id": "92339fef",
   "metadata": {},
   "outputs": [
    {
     "data": {
      "text/plain": [
       "1.0"
      ]
     },
     "execution_count": 17,
     "metadata": {},
     "output_type": "execute_result"
    }
   ],
   "source": [
    "math.log(math.e)"
   ]
  },
  {
   "cell_type": "code",
   "execution_count": 18,
   "id": "01f3ce36",
   "metadata": {},
   "outputs": [
    {
     "data": {
      "text/plain": [
       "2.0"
      ]
     },
     "execution_count": 18,
     "metadata": {},
     "output_type": "execute_result"
    }
   ],
   "source": [
    "math.log(100,10)"
   ]
  },
  {
   "cell_type": "code",
   "execution_count": 19,
   "id": "055653e4",
   "metadata": {},
   "outputs": [
    {
     "data": {
      "text/plain": [
       "0.8414709848078965"
      ]
     },
     "execution_count": 19,
     "metadata": {},
     "output_type": "execute_result"
    }
   ],
   "source": [
    "math.sin(1)"
   ]
  },
  {
   "cell_type": "code",
   "execution_count": 20,
   "id": "b80e5e61",
   "metadata": {},
   "outputs": [
    {
     "data": {
      "text/plain": [
       "0.5403023058681398"
      ]
     },
     "execution_count": 20,
     "metadata": {},
     "output_type": "execute_result"
    }
   ],
   "source": [
    "math.cos(1)"
   ]
  },
  {
   "cell_type": "code",
   "execution_count": 21,
   "id": "4b4733ab",
   "metadata": {},
   "outputs": [
    {
     "data": {
      "text/plain": [
       "-2.185039863261519"
      ]
     },
     "execution_count": 21,
     "metadata": {},
     "output_type": "execute_result"
    }
   ],
   "source": [
    "math.tan(2)"
   ]
  },
  {
   "cell_type": "code",
   "execution_count": 23,
   "id": "91e42ed3",
   "metadata": {},
   "outputs": [
    {
     "data": {
      "text/plain": [
       "0.7539022543433046"
      ]
     },
     "execution_count": 23,
     "metadata": {},
     "output_type": "execute_result"
    }
   ],
   "source": [
    "math.cos(7)"
   ]
  },
  {
   "cell_type": "code",
   "execution_count": 29,
   "id": "22b6a3d3",
   "metadata": {},
   "outputs": [
    {
     "data": {
      "text/plain": [
       "0.8714479827243188"
      ]
     },
     "execution_count": 29,
     "metadata": {},
     "output_type": "execute_result"
    }
   ],
   "source": [
    "math.tan(7)"
   ]
  },
  {
   "cell_type": "code",
   "execution_count": 30,
   "id": "5d7e12ce",
   "metadata": {},
   "outputs": [
    {
     "data": {
      "text/plain": [
       "0.6931471805599453"
      ]
     },
     "execution_count": 30,
     "metadata": {},
     "output_type": "execute_result"
    }
   ],
   "source": [
    "math.log(2)"
   ]
  },
  {
   "cell_type": "code",
   "execution_count": 40,
   "id": "885f3385",
   "metadata": {},
   "outputs": [
    {
     "data": {
      "text/plain": [
       "90.0"
      ]
     },
     "execution_count": 40,
     "metadata": {},
     "output_type": "execute_result"
    }
   ],
   "source": [
    "math.degrees(pi/2)"
   ]
  },
  {
   "cell_type": "code",
   "execution_count": 41,
   "id": "074ab621",
   "metadata": {},
   "outputs": [],
   "source": [
    "#random modules\n",
    "\n",
    "import random"
   ]
  },
  {
   "cell_type": "code",
   "execution_count": 43,
   "id": "34dd4191",
   "metadata": {},
   "outputs": [
    {
     "data": {
      "text/plain": [
       "78"
      ]
     },
     "execution_count": 43,
     "metadata": {},
     "output_type": "execute_result"
    }
   ],
   "source": [
    "random.randint(0,100)"
   ]
  },
  {
   "cell_type": "code",
   "execution_count": 45,
   "id": "b51d81cc",
   "metadata": {},
   "outputs": [
    {
     "data": {
      "text/plain": [
       "89"
      ]
     },
     "execution_count": 45,
     "metadata": {},
     "output_type": "execute_result"
    }
   ],
   "source": [
    "random.randint(0,100)"
   ]
  },
  {
   "cell_type": "code",
   "execution_count": 46,
   "id": "db968248",
   "metadata": {},
   "outputs": [
    {
     "data": {
      "text/plain": [
       "8"
      ]
     },
     "execution_count": 46,
     "metadata": {},
     "output_type": "execute_result"
    }
   ],
   "source": [
    "random.randint(0,55)"
   ]
  },
  {
   "cell_type": "code",
   "execution_count": 47,
   "id": "ff3ab311",
   "metadata": {},
   "outputs": [
    {
     "data": {
      "text/plain": [
       "2"
      ]
     },
     "execution_count": 47,
     "metadata": {},
     "output_type": "execute_result"
    }
   ],
   "source": [
    "random.randint(2,2)"
   ]
  },
  {
   "cell_type": "code",
   "execution_count": 48,
   "id": "3fe02cdb",
   "metadata": {},
   "outputs": [],
   "source": [
    "random.seed(101)"
   ]
  },
  {
   "cell_type": "code",
   "execution_count": 58,
   "id": "beeab7c8",
   "metadata": {},
   "outputs": [
    {
     "data": {
      "text/plain": [
       "77"
      ]
     },
     "execution_count": 58,
     "metadata": {},
     "output_type": "execute_result"
    }
   ],
   "source": [
    "random.randint(0,100)"
   ]
  },
  {
   "cell_type": "code",
   "execution_count": 63,
   "id": "fbe3f923",
   "metadata": {},
   "outputs": [
    {
     "data": {
      "text/plain": [
       "100"
      ]
     },
     "execution_count": 63,
     "metadata": {},
     "output_type": "execute_result"
    }
   ],
   "source": [
    "random.randint(0,100)"
   ]
  },
  {
   "cell_type": "code",
   "execution_count": 64,
   "id": "b46252e4",
   "metadata": {},
   "outputs": [],
   "source": [
    "random.seed(101)"
   ]
  },
  {
   "cell_type": "code",
   "execution_count": 70,
   "id": "894de987",
   "metadata": {},
   "outputs": [
    {
     "name": "stdout",
     "output_type": "stream",
     "text": [
      "59\n"
     ]
    }
   ],
   "source": [
    "print(random.randint(0,100))"
   ]
  },
  {
   "cell_type": "code",
   "execution_count": 71,
   "id": "edb3ec46",
   "metadata": {},
   "outputs": [],
   "source": [
    "mylist = list(range(0,20))"
   ]
  },
  {
   "cell_type": "code",
   "execution_count": 72,
   "id": "f10d0ef0",
   "metadata": {},
   "outputs": [
    {
     "data": {
      "text/plain": [
       "[0, 1, 2, 3, 4, 5, 6, 7, 8, 9, 10, 11, 12, 13, 14, 15, 16, 17, 18, 19]"
      ]
     },
     "execution_count": 72,
     "metadata": {},
     "output_type": "execute_result"
    }
   ],
   "source": [
    "mylist"
   ]
  },
  {
   "cell_type": "code",
   "execution_count": 77,
   "id": "42b9679d",
   "metadata": {},
   "outputs": [
    {
     "data": {
      "text/plain": [
       "19"
      ]
     },
     "execution_count": 77,
     "metadata": {},
     "output_type": "execute_result"
    }
   ],
   "source": [
    "random.choice(mylist)"
   ]
  },
  {
   "cell_type": "code",
   "execution_count": 78,
   "id": "1834984c",
   "metadata": {},
   "outputs": [
    {
     "data": {
      "text/plain": [
       "[0, 1, 2, 3, 4, 5, 6, 7, 8, 9, 10, 11, 12, 13, 14, 15, 16, 17, 18, 19]"
      ]
     },
     "execution_count": 78,
     "metadata": {},
     "output_type": "execute_result"
    }
   ],
   "source": [
    "mylist"
   ]
  },
  {
   "cell_type": "code",
   "execution_count": 79,
   "id": "1383db29",
   "metadata": {},
   "outputs": [],
   "source": [
    "#randomly picking the number"
   ]
  },
  {
   "cell_type": "code",
   "execution_count": 80,
   "id": "fcee58e8",
   "metadata": {},
   "outputs": [],
   "source": [
    "#sample with replacment"
   ]
  },
  {
   "cell_type": "code",
   "execution_count": 82,
   "id": "f39f3efe",
   "metadata": {},
   "outputs": [
    {
     "data": {
      "text/plain": [
       "[4, 5, 13]"
      ]
     },
     "execution_count": 82,
     "metadata": {},
     "output_type": "execute_result"
    }
   ],
   "source": [
    "random.choices(population=mylist,k=3)"
   ]
  },
  {
   "cell_type": "code",
   "execution_count": 83,
   "id": "4e6bcbb3",
   "metadata": {},
   "outputs": [
    {
     "data": {
      "text/plain": [
       "[4, 19, 1, 3, 1, 15, 7, 9]"
      ]
     },
     "execution_count": 83,
     "metadata": {},
     "output_type": "execute_result"
    }
   ],
   "source": [
    "random.choices(population=mylist,k=8)"
   ]
  },
  {
   "cell_type": "code",
   "execution_count": 84,
   "id": "6783d533",
   "metadata": {},
   "outputs": [
    {
     "data": {
      "text/plain": [
       "[6, 12, 8, 4, 8, 6, 2, 16, 13, 13, 17, 7, 7, 8, 8]"
      ]
     },
     "execution_count": 84,
     "metadata": {},
     "output_type": "execute_result"
    }
   ],
   "source": [
    "random.choices(population=mylist,k=15)"
   ]
  },
  {
   "cell_type": "code",
   "execution_count": 85,
   "id": "1d34ac1a",
   "metadata": {},
   "outputs": [
    {
     "data": {
      "text/plain": [
       "[13, 0, 9, 10, 6, 0, 14, 0, 11, 3, 0, 3, 1, 3, 13, 14, 7, 13, 9]"
      ]
     },
     "execution_count": 85,
     "metadata": {},
     "output_type": "execute_result"
    }
   ],
   "source": [
    "random.choices(population=mylist,k=19)"
   ]
  },
  {
   "cell_type": "code",
   "execution_count": 86,
   "id": "262d0637",
   "metadata": {},
   "outputs": [
    {
     "data": {
      "text/plain": [
       "[9, 17, 6, 17, 13, 13]"
      ]
     },
     "execution_count": 86,
     "metadata": {},
     "output_type": "execute_result"
    }
   ],
   "source": [
    "random.choices(population=mylist,k=6)"
   ]
  },
  {
   "cell_type": "code",
   "execution_count": 87,
   "id": "b9ed0e74",
   "metadata": {},
   "outputs": [
    {
     "data": {
      "text/plain": [
       "[0, 1]"
      ]
     },
     "execution_count": 87,
     "metadata": {},
     "output_type": "execute_result"
    }
   ],
   "source": [
    "random.choices(population=mylist,k=2)"
   ]
  },
  {
   "cell_type": "code",
   "execution_count": 88,
   "id": "2848072c",
   "metadata": {},
   "outputs": [
    {
     "data": {
      "text/plain": [
       "[0, 6, 18, 17, 16, 2, 14, 15, 16, 15, 2, 3, 15, 14, 17, 8, 17, 2, 19, 17, 6]"
      ]
     },
     "execution_count": 88,
     "metadata": {},
     "output_type": "execute_result"
    }
   ],
   "source": [
    "random.choices(population=mylist,k=21)"
   ]
  },
  {
   "cell_type": "code",
   "execution_count": 89,
   "id": "77e38068",
   "metadata": {},
   "outputs": [],
   "source": [
    "#SAMPLE WITH OUT REPLACEMENT"
   ]
  },
  {
   "cell_type": "code",
   "execution_count": 91,
   "id": "8f8ff261",
   "metadata": {},
   "outputs": [
    {
     "data": {
      "text/plain": [
       "[17, 19]"
      ]
     },
     "execution_count": 91,
     "metadata": {},
     "output_type": "execute_result"
    }
   ],
   "source": [
    "random.sample(population=mylist,k=2)"
   ]
  },
  {
   "cell_type": "code",
   "execution_count": 93,
   "id": "65c0dee3",
   "metadata": {},
   "outputs": [
    {
     "data": {
      "text/plain": [
       "[2, 8, 4, 18, 14, 3, 6, 1]"
      ]
     },
     "execution_count": 93,
     "metadata": {},
     "output_type": "execute_result"
    }
   ],
   "source": [
    "random.sample(population=mylist,k=8)                    #it wont produce repated item"
   ]
  },
  {
   "cell_type": "code",
   "execution_count": 94,
   "id": "f9cf9c45",
   "metadata": {},
   "outputs": [
    {
     "data": {
      "text/plain": [
       "[16, 10, 7, 3, 8, 18, 2, 0, 12]"
      ]
     },
     "execution_count": 94,
     "metadata": {},
     "output_type": "execute_result"
    }
   ],
   "source": [
    "random.sample(population=mylist,k=9)"
   ]
  },
  {
   "cell_type": "code",
   "execution_count": 95,
   "id": "33acf58a",
   "metadata": {},
   "outputs": [],
   "source": [
    "#shuffling"
   ]
  },
  {
   "cell_type": "code",
   "execution_count": 96,
   "id": "a1e459d2",
   "metadata": {},
   "outputs": [
    {
     "data": {
      "text/plain": [
       "[0, 1, 2, 3, 4, 5, 6, 7, 8, 9, 10, 11, 12, 13, 14, 15, 16, 17, 18, 19]"
      ]
     },
     "execution_count": 96,
     "metadata": {},
     "output_type": "execute_result"
    }
   ],
   "source": [
    "mylist"
   ]
  },
  {
   "cell_type": "code",
   "execution_count": 97,
   "id": "e77b2523",
   "metadata": {},
   "outputs": [],
   "source": [
    "random.shuffle(mylist)"
   ]
  },
  {
   "cell_type": "code",
   "execution_count": 98,
   "id": "829375f7",
   "metadata": {},
   "outputs": [
    {
     "data": {
      "text/plain": [
       "[18, 11, 13, 6, 17, 0, 2, 5, 9, 8, 3, 16, 15, 4, 19, 7, 10, 1, 14, 12]"
      ]
     },
     "execution_count": 98,
     "metadata": {},
     "output_type": "execute_result"
    }
   ],
   "source": [
    "mylist"
   ]
  },
  {
   "cell_type": "code",
   "execution_count": 99,
   "id": "1e2cc82e",
   "metadata": {},
   "outputs": [],
   "source": [
    "#uniform distrubation"
   ]
  },
  {
   "cell_type": "code",
   "execution_count": 101,
   "id": "c4723ed2",
   "metadata": {},
   "outputs": [
    {
     "data": {
      "text/plain": [
       "89.41601172331069"
      ]
     },
     "execution_count": 101,
     "metadata": {},
     "output_type": "execute_result"
    }
   ],
   "source": [
    "random.uniform(a=0,b=100)                               #floationg point"
   ]
  },
  {
   "cell_type": "code",
   "execution_count": 102,
   "id": "a24963cf",
   "metadata": {},
   "outputs": [
    {
     "data": {
      "text/plain": [
       "35.2701129926433"
      ]
     },
     "execution_count": 102,
     "metadata": {},
     "output_type": "execute_result"
    }
   ],
   "source": [
    "random.uniform(a=0,b=88)"
   ]
  },
  {
   "cell_type": "code",
   "execution_count": 103,
   "id": "1b30d071",
   "metadata": {},
   "outputs": [
    {
     "data": {
      "text/plain": [
       "8.05433206815293"
      ]
     },
     "execution_count": 103,
     "metadata": {},
     "output_type": "execute_result"
    }
   ],
   "source": [
    "random.uniform(a=8,b=9)"
   ]
  },
  {
   "cell_type": "code",
   "execution_count": 104,
   "id": "518e6b5f",
   "metadata": {},
   "outputs": [
    {
     "data": {
      "text/plain": [
       "0.2203981393303982"
      ]
     },
     "execution_count": 104,
     "metadata": {},
     "output_type": "execute_result"
    }
   ],
   "source": [
    "random.uniform(a=0,b=1)"
   ]
  },
  {
   "cell_type": "code",
   "execution_count": 105,
   "id": "76865336",
   "metadata": {},
   "outputs": [],
   "source": [
    "#normal or gussian distrubation"
   ]
  },
  {
   "cell_type": "code",
   "execution_count": 106,
   "id": "c9f06847",
   "metadata": {},
   "outputs": [
    {
     "data": {
      "text/plain": [
       "5.660485264016221"
      ]
     },
     "execution_count": 106,
     "metadata": {},
     "output_type": "execute_result"
    }
   ],
   "source": [
    "random.gauss(mu=1,sigma=9)"
   ]
  },
  {
   "cell_type": "code",
   "execution_count": 107,
   "id": "7820fba3",
   "metadata": {},
   "outputs": [
    {
     "data": {
      "text/plain": [
       "6.352782495168738"
      ]
     },
     "execution_count": 107,
     "metadata": {},
     "output_type": "execute_result"
    }
   ],
   "source": [
    "random.gauss(mu=2,sigma=19)"
   ]
  },
  {
   "cell_type": "code",
   "execution_count": 109,
   "id": "5037f2ef",
   "metadata": {},
   "outputs": [
    {
     "data": {
      "text/plain": [
       "74.91462370389846"
      ]
     },
     "execution_count": 109,
     "metadata": {},
     "output_type": "execute_result"
    }
   ],
   "source": [
    "random.gauss(mu=9,sigma=99)"
   ]
  },
  {
   "cell_type": "code",
   "execution_count": null,
   "id": "2a5b913a",
   "metadata": {},
   "outputs": [],
   "source": []
  }
 ],
 "metadata": {
  "kernelspec": {
   "display_name": "Python 3",
   "language": "python",
   "name": "python3"
  },
  "language_info": {
   "codemirror_mode": {
    "name": "ipython",
    "version": 3
   },
   "file_extension": ".py",
   "mimetype": "text/x-python",
   "name": "python",
   "nbconvert_exporter": "python",
   "pygments_lexer": "ipython3",
   "version": "3.8.8"
  }
 },
 "nbformat": 4,
 "nbformat_minor": 5
}

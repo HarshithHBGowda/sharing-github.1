{
 "cells": [
  {
   "cell_type": "code",
   "execution_count": 3,
   "id": "c87a9393",
   "metadata": {},
   "outputs": [],
   "source": [
    "from collections import Counter\n",
    "    \n",
    "    "
   ]
  },
  {
   "cell_type": "code",
   "execution_count": 6,
   "id": "46d4ed86",
   "metadata": {},
   "outputs": [],
   "source": [
    "my_list = [1111111,222222,333333,444444,5555555]                  "
   ]
  },
  {
   "cell_type": "code",
   "execution_count": 7,
   "id": "52d01cc8",
   "metadata": {},
   "outputs": [
    {
     "data": {
      "text/plain": [
       "Counter({1111111: 1, 222222: 1, 333333: 1, 444444: 1, 5555555: 1})"
      ]
     },
     "execution_count": 7,
     "metadata": {},
     "output_type": "execute_result"
    }
   ],
   "source": [
    "Counter(my_list)                        #it counts the bunch of 1s and 2s and 3s)"
   ]
  },
  {
   "cell_type": "code",
   "execution_count": 14,
   "id": "d7eedded",
   "metadata": {},
   "outputs": [],
   "source": [
    "my_lis=[1,1,1,1,1,1,1,1,1,1,11,2,2,2,2,2,2,2,2,2,4,3,3,3,3,3,3,3,3,33,3,]"
   ]
  },
  {
   "cell_type": "code",
   "execution_count": 16,
   "id": "f68342fe",
   "metadata": {},
   "outputs": [
    {
     "data": {
      "text/plain": [
       "Counter({1: 10, 11: 1, 2: 9, 4: 1, 3: 9, 33: 1})"
      ]
     },
     "execution_count": 16,
     "metadata": {},
     "output_type": "execute_result"
    }
   ],
   "source": [
    "Counter(my_lis)"
   ]
  },
  {
   "cell_type": "code",
   "execution_count": 18,
   "id": "bfbc42bc",
   "metadata": {},
   "outputs": [],
   "source": [
    "from collections import Counter"
   ]
  },
  {
   "cell_type": "code",
   "execution_count": 21,
   "id": "30e8dc3e",
   "metadata": {},
   "outputs": [],
   "source": [
    "my_list=[\"a\",\"b\",19]"
   ]
  },
  {
   "cell_type": "code",
   "execution_count": 22,
   "id": "fe12c6c9",
   "metadata": {},
   "outputs": [
    {
     "data": {
      "text/plain": [
       "Counter({'a': 1, 'b': 1, 19: 1})"
      ]
     },
     "execution_count": 22,
     "metadata": {},
     "output_type": "execute_result"
    }
   ],
   "source": [
    "Counter(my_list)"
   ]
  },
  {
   "cell_type": "code",
   "execution_count": 23,
   "id": "2bd58297",
   "metadata": {},
   "outputs": [],
   "source": [
    "sentence = \"how many days in a weak i think there is 7 days in  a weak\""
   ]
  },
  {
   "cell_type": "code",
   "execution_count": 24,
   "id": "865e4298",
   "metadata": {},
   "outputs": [
    {
     "data": {
      "text/plain": [
       "Counter({'h': 3,\n",
       "         'o': 1,\n",
       "         'w': 3,\n",
       "         ' ': 15,\n",
       "         'm': 1,\n",
       "         'a': 7,\n",
       "         'n': 4,\n",
       "         'y': 3,\n",
       "         'd': 2,\n",
       "         's': 3,\n",
       "         'i': 5,\n",
       "         'e': 4,\n",
       "         'k': 3,\n",
       "         't': 2,\n",
       "         'r': 1,\n",
       "         '7': 1})"
      ]
     },
     "execution_count": 24,
     "metadata": {},
     "output_type": "execute_result"
    }
   ],
   "source": [
    "Counter(sentence)"
   ]
  },
  {
   "cell_type": "code",
   "execution_count": 25,
   "id": "89531178",
   "metadata": {},
   "outputs": [],
   "source": [
    "sentence = \"how many days in weak there is 7 days in  a week\""
   ]
  },
  {
   "cell_type": "code",
   "execution_count": 27,
   "id": "e3d62df6",
   "metadata": {},
   "outputs": [
    {
     "data": {
      "text/plain": [
       "['how',\n",
       " 'many',\n",
       " 'days',\n",
       " 'in',\n",
       " 'weak',\n",
       " 'there',\n",
       " 'is',\n",
       " '7',\n",
       " 'days',\n",
       " 'in',\n",
       " 'a',\n",
       " 'week']"
      ]
     },
     "execution_count": 27,
     "metadata": {},
     "output_type": "execute_result"
    }
   ],
   "source": [
    "sentence.split()                  #by using split we have split the sentence"
   ]
  },
  {
   "cell_type": "code",
   "execution_count": 28,
   "id": "dda14609",
   "metadata": {},
   "outputs": [],
   "source": [
    "sentence = (\"how many days in a week\")"
   ]
  },
  {
   "cell_type": "code",
   "execution_count": 31,
   "id": "2d26390e",
   "metadata": {},
   "outputs": [
    {
     "data": {
      "text/plain": [
       "Counter({'how': 1, 'many': 1, 'days': 1, 'in': 1, 'a': 1, 'week': 1})"
      ]
     },
     "execution_count": 31,
     "metadata": {},
     "output_type": "execute_result"
    }
   ],
   "source": [
    "Counter(sentence.split())"
   ]
  },
  {
   "cell_type": "code",
   "execution_count": 32,
   "id": "c51ed22f",
   "metadata": {},
   "outputs": [],
   "source": [
    "sentence = \"how many days in a week\""
   ]
  },
  {
   "cell_type": "code",
   "execution_count": 36,
   "id": "d4650d1b",
   "metadata": {},
   "outputs": [
    {
     "data": {
      "text/plain": [
       "Counter({'how': 1, 'many': 1, 'days': 1, 'in': 1, 'a': 1, 'week': 1})"
      ]
     },
     "execution_count": 36,
     "metadata": {},
     "output_type": "execute_result"
    }
   ],
   "source": [
    "Counter(sentence.split())                    #split"
   ]
  },
  {
   "cell_type": "code",
   "execution_count": 37,
   "id": "fb44eac5",
   "metadata": {},
   "outputs": [
    {
     "data": {
      "text/plain": [
       "Counter({'how': 1, 'many': 1, 'days': 1, 'in': 1, 'a': 1, 'week': 1})"
      ]
     },
     "execution_count": 37,
     "metadata": {},
     "output_type": "execute_result"
    }
   ],
   "source": [
    "Counter(sentence.lower().split())"
   ]
  },
  {
   "cell_type": "code",
   "execution_count": 45,
   "id": "535c6d1f",
   "metadata": {},
   "outputs": [],
   "source": [
    "letter = 'aaabbbbcccccdddddd'"
   ]
  },
  {
   "cell_type": "code",
   "execution_count": 46,
   "id": "3fbffd17",
   "metadata": {},
   "outputs": [
    {
     "data": {
      "text/plain": [
       "Counter({'a': 3, 'b': 4, 'c': 5, 'd': 6})"
      ]
     },
     "execution_count": 46,
     "metadata": {},
     "output_type": "execute_result"
    }
   ],
   "source": [
    "Counter(letter)"
   ]
  },
  {
   "cell_type": "code",
   "execution_count": 53,
   "id": "69b16595",
   "metadata": {},
   "outputs": [
    {
     "data": {
      "text/plain": [
       "[('d', 6), ('c', 5), ('b', 4), ('a', 3)]"
      ]
     },
     "execution_count": 53,
     "metadata": {},
     "output_type": "execute_result"
    }
   ],
   "source": [
    "Counter(letter).most_common()                   #most_common()"
   ]
  },
  {
   "cell_type": "code",
   "execution_count": 54,
   "id": "8e66f5d9",
   "metadata": {},
   "outputs": [
    {
     "data": {
      "text/plain": [
       "[('d', 6)]"
      ]
     },
     "execution_count": 54,
     "metadata": {},
     "output_type": "execute_result"
    }
   ],
   "source": [
    "Counter(letter).most_common(1)"
   ]
  },
  {
   "cell_type": "code",
   "execution_count": 55,
   "id": "70b81ff1",
   "metadata": {},
   "outputs": [
    {
     "data": {
      "text/plain": [
       "[('d', 6), ('c', 5)]"
      ]
     },
     "execution_count": 55,
     "metadata": {},
     "output_type": "execute_result"
    }
   ],
   "source": [
    "Counter(letter).most_common(2)"
   ]
  },
  {
   "cell_type": "code",
   "execution_count": 56,
   "id": "b932a232",
   "metadata": {},
   "outputs": [],
   "source": [
    "#default dictinories"
   ]
  },
  {
   "cell_type": "code",
   "execution_count": 57,
   "id": "895f8eab",
   "metadata": {},
   "outputs": [],
   "source": [
    "from collections import defaultdict"
   ]
  },
  {
   "cell_type": "code",
   "execution_count": 61,
   "id": "0366b5ce",
   "metadata": {},
   "outputs": [],
   "source": [
    "d  = {'wrong','key'}                #normal"
   ]
  },
  {
   "cell_type": "code",
   "execution_count": 62,
   "id": "0ddac8b1",
   "metadata": {},
   "outputs": [
    {
     "data": {
      "text/plain": [
       "{'key', 'wrong'}"
      ]
     },
     "execution_count": 62,
     "metadata": {},
     "output_type": "execute_result"
    }
   ],
   "source": [
    "d"
   ]
  },
  {
   "cell_type": "code",
   "execution_count": 70,
   "id": "cb97cd62",
   "metadata": {},
   "outputs": [],
   "source": [
    "d = defaultdict(lambda:90)        #bydefualt"
   ]
  },
  {
   "cell_type": "code",
   "execution_count": 71,
   "id": "2d3366aa",
   "metadata": {},
   "outputs": [
    {
     "data": {
      "text/plain": [
       "90"
      ]
     },
     "execution_count": 71,
     "metadata": {},
     "output_type": "execute_result"
    }
   ],
   "source": [
    "d['correct']"
   ]
  },
  {
   "cell_type": "code",
   "execution_count": 72,
   "id": "309ef989",
   "metadata": {},
   "outputs": [],
   "source": [
    "d['wrong']=32"
   ]
  },
  {
   "cell_type": "code",
   "execution_count": 73,
   "id": "8f77f1f5",
   "metadata": {},
   "outputs": [
    {
     "data": {
      "text/plain": [
       "32"
      ]
     },
     "execution_count": 73,
     "metadata": {},
     "output_type": "execute_result"
    }
   ],
   "source": [
    "d['wrong']"
   ]
  },
  {
   "cell_type": "code",
   "execution_count": 74,
   "id": "2565e91e",
   "metadata": {},
   "outputs": [
    {
     "data": {
      "text/plain": [
       "90"
      ]
     },
     "execution_count": 74,
     "metadata": {},
     "output_type": "execute_result"
    }
   ],
   "source": [
    "d['jock']                       z"
   ]
  },
  {
   "cell_type": "code",
   "execution_count": 75,
   "id": "42c694d9",
   "metadata": {},
   "outputs": [],
   "source": [
    "#named tuple"
   ]
  },
  {
   "cell_type": "code",
   "execution_count": 76,
   "id": "ef001b02",
   "metadata": {},
   "outputs": [],
   "source": [
    "from collections import namedtuple"
   ]
  },
  {
   "cell_type": "code",
   "execution_count": 78,
   "id": "21aa321d",
   "metadata": {},
   "outputs": [],
   "source": [
    "dog = namedtuple('dog',['age','breed','name'])"
   ]
  },
  {
   "cell_type": "code",
   "execution_count": 81,
   "id": "78e82564",
   "metadata": {},
   "outputs": [],
   "source": [
    "sammy = dog(age=5,breed='lab', name='sam')"
   ]
  },
  {
   "cell_type": "code",
   "execution_count": 82,
   "id": "7a1df675",
   "metadata": {},
   "outputs": [
    {
     "data": {
      "text/plain": [
       "__main__.dog"
      ]
     },
     "execution_count": 82,
     "metadata": {},
     "output_type": "execute_result"
    }
   ],
   "source": [
    "type(sammy)"
   ]
  },
  {
   "cell_type": "code",
   "execution_count": 83,
   "id": "03cbcc6b",
   "metadata": {},
   "outputs": [
    {
     "data": {
      "text/plain": [
       "dog(age=5, breed='lab', name='sam')"
      ]
     },
     "execution_count": 83,
     "metadata": {},
     "output_type": "execute_result"
    }
   ],
   "source": [
    "sammy"
   ]
  },
  {
   "cell_type": "code",
   "execution_count": 84,
   "id": "a5db3f86",
   "metadata": {},
   "outputs": [
    {
     "data": {
      "text/plain": [
       "5"
      ]
     },
     "execution_count": 84,
     "metadata": {},
     "output_type": "execute_result"
    }
   ],
   "source": [
    "sammy[0]                   #indexing"
   ]
  },
  {
   "cell_type": "code",
   "execution_count": 85,
   "id": "930a20c8",
   "metadata": {},
   "outputs": [
    {
     "data": {
      "text/plain": [
       "'sam'"
      ]
     },
     "execution_count": 85,
     "metadata": {},
     "output_type": "execute_result"
    }
   ],
   "source": [
    "sammy[2]"
   ]
  },
  {
   "cell_type": "code",
   "execution_count": 86,
   "id": "de5c1c2e",
   "metadata": {},
   "outputs": [
    {
     "data": {
      "text/plain": [
       "'lab'"
      ]
     },
     "execution_count": 86,
     "metadata": {},
     "output_type": "execute_result"
    }
   ],
   "source": [
    "sammy[1]"
   ]
  },
  {
   "cell_type": "code",
   "execution_count": 87,
   "id": "4263ddc1",
   "metadata": {},
   "outputs": [
    {
     "data": {
      "text/plain": [
       "5"
      ]
     },
     "execution_count": 87,
     "metadata": {},
     "output_type": "execute_result"
    }
   ],
   "source": [
    "sammy.age"
   ]
  },
  {
   "cell_type": "code",
   "execution_count": 88,
   "id": "4eeb70e4",
   "metadata": {},
   "outputs": [
    {
     "data": {
      "text/plain": [
       "'lab'"
      ]
     },
     "execution_count": 88,
     "metadata": {},
     "output_type": "execute_result"
    }
   ],
   "source": [
    "sammy.breed"
   ]
  },
  {
   "cell_type": "code",
   "execution_count": 89,
   "id": "6c25f25a",
   "metadata": {},
   "outputs": [
    {
     "data": {
      "text/plain": [
       "'sam'"
      ]
     },
     "execution_count": 89,
     "metadata": {},
     "output_type": "execute_result"
    }
   ],
   "source": [
    "sammy.name"
   ]
  },
  {
   "cell_type": "code",
   "execution_count": null,
   "id": "21c7b908",
   "metadata": {},
   "outputs": [],
   "source": []
  },
  {
   "cell_type": "code",
   "execution_count": null,
   "id": "f66d216e",
   "metadata": {},
   "outputs": [],
   "source": []
  },
  {
   "cell_type": "code",
   "execution_count": null,
   "id": "e78fb5b9",
   "metadata": {},
   "outputs": [],
   "source": []
  },
  {
   "cell_type": "code",
   "execution_count": null,
   "id": "5576447e",
   "metadata": {},
   "outputs": [],
   "source": []
  },
  {
   "cell_type": "code",
   "execution_count": null,
   "id": "ae2902ef",
   "metadata": {},
   "outputs": [],
   "source": []
  }
 ],
 "metadata": {
  "kernelspec": {
   "display_name": "Python 3",
   "language": "python",
   "name": "python3"
  },
  "language_info": {
   "codemirror_mode": {
    "name": "ipython",
    "version": 3
   },
   "file_extension": ".py",
   "mimetype": "text/x-python",
   "name": "python",
   "nbconvert_exporter": "python",
   "pygments_lexer": "ipython3",
   "version": "3.8.8"
  }
 },
 "nbformat": 4,
 "nbformat_minor": 5
}

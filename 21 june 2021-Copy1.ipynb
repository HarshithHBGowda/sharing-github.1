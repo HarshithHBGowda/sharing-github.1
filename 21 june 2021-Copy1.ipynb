{
 "cells": [
  {
   "cell_type": "code",
   "execution_count": 2,
   "id": "086ff03c",
   "metadata": {},
   "outputs": [
    {
     "data": {
      "text/plain": [
       "4"
      ]
     },
     "execution_count": 2,
     "metadata": {},
     "output_type": "execute_result"
    }
   ],
   "source": [
    "2+2\n"
   ]
  },
  {
   "cell_type": "code",
   "execution_count": 3,
   "id": "1db8f272",
   "metadata": {},
   "outputs": [
    {
     "data": {
      "text/plain": [
       "4"
      ]
     },
     "execution_count": 3,
     "metadata": {},
     "output_type": "execute_result"
    }
   ],
   "source": [
    "2*2"
   ]
  },
  {
   "cell_type": "code",
   "execution_count": 4,
   "id": "41581b1a",
   "metadata": {},
   "outputs": [
    {
     "data": {
      "text/plain": [
       "32"
      ]
     },
     "execution_count": 4,
     "metadata": {},
     "output_type": "execute_result"
    }
   ],
   "source": [
    "2**5\n"
   ]
  },
  {
   "cell_type": "code",
   "execution_count": 5,
   "id": "ec000599",
   "metadata": {},
   "outputs": [
    {
     "data": {
      "text/plain": [
       "10.0"
      ]
     },
     "execution_count": 5,
     "metadata": {},
     "output_type": "execute_result"
    }
   ],
   "source": [
    "50/5"
   ]
  },
  {
   "cell_type": "code",
   "execution_count": 6,
   "id": "83e6fbd8",
   "metadata": {},
   "outputs": [
    {
     "data": {
      "text/plain": [
       "6"
      ]
     },
     "execution_count": 6,
     "metadata": {},
     "output_type": "execute_result"
    }
   ],
   "source": [
    "50//8"
   ]
  },
  {
   "cell_type": "code",
   "execution_count": null,
   "id": "daa76105",
   "metadata": {},
   "outputs": [],
   "source": [
    "5 % 4"
   ]
  },
  {
   "cell_type": "code",
   "execution_count": null,
   "id": "255f75eb",
   "metadata": {},
   "outputs": [],
   "source": [
    "56%2"
   ]
  },
  {
   "cell_type": "code",
   "execution_count": null,
   "id": "bb42bfe3",
   "metadata": {},
   "outputs": [],
   "source": [
    "55%2"
   ]
  },
  {
   "cell_type": "code",
   "execution_count": null,
   "id": "c1d5daa3",
   "metadata": {},
   "outputs": [],
   "source": [
    "4+12**9"
   ]
  },
  {
   "cell_type": "code",
   "execution_count": null,
   "id": "06fbb0c4",
   "metadata": {},
   "outputs": [],
   "source": [
    "(2+1)*(7+90)"
   ]
  },
  {
   "cell_type": "code",
   "execution_count": null,
   "id": "29583fd6",
   "metadata": {},
   "outputs": [],
   "source": [
    "#section.3(python numbers)//its all about basics arithmetic and using python as a calcultor\n"
   ]
  },
  {
   "cell_type": "code",
   "execution_count": null,
   "id": "98c8977e",
   "metadata": {},
   "outputs": [],
   "source": [
    "#section.3 varible assignments\n",
    "\n",
    "my_dogs = 2\n",
    "my_dogs =[\"sammy\",\"frankie\"] #we can reassign the varibles to differnt datatypes because python is dynamic typing\n"
   ]
  },
  {
   "cell_type": "code",
   "execution_count": null,
   "id": "807f3a8a",
   "metadata": {},
   "outputs": [],
   "source": [
    "a = 10\n"
   ]
  },
  {
   "cell_type": "code",
   "execution_count": null,
   "id": "c210a887",
   "metadata": {},
   "outputs": [],
   "source": [
    "a"
   ]
  },
  {
   "cell_type": "code",
   "execution_count": null,
   "id": "179cd87f",
   "metadata": {},
   "outputs": [],
   "source": [
    "b = 23\n",
    "b"
   ]
  },
  {
   "cell_type": "code",
   "execution_count": null,
   "id": "42043a02",
   "metadata": {},
   "outputs": [],
   "source": [
    "b = 12\n",
    "b"
   ]
  },
  {
   "cell_type": "code",
   "execution_count": null,
   "id": "bd0a850f",
   "metadata": {},
   "outputs": [],
   "source": [
    "my_income = 90\n",
    "my_taxrate=.12\n",
    "my_taxes=my_income * my_taxrate\n",
    "my_taxes                       #basic ex of varible assignments"
   ]
  },
  {
   "cell_type": "code",
   "execution_count": null,
   "id": "7d349bd6",
   "metadata": {},
   "outputs": [],
   "source": [
    "#SECTION 3(STRINGS)\n",
    "\n",
    "\n",
    "'HELLO WORLD'"
   ]
  },
  {
   "cell_type": "code",
   "execution_count": null,
   "id": "4c19112e",
   "metadata": {},
   "outputs": [],
   "source": [
    "\"I DON'T WANT\""
   ]
  },
  {
   "cell_type": "code",
   "execution_count": null,
   "id": "587cf9db",
   "metadata": {},
   "outputs": [],
   "source": [
    "\"HELLO\""
   ]
  },
  {
   "cell_type": "code",
   "execution_count": null,
   "id": "d922fa89",
   "metadata": {},
   "outputs": [],
   "source": [
    "#ESCAPE CHARS\n",
    "\n",
    "print('hello\\nworld')\n",
    "print(\"hello\\tworld\")"
   ]
  },
  {
   "cell_type": "code",
   "execution_count": null,
   "id": "f7f38bfb",
   "metadata": {},
   "outputs": [],
   "source": [
    "len('harshithgowdahb')"
   ]
  },
  {
   "cell_type": "code",
   "execution_count": 17,
   "id": "10bb8f43",
   "metadata": {},
   "outputs": [
    {
     "data": {
      "text/plain": [
       "'lkjihgfedcba'"
      ]
     },
     "execution_count": 17,
     "metadata": {},
     "output_type": "execute_result"
    }
   ],
   "source": [
    "#indexing and slicing with strings\n",
    "my_string='abcdefghijkl'\n",
    "\n",
    "my_string[::]\n",
    "\n",
    "\n",
    "\n",
    "\n"
   ]
  },
  {
   "cell_type": "code",
   "execution_count": 18,
   "id": "b47baff3",
   "metadata": {},
   "outputs": [
    {
     "data": {
      "text/plain": [
       "'b'"
      ]
     },
     "execution_count": 18,
     "metadata": {},
     "output_type": "execute_result"
    }
   ],
   "source": [
    "my_string[1:2]"
   ]
  },
  {
   "cell_type": "code",
   "execution_count": 19,
   "id": "c321950e",
   "metadata": {},
   "outputs": [
    {
     "data": {
      "text/plain": [
       "'abcdefghijkl'"
      ]
     },
     "execution_count": 19,
     "metadata": {},
     "output_type": "execute_result"
    }
   ],
   "source": [
    "my_string[::]"
   ]
  },
  {
   "cell_type": "code",
   "execution_count": 20,
   "id": "508ec1f7",
   "metadata": {},
   "outputs": [
    {
     "data": {
      "text/plain": [
       "'lkjihgfedcba'"
      ]
     },
     "execution_count": 20,
     "metadata": {},
     "output_type": "execute_result"
    }
   ],
   "source": [
    "my_string[::-1]"
   ]
  },
  {
   "cell_type": "code",
   "execution_count": 21,
   "id": "e612f774",
   "metadata": {},
   "outputs": [
    {
     "data": {
      "text/plain": [
       "'dh'"
      ]
     },
     "execution_count": 21,
     "metadata": {},
     "output_type": "execute_result"
    }
   ],
   "source": [
    "my_string[3:8:4]"
   ]
  },
  {
   "cell_type": "code",
   "execution_count": 22,
   "id": "8729687c",
   "metadata": {},
   "outputs": [
    {
     "data": {
      "text/plain": [
       "'def'"
      ]
     },
     "execution_count": 22,
     "metadata": {},
     "output_type": "execute_result"
    }
   ],
   "source": [
    "my_string[3:6]"
   ]
  },
  {
   "cell_type": "code",
   "execution_count": 23,
   "id": "06faecaf",
   "metadata": {},
   "outputs": [
    {
     "data": {
      "text/plain": [
       "'aj'"
      ]
     },
     "execution_count": 23,
     "metadata": {},
     "output_type": "execute_result"
    }
   ],
   "source": [
    "my_string[::9] "
   ]
  },
  {
   "cell_type": "code",
   "execution_count": 24,
   "id": "339ebe24",
   "metadata": {},
   "outputs": [
    {
     "data": {
      "text/plain": [
       "'cdefghijkl'"
      ]
     },
     "execution_count": 24,
     "metadata": {},
     "output_type": "execute_result"
    }
   ],
   "source": [
    "my_string[2::]"
   ]
  },
  {
   "cell_type": "code",
   "execution_count": 26,
   "id": "528a9e8d",
   "metadata": {},
   "outputs": [],
   "source": [
    "#section 3(string properties and methods)\n",
    "\n",
    "\n",
    "#merging two strings\n"
   ]
  },
  {
   "cell_type": "code",
   "execution_count": 29,
   "id": "dc949807",
   "metadata": {},
   "outputs": [
    {
     "data": {
      "text/plain": [
       "'MERCK'"
      ]
     },
     "execution_count": 29,
     "metadata": {},
     "output_type": "execute_result"
    }
   ],
   "source": [
    "name = 'MERCK'\n",
    "new_name=name[2:]\n",
    "'ME'+ new_name\n"
   ]
  },
  {
   "cell_type": "code",
   "execution_count": 30,
   "id": "b3638053",
   "metadata": {},
   "outputs": [
    {
     "data": {
      "text/plain": [
       "'my world'"
      ]
     },
     "execution_count": 30,
     "metadata": {},
     "output_type": "execute_result"
    }
   ],
   "source": [
    "name=\"my world\"\n",
    "name.upper()          #upper method\n",
    "name"
   ]
  },
  {
   "cell_type": "code",
   "execution_count": 31,
   "id": "36cd1334",
   "metadata": {},
   "outputs": [
    {
     "data": {
      "text/plain": [
       "'MY WORLD'"
      ]
     },
     "execution_count": 31,
     "metadata": {},
     "output_type": "execute_result"
    }
   ],
   "source": [
    "name=\"MY WORLD\"\n",
    "name.lower()          #lower method\n",
    "name"
   ]
  },
  {
   "cell_type": "code",
   "execution_count": 32,
   "id": "83c1ebf8",
   "metadata": {},
   "outputs": [
    {
     "data": {
      "text/plain": [
       "'hello world'"
      ]
     },
     "execution_count": 32,
     "metadata": {},
     "output_type": "execute_result"
    }
   ],
   "source": [
    "name =\"hello world\"\n",
    "name.split()            #split method\n",
    "name\n"
   ]
  },
  {
   "cell_type": "code",
   "execution_count": 34,
   "id": "12c0e4b4",
   "metadata": {},
   "outputs": [
    {
     "data": {
      "text/plain": [
       "['he', '', 'o wor', 'd']"
      ]
     },
     "execution_count": 34,
     "metadata": {},
     "output_type": "execute_result"
    }
   ],
   "source": [
    "name =\"hello world\"\n",
    "name.split(\"l\")        "
   ]
  },
  {
   "cell_type": "code",
   "execution_count": 36,
   "id": "979d5188",
   "metadata": {},
   "outputs": [],
   "source": [
    "#section 3(print formatting with strings)"
   ]
  },
  {
   "cell_type": "code",
   "execution_count": 38,
   "id": "f5789b52",
   "metadata": {},
   "outputs": [
    {
     "name": "stdout",
     "output_type": "stream",
     "text": [
      "the name is aaa\n"
     ]
    }
   ],
   "source": [
    "print('the name is {}'.format(\"aaa\"))"
   ]
  },
  {
   "cell_type": "code",
   "execution_count": 39,
   "id": "41709758",
   "metadata": {},
   "outputs": [
    {
     "name": "stdout",
     "output_type": "stream",
     "text": [
      "this is a string format inserted\n"
     ]
    }
   ],
   "source": [
    "print('this is a string format {}'.format('inserted'))"
   ]
  },
  {
   "cell_type": "code",
   "execution_count": 42,
   "id": "ff4131e0",
   "metadata": {},
   "outputs": [
    {
     "name": "stdout",
     "output_type": "stream",
     "text": [
      "the result was      12.963\n"
     ]
    }
   ],
   "source": [
    "result = 700/54\n",
    "result\n",
    "print('the result was{r:12.3f}'.format(r=result))         #float formatting"
   ]
  },
  {
   "cell_type": "code",
   "execution_count": 44,
   "id": "57feb128",
   "metadata": {},
   "outputs": [
    {
     "name": "stdout",
     "output_type": "stream",
     "text": [
      "the result was 0.9\n"
     ]
    }
   ],
   "source": [
    "result = 21/23\n",
    "result\n",
    "print('the result was {r:1.1f}'.format(r=result))"
   ]
  },
  {
   "cell_type": "code",
   "execution_count": 45,
   "id": "b6dee6a8",
   "metadata": {},
   "outputs": [],
   "source": [
    "#section.3 lists"
   ]
  },
  {
   "cell_type": "code",
   "execution_count": 48,
   "id": "cc1f377c",
   "metadata": {},
   "outputs": [
    {
     "data": {
      "text/plain": [
       "3"
      ]
     },
     "execution_count": 48,
     "metadata": {},
     "output_type": "execute_result"
    }
   ],
   "source": [
    "my_list=[12,23,34]\n",
    "len(my_list)           #to check the length of the string"
   ]
  },
  {
   "cell_type": "code",
   "execution_count": 54,
   "id": "ce1355b6",
   "metadata": {},
   "outputs": [
    {
     "data": {
      "text/plain": [
       "[1, 2, 3, 4, 5, 6, 7]"
      ]
     },
     "execution_count": 54,
     "metadata": {},
     "output_type": "execute_result"
    }
   ],
   "source": [
    "my_list=[1,2,3,4]\n",
    "new_list=[5,6,7]\n",
    "another_list= my_list + new_list       #merging two lists\n",
    "another_list"
   ]
  },
  {
   "cell_type": "code",
   "execution_count": 57,
   "id": "9c357d52",
   "metadata": {},
   "outputs": [
    {
     "data": {
      "text/plain": [
       "['string', 23, 'wwe', 'world,21,ww']"
      ]
     },
     "execution_count": 57,
     "metadata": {},
     "output_type": "execute_result"
    }
   ],
   "source": [
    "list_1=['string',23,'wwe']\n",
    "list_2=['world,21,ww']\n",
    "list_3= list_1+list_2\n",
    "list_3"
   ]
  },
  {
   "cell_type": "code",
   "execution_count": 58,
   "id": "23ebe519",
   "metadata": {},
   "outputs": [
    {
     "data": {
      "text/plain": [
       "1"
      ]
     },
     "execution_count": 58,
     "metadata": {},
     "output_type": "execute_result"
    }
   ],
   "source": [
    "list_1=['string',23,'wwe']\n",
    "list_2=['world,21,ww']\n",
    "list_3= list_1+list_2\n",
    "list_3\n",
    "len(list_2)"
   ]
  },
  {
   "cell_type": "code",
   "execution_count": 59,
   "id": "3b388ff6",
   "metadata": {},
   "outputs": [
    {
     "data": {
      "text/plain": [
       "'world,21,ww'"
      ]
     },
     "execution_count": 59,
     "metadata": {},
     "output_type": "execute_result"
    }
   ],
   "source": [
    "list_1=['string',23,'wwe']\n",
    "list_2=['world,21,ww']\n",
    "list_3= list_1+list_2\n",
    "list_3\n",
    "list_3[3]                 #indexing with list"
   ]
  },
  {
   "cell_type": "code",
   "execution_count": 60,
   "id": "750f7eec",
   "metadata": {},
   "outputs": [
    {
     "data": {
      "text/plain": [
       "['world,21,ww']"
      ]
     },
     "execution_count": 60,
     "metadata": {},
     "output_type": "execute_result"
    }
   ],
   "source": [
    "list_1=['string',23,'wwe']\n",
    "list_2=['world,21,ww']\n",
    "list_3= list_1+list_2\n",
    "list_3\n",
    "list_3[3::]               #slicing with list"
   ]
  },
  {
   "cell_type": "code",
   "execution_count": 8,
   "id": "bfc3cddc",
   "metadata": {},
   "outputs": [
    {
     "data": {
      "text/plain": [
       "[1, 89, 82, 'string', 'HBS']"
      ]
     },
     "execution_count": 8,
     "metadata": {},
     "output_type": "execute_result"
    }
   ],
   "source": [
    "num_list=[1,89,82,\"string\"]\n",
    "num_list.append('HBS')               #append\n",
    "num_list"
   ]
  },
  {
   "cell_type": "code",
   "execution_count": 9,
   "id": "1025306f",
   "metadata": {},
   "outputs": [
    {
     "data": {
      "text/plain": [
       "[12, 24]"
      ]
     },
     "execution_count": 9,
     "metadata": {},
     "output_type": "execute_result"
    }
   ],
   "source": [
    "new_list=[12,24,36,]\n",
    "new_list.pop()            #pop\n",
    "new_list"
   ]
  },
  {
   "cell_type": "code",
   "execution_count": 15,
   "id": "47e2762e",
   "metadata": {},
   "outputs": [
    {
     "data": {
      "text/plain": [
       "[12, 22, 22, '1', '2', '1']"
      ]
     },
     "execution_count": 15,
     "metadata": {},
     "output_type": "execute_result"
    }
   ],
   "source": [
    "new_list=[12,22,22]\n",
    "new_list.extend('121')          #extand\n",
    "new_list\n"
   ]
  },
  {
   "cell_type": "code",
   "execution_count": 21,
   "id": "ceda7111",
   "metadata": {},
   "outputs": [
    {
     "data": {
      "text/plain": [
       "['a', 'e', 's']"
      ]
     },
     "execution_count": 21,
     "metadata": {},
     "output_type": "execute_result"
    }
   ],
   "source": [
    " nums_list=['a','s','e']\n",
    "nums_list.sort()\n",
    "nums_list                      #sort"
   ]
  },
  {
   "cell_type": "code",
   "execution_count": 35,
   "id": "6c54c153",
   "metadata": {},
   "outputs": [
    {
     "data": {
      "text/plain": [
       "[8, 7, 6, 5, 4, 3, 2, 1]"
      ]
     },
     "execution_count": 35,
     "metadata": {},
     "output_type": "execute_result"
    }
   ],
   "source": [
    "new_list =[1,2,3,4,5,6,7,8]\n",
    "new_list.reverse()            #reverse\n",
    "new_list"
   ]
  },
  {
   "cell_type": "code",
   "execution_count": 27,
   "id": "e63c12a5",
   "metadata": {},
   "outputs": [
    {
     "data": {
      "text/plain": [
       "['1,2,3,4,5,6,7']"
      ]
     },
     "execution_count": 27,
     "metadata": {},
     "output_type": "execute_result"
    }
   ],
   "source": [
    "new_list =[1,2,3,4,5,6,7]\n",
    "new_list.reverse\n",
    "new_list"
   ]
  },
  {
   "cell_type": "code",
   "execution_count": 30,
   "id": "d065fbb4",
   "metadata": {},
   "outputs": [
    {
     "data": {
      "text/plain": [
       "[32, 34, 67]"
      ]
     },
     "execution_count": 30,
     "metadata": {},
     "output_type": "execute_result"
    }
   ],
   "source": [
    "list=[67,32,34]\n",
    "list.sort()            #sorting\n",
    "list"
   ]
  },
  {
   "cell_type": "code",
   "execution_count": null,
   "id": "cc25085b",
   "metadata": {},
   "outputs": [],
   "source": []
  },
  {
   "cell_type": "code",
   "execution_count": null,
   "id": "5e4e23e1",
   "metadata": {},
   "outputs": [],
   "source": []
  }
 ],
 "metadata": {
  "kernelspec": {
   "display_name": "Python 3",
   "language": "python",
   "name": "python3"
  },
  "language_info": {
   "codemirror_mode": {
    "name": "ipython",
    "version": 3
   },
   "file_extension": ".py",
   "mimetype": "text/x-python",
   "name": "python",
   "nbconvert_exporter": "python",
   "pygments_lexer": "ipython3",
   "version": "3.8.8"
  }
 },
 "nbformat": 4,
 "nbformat_minor": 5
}

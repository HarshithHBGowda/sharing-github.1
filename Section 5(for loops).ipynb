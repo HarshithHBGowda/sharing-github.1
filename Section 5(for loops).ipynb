{
 "cells": [
  {
   "cell_type": "code",
   "execution_count": 12,
   "id": "ae299a15",
   "metadata": {},
   "outputs": [],
   "source": [
    " mydogs = [1,2,3,4,5,6,7,8]                #using for loop"
   ]
  },
  {
   "cell_type": "code",
   "execution_count": 11,
   "id": "90811b66",
   "metadata": {},
   "outputs": [
    {
     "name": "stdout",
     "output_type": "stream",
     "text": [
      "1\n",
      "2\n",
      "3\n",
      "4\n",
      "5\n",
      "6\n",
      "7\n",
      "8\n"
     ]
    }
   ],
   "source": [
    "   for num in mydogs:  \n",
    "        \n",
    "    print(num)"
   ]
  },
  {
   "cell_type": "code",
   "execution_count": 13,
   "id": "c10364af",
   "metadata": {},
   "outputs": [],
   "source": [
    "myjerry = [2,3,4,5,6,1,2,9]"
   ]
  },
  {
   "cell_type": "code",
   "execution_count": 22,
   "id": "14cacd70",
   "metadata": {},
   "outputs": [
    {
     "name": "stdout",
     "output_type": "stream",
     "text": [
      "2\n",
      "3\n",
      "4\n",
      "5\n",
      "6\n",
      "1\n",
      "2\n",
      "9\n"
     ]
    }
   ],
   "source": [
    "for plenty in myjerry:\n",
    "    print(plenty)"
   ]
  },
  {
   "cell_type": "code",
   "execution_count": 27,
   "id": "57645ef8",
   "metadata": {},
   "outputs": [],
   "source": [
    "mycar = [1,3,6,5,6,1,5,9]"
   ]
  },
  {
   "cell_type": "code",
   "execution_count": 30,
   "id": "a6e9fabd",
   "metadata": {},
   "outputs": [
    {
     "name": "stdout",
     "output_type": "stream",
     "text": [
      "nums\n",
      "nums\n",
      "nums\n",
      "nums\n",
      "nums\n",
      "nums\n",
      "nums\n",
      "nums\n"
     ]
    }
   ],
   "source": [
    "for nums in mycar:  \n",
    "    print('nums')"
   ]
  },
  {
   "cell_type": "code",
   "execution_count": 31,
   "id": "5b346931",
   "metadata": {},
   "outputs": [],
   "source": [
    "mycar = [9,8,7,6,5,4,3,2,1]\n"
   ]
  },
  {
   "cell_type": "code",
   "execution_count": 35,
   "id": "65b6bce2",
   "metadata": {},
   "outputs": [
    {
     "name": "stdout",
     "output_type": "stream",
     "text": [
      "8\n",
      "6\n",
      "4\n",
      "2\n"
     ]
    }
   ],
   "source": [
    "for number in mycar:\n",
    "    if number % 2 == 0:\n",
    "        print(number)"
   ]
  },
  {
   "cell_type": "code",
   "execution_count": 37,
   "id": "a21fcc8e",
   "metadata": {},
   "outputs": [],
   "source": [
    "mycar = [9,8,7,6,5,4,3,2,1]\n",
    "  "
   ]
  },
  {
   "cell_type": "code",
   "execution_count": 45,
   "id": "ccfae620",
   "metadata": {},
   "outputs": [
    {
     "name": "stdout",
     "output_type": "stream",
     "text": [
      "oddnumber:9\n",
      "8\n",
      "oddnumber:7\n",
      "6\n",
      "oddnumber:5\n",
      "4\n",
      "oddnumber:3\n",
      "2\n",
      "oddnumber:1\n"
     ]
    }
   ],
   "source": [
    "for number in mycar:\n",
    "    if number % 2 == 0:\n",
    "        print(number)\n",
    "    else:\n",
    "        print(f'oddnumber:{number}')"
   ]
  },
  {
   "cell_type": "code",
   "execution_count": 76,
   "id": "b5bf7c6c",
   "metadata": {},
   "outputs": [
    {
     "name": "stdout",
     "output_type": "stream",
     "text": [
      "oddnumber:9\n",
      "8\n",
      "oddnumber:7\n",
      "6\n",
      "oddnumber:5\n",
      "4\n",
      "oddnumber:3\n",
      "2\n",
      "oddnumber:1\n"
     ]
    }
   ],
   "source": [
    "\n"
   ]
  },
  {
   "cell_type": "code",
   "execution_count": 3,
   "id": "075aeb0e",
   "metadata": {},
   "outputs": [
    {
     "name": "stdout",
     "output_type": "stream",
     "text": [
      "1\n",
      "3\n",
      "6\n",
      "10\n",
      "15\n",
      "21\n",
      "28\n",
      "36\n"
     ]
    }
   ],
   "source": [
    "mydogs=[1,2,3,4,5,6,7,8,]\n",
    "lsum = 0\n",
    "\n",
    "\n",
    "for num in mydogs:\n",
    "    lsum = lsum + num\n",
    "    \n",
    "    print(lsum)\n",
    "        "
   ]
  },
  {
   "cell_type": "code",
   "execution_count": 6,
   "id": "ecd97c02",
   "metadata": {},
   "outputs": [],
   "source": [
    "list21 = ['hello','hai']"
   ]
  },
  {
   "cell_type": "code",
   "execution_count": 7,
   "id": "f5555db2",
   "metadata": {},
   "outputs": [
    {
     "name": "stdout",
     "output_type": "stream",
     "text": [
      "hello\n",
      "hai\n"
     ]
    }
   ],
   "source": [
    "for string in list21:\n",
    "    print(string)"
   ]
  },
  {
   "cell_type": "code",
   "execution_count": 8,
   "id": "a52d2515",
   "metadata": {},
   "outputs": [],
   "source": [
    "list21 = ['hello','hai']"
   ]
  },
  {
   "cell_type": "code",
   "execution_count": 9,
   "id": "0c52f8a2",
   "metadata": {},
   "outputs": [
    {
     "name": "stdout",
     "output_type": "stream",
     "text": [
      "string\n",
      "string\n"
     ]
    }
   ],
   "source": [
    "for string in list21:\n",
    "    print('string')"
   ]
  },
  {
   "cell_type": "code",
   "execution_count": 10,
   "id": "e762070a",
   "metadata": {},
   "outputs": [],
   "source": [
    "t=(1,2,3)"
   ]
  },
  {
   "cell_type": "code",
   "execution_count": 11,
   "id": "72a088ad",
   "metadata": {},
   "outputs": [
    {
     "name": "stdout",
     "output_type": "stream",
     "text": [
      "1\n",
      "2\n",
      "3\n"
     ]
    }
   ],
   "source": [
    "for item in t:\n",
    "    print(item)                   #tuple"
   ]
  },
  {
   "cell_type": "code",
   "execution_count": 9,
   "id": "31e8675e",
   "metadata": {},
   "outputs": [],
   "source": [
    "t1=('hello',1233,'hh')"
   ]
  },
  {
   "cell_type": "code",
   "execution_count": 10,
   "id": "3b9e13a9",
   "metadata": {},
   "outputs": [
    {
     "name": "stdout",
     "output_type": "stream",
     "text": [
      "('hello', 1233, 'hh')\n",
      "('hello', 1233, 'hh')\n",
      "('hello', 1233, 'hh')\n"
     ]
    }
   ],
   "source": [
    "for item in t1:\n",
    "    print(t1)"
   ]
  },
  {
   "cell_type": "code",
   "execution_count": 19,
   "id": "abe9751d",
   "metadata": {},
   "outputs": [],
   "source": [
    "tup=[(1,2),(2,6),(2,6)]            #tuple unpacking\n",
    "                           "
   ]
  },
  {
   "cell_type": "code",
   "execution_count": 20,
   "id": "09229a70",
   "metadata": {},
   "outputs": [
    {
     "name": "stdout",
     "output_type": "stream",
     "text": [
      "1 2\n",
      "2 6\n",
      "2 6\n"
     ]
    }
   ],
   "source": [
    "\n",
    " for (a,b) in tup: \n",
    "        \n",
    "    print(a,b)\n",
    "         \n",
    "    "
   ]
  },
  {
   "cell_type": "code",
   "execution_count": 21,
   "id": "37e7a143",
   "metadata": {},
   "outputs": [
    {
     "name": "stdout",
     "output_type": "stream",
     "text": [
      "1\n",
      "2\n",
      "2\n"
     ]
    }
   ],
   "source": [
    "for (a,b) in tup: \n",
    "        \n",
    "    print(a)\n",
    "         \n",
    "    "
   ]
  },
  {
   "cell_type": "code",
   "execution_count": 22,
   "id": "a083befe",
   "metadata": {},
   "outputs": [
    {
     "name": "stdout",
     "output_type": "stream",
     "text": [
      "2\n",
      "6\n",
      "6\n"
     ]
    }
   ],
   "source": [
    "for (a,b) in tup: \n",
    "        \n",
    "    print(b)\n",
    "         \n",
    "    "
   ]
  },
  {
   "cell_type": "code",
   "execution_count": 23,
   "id": "d63e577c",
   "metadata": {},
   "outputs": [],
   "source": [
    "mylist=['wwe','eww']"
   ]
  },
  {
   "cell_type": "code",
   "execution_count": 24,
   "id": "1240bbc8",
   "metadata": {},
   "outputs": [
    {
     "name": "stdout",
     "output_type": "stream",
     "text": [
      "wwe\n",
      "eww\n"
     ]
    }
   ],
   "source": [
    "for items in mylist:\n",
    "    print(items)"
   ]
  },
  {
   "cell_type": "code",
   "execution_count": 30,
   "id": "65d0d0d4",
   "metadata": {},
   "outputs": [
    {
     "data": {
      "text/plain": [
       "2"
      ]
     },
     "execution_count": 30,
     "metadata": {},
     "output_type": "execute_result"
    }
   ],
   "source": [
    "len(mylist)"
   ]
  },
  {
   "cell_type": "code",
   "execution_count": 37,
   "id": "18072ded",
   "metadata": {},
   "outputs": [],
   "source": [
    "d={'k1':'value1','k2':'value2'}\n"
   ]
  },
  {
   "cell_type": "code",
   "execution_count": 38,
   "id": "94c1392d",
   "metadata": {},
   "outputs": [
    {
     "name": "stdout",
     "output_type": "stream",
     "text": [
      "k1\n",
      "k2\n"
     ]
    }
   ],
   "source": [
    "for items in d:\n",
    "    print(items)             #dictinories"
   ]
  },
  {
   "cell_type": "code",
   "execution_count": 39,
   "id": "5a30ff93",
   "metadata": {},
   "outputs": [
    {
     "name": "stdout",
     "output_type": "stream",
     "text": [
      "value1\n",
      "value2\n"
     ]
    }
   ],
   "source": [
    "for items in d.values():\n",
    "    print(items) "
   ]
  },
  {
   "cell_type": "code",
   "execution_count": 40,
   "id": "fbf6660f",
   "metadata": {},
   "outputs": [
    {
     "name": "stdout",
     "output_type": "stream",
     "text": [
      "k1\n",
      "k2\n"
     ]
    }
   ],
   "source": [
    "for items in d.keys():\n",
    "    print(items) "
   ]
  },
  {
   "cell_type": "code",
   "execution_count": 42,
   "id": "bebe29d6",
   "metadata": {},
   "outputs": [
    {
     "name": "stdout",
     "output_type": "stream",
     "text": [
      "('k1', 'value1')\n",
      "('k2', 'value2')\n"
     ]
    }
   ],
   "source": [
    "for items in d.items():\n",
    "   print(items)"
   ]
  },
  {
   "cell_type": "code",
   "execution_count": 44,
   "id": "4845add7",
   "metadata": {},
   "outputs": [
    {
     "name": "stdout",
     "output_type": "stream",
     "text": [
      "k\n",
      "k\n"
     ]
    }
   ],
   "source": [
    "for key,value in d:\n",
    "    print(key)"
   ]
  },
  {
   "cell_type": "code",
   "execution_count": 45,
   "id": "de8b82ce",
   "metadata": {},
   "outputs": [
    {
     "name": "stdout",
     "output_type": "stream",
     "text": [
      "k\n",
      "1\n",
      "k\n",
      "2\n"
     ]
    }
   ],
   "source": [
    "for key,value in d:\n",
    "    print(key)\n",
    "    print(value)"
   ]
  },
  {
   "cell_type": "code",
   "execution_count": null,
   "id": "5e164926",
   "metadata": {},
   "outputs": [],
   "source": []
  }
 ],
 "metadata": {
  "kernelspec": {
   "display_name": "Python 3",
   "language": "python",
   "name": "python3"
  },
  "language_info": {
   "codemirror_mode": {
    "name": "ipython",
    "version": 3
   },
   "file_extension": ".py",
   "mimetype": "text/x-python",
   "name": "python",
   "nbconvert_exporter": "python",
   "pygments_lexer": "ipython3",
   "version": "3.8.8"
  }
 },
 "nbformat": 4,
 "nbformat_minor": 5
}

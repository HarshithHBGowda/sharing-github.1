{
 "cells": [
  {
   "cell_type": "code",
   "execution_count": 1,
   "id": "7f1c3572",
   "metadata": {},
   "outputs": [],
   "source": [
    "#part one regular expressions"
   ]
  },
  {
   "cell_type": "code",
   "execution_count": 25,
   "id": "6e88d17b",
   "metadata": {},
   "outputs": [],
   "source": [
    "text = \"my phone is fancy\"                               #this is a text"
   ]
  },
  {
   "cell_type": "code",
   "execution_count": 26,
   "id": "8057f92c",
   "metadata": {},
   "outputs": [],
   "source": [
    "import re                                                #regular expresssion import"
   ]
  },
  {
   "cell_type": "code",
   "execution_count": 27,
   "id": "fa1d08fe",
   "metadata": {},
   "outputs": [],
   "source": [
    "pattern = \"phone\"                                        #we need to search the pattern in the text"
   ]
  },
  {
   "cell_type": "code",
   "execution_count": 28,
   "id": "dbe88d27",
   "metadata": {},
   "outputs": [],
   "source": [
    "match = re.search(pattern,text)                           "
   ]
  },
  {
   "cell_type": "code",
   "execution_count": 29,
   "id": "c81b794c",
   "metadata": {},
   "outputs": [
    {
     "data": {
      "text/plain": [
       "<re.Match object; span=(3, 8), match='phone'>"
      ]
     },
     "execution_count": 29,
     "metadata": {},
     "output_type": "execute_result"
    }
   ],
   "source": [
    "match"
   ]
  },
  {
   "cell_type": "code",
   "execution_count": 31,
   "id": "07e6f500",
   "metadata": {},
   "outputs": [
    {
     "data": {
      "text/plain": [
       "(3, 8)"
      ]
     },
     "execution_count": 31,
     "metadata": {},
     "output_type": "execute_result"
    }
   ],
   "source": [
    "match.span()"
   ]
  },
  {
   "cell_type": "code",
   "execution_count": 32,
   "id": "61625ca9",
   "metadata": {},
   "outputs": [],
   "source": [
    "regular = \"the dog is eating the food\""
   ]
  },
  {
   "cell_type": "code",
   "execution_count": 33,
   "id": "1991ae3b",
   "metadata": {},
   "outputs": [],
   "source": [
    "import re"
   ]
  },
  {
   "cell_type": "code",
   "execution_count": 35,
   "id": "6d8eeb98",
   "metadata": {},
   "outputs": [],
   "source": [
    "pattern = \"the\""
   ]
  },
  {
   "cell_type": "code",
   "execution_count": 36,
   "id": "35fa3b27",
   "metadata": {},
   "outputs": [],
   "source": [
    "need =re.search(pattern,regular)"
   ]
  },
  {
   "cell_type": "code",
   "execution_count": 37,
   "id": "5ac1c9e5",
   "metadata": {},
   "outputs": [
    {
     "data": {
      "text/plain": [
       "<re.Match object; span=(0, 3), match='the'>"
      ]
     },
     "execution_count": 37,
     "metadata": {},
     "output_type": "execute_result"
    }
   ],
   "source": [
    "need"
   ]
  },
  {
   "cell_type": "code",
   "execution_count": 38,
   "id": "41315e4d",
   "metadata": {},
   "outputs": [
    {
     "data": {
      "text/plain": [
       "(0, 3)"
      ]
     },
     "execution_count": 38,
     "metadata": {},
     "output_type": "execute_result"
    }
   ],
   "source": [
    "need.span()"
   ]
  },
  {
   "cell_type": "code",
   "execution_count": 39,
   "id": "98a8616a",
   "metadata": {},
   "outputs": [],
   "source": [
    "text=\"regualr expression allow us to serch for genral pattern\""
   ]
  },
  {
   "cell_type": "code",
   "execution_count": 40,
   "id": "a2896016",
   "metadata": {},
   "outputs": [],
   "source": [
    "import re\n",
    "\n",
    "new_pattern = 'allow'\n",
    "\n",
    "found = re.search(new_pattern,text)"
   ]
  },
  {
   "cell_type": "code",
   "execution_count": 41,
   "id": "701920f7",
   "metadata": {},
   "outputs": [
    {
     "data": {
      "text/plain": [
       "<re.Match object; span=(19, 24), match='allow'>"
      ]
     },
     "execution_count": 41,
     "metadata": {},
     "output_type": "execute_result"
    }
   ],
   "source": [
    "found"
   ]
  },
  {
   "cell_type": "code",
   "execution_count": 42,
   "id": "d00ca226",
   "metadata": {},
   "outputs": [
    {
     "data": {
      "text/plain": [
       "(19, 24)"
      ]
     },
     "execution_count": 42,
     "metadata": {},
     "output_type": "execute_result"
    }
   ],
   "source": [
    "found.span()"
   ]
  },
  {
   "cell_type": "code",
   "execution_count": 44,
   "id": "a1ce6586",
   "metadata": {},
   "outputs": [
    {
     "data": {
      "text/plain": [
       "19"
      ]
     },
     "execution_count": 44,
     "metadata": {},
     "output_type": "execute_result"
    }
   ],
   "source": [
    "found.start()"
   ]
  },
  {
   "cell_type": "code",
   "execution_count": 45,
   "id": "35742933",
   "metadata": {},
   "outputs": [
    {
     "data": {
      "text/plain": [
       "24"
      ]
     },
     "execution_count": 45,
     "metadata": {},
     "output_type": "execute_result"
    }
   ],
   "source": [
    "found.end()"
   ]
  },
  {
   "cell_type": "code",
   "execution_count": 46,
   "id": "29078943",
   "metadata": {},
   "outputs": [],
   "source": [
    "#we can find all the instance"
   ]
  },
  {
   "cell_type": "code",
   "execution_count": 48,
   "id": "a43d29e7",
   "metadata": {},
   "outputs": [],
   "source": [
    "text=\"regualr expression allow us to serch for genral pattern and pattern\""
   ]
  },
  {
   "cell_type": "code",
   "execution_count": 49,
   "id": "68671a3f",
   "metadata": {},
   "outputs": [],
   "source": [
    "import re"
   ]
  },
  {
   "cell_type": "code",
   "execution_count": 50,
   "id": "b329698b",
   "metadata": {},
   "outputs": [],
   "source": [
    "one = 'pattern'"
   ]
  },
  {
   "cell_type": "code",
   "execution_count": 51,
   "id": "661659c0",
   "metadata": {},
   "outputs": [],
   "source": [
    "match = re.findall(one,text)"
   ]
  },
  {
   "cell_type": "code",
   "execution_count": 52,
   "id": "16ac5cda",
   "metadata": {},
   "outputs": [
    {
     "data": {
      "text/plain": [
       "['pattern', 'pattern']"
      ]
     },
     "execution_count": 52,
     "metadata": {},
     "output_type": "execute_result"
    }
   ],
   "source": [
    "match"
   ]
  },
  {
   "cell_type": "code",
   "execution_count": 53,
   "id": "178d26d4",
   "metadata": {},
   "outputs": [],
   "source": [
    "#length"
   ]
  },
  {
   "cell_type": "code",
   "execution_count": 54,
   "id": "53442a05",
   "metadata": {},
   "outputs": [
    {
     "data": {
      "text/plain": [
       "2"
      ]
     },
     "execution_count": 54,
     "metadata": {},
     "output_type": "execute_result"
    }
   ],
   "source": [
    "len(match)"
   ]
  },
  {
   "cell_type": "code",
   "execution_count": 60,
   "id": "ee30c4fe",
   "metadata": {},
   "outputs": [],
   "source": [
    "for math in re.finditer('one',text):\n",
    "    print(one.group)\n",
    "    "
   ]
  },
  {
   "cell_type": "code",
   "execution_count": 61,
   "id": "17640bdd",
   "metadata": {},
   "outputs": [],
   "source": [
    "#part two regular expressions"
   ]
  },
  {
   "cell_type": "code",
   "execution_count": 79,
   "id": "b291816e",
   "metadata": {},
   "outputs": [],
   "source": [
    "text='my phone number is 8150-950-935'"
   ]
  },
  {
   "cell_type": "code",
   "execution_count": 84,
   "id": "e86fd446",
   "metadata": {},
   "outputs": [],
   "source": [
    "import re"
   ]
  },
  {
   "cell_type": "code",
   "execution_count": 85,
   "id": "e7d78c6a",
   "metadata": {},
   "outputs": [],
   "source": [
    "phone = '8150-950-935'"
   ]
  },
  {
   "cell_type": "code",
   "execution_count": 91,
   "id": "2ff4cbbb",
   "metadata": {},
   "outputs": [],
   "source": [
    "phone_patter = re.search(\"phone\",text)"
   ]
  },
  {
   "cell_type": "code",
   "execution_count": 92,
   "id": "fde46e50",
   "metadata": {},
   "outputs": [
    {
     "data": {
      "text/plain": [
       "<re.Match object; span=(3, 8), match='phone'>"
      ]
     },
     "execution_count": 92,
     "metadata": {},
     "output_type": "execute_result"
    }
   ],
   "source": [
    "phone_patter"
   ]
  },
  {
   "cell_type": "code",
   "execution_count": 95,
   "id": "c258bc31",
   "metadata": {},
   "outputs": [],
   "source": [
    "text = \"my phone number is 000-000-0000\""
   ]
  },
  {
   "cell_type": "code",
   "execution_count": 103,
   "id": "6e1edf2d",
   "metadata": {},
   "outputs": [],
   "source": [
    "phone = re.search(r'\\d\\d\\d-\\d\\d\\d-\\d\\d\\d\\d',text)"
   ]
  },
  {
   "cell_type": "code",
   "execution_count": 104,
   "id": "da25f983",
   "metadata": {},
   "outputs": [
    {
     "data": {
      "text/plain": [
       "<re.Match object; span=(19, 31), match='000-000-0000'>"
      ]
     },
     "execution_count": 104,
     "metadata": {},
     "output_type": "execute_result"
    }
   ],
   "source": [
    "phone"
   ]
  },
  {
   "cell_type": "code",
   "execution_count": 105,
   "id": "8c6bb3d8",
   "metadata": {},
   "outputs": [
    {
     "data": {
      "text/plain": [
       "'000-000-0000'"
      ]
     },
     "execution_count": 105,
     "metadata": {},
     "output_type": "execute_result"
    }
   ],
   "source": [
    "phone.group()"
   ]
  },
  {
   "cell_type": "code",
   "execution_count": 106,
   "id": "aa0ccbd3",
   "metadata": {},
   "outputs": [],
   "source": [
    "text='my academic score is 479-625'"
   ]
  },
  {
   "cell_type": "code",
   "execution_count": 108,
   "id": "675c7c5d",
   "metadata": {},
   "outputs": [],
   "source": [
    "marks = re.search('479-625',text)"
   ]
  },
  {
   "cell_type": "code",
   "execution_count": 109,
   "id": "4be13f86",
   "metadata": {},
   "outputs": [
    {
     "data": {
      "text/plain": [
       "<re.Match object; span=(21, 28), match='479-625'>"
      ]
     },
     "execution_count": 109,
     "metadata": {},
     "output_type": "execute_result"
    }
   ],
   "source": [
    "marks"
   ]
  },
  {
   "cell_type": "code",
   "execution_count": 111,
   "id": "dcd6dd0f",
   "metadata": {},
   "outputs": [
    {
     "data": {
      "text/plain": [
       "<function Match.groups(default=None)>"
      ]
     },
     "execution_count": 111,
     "metadata": {},
     "output_type": "execute_result"
    }
   ],
   "source": [
    "marks.groups"
   ]
  },
  {
   "cell_type": "code",
   "execution_count": 112,
   "id": "fa96ef6e",
   "metadata": {},
   "outputs": [],
   "source": [
    "final = re.search(r'\\d\\d\\d-\\d\\d\\d',text)"
   ]
  },
  {
   "cell_type": "code",
   "execution_count": 115,
   "id": "27201a48",
   "metadata": {},
   "outputs": [
    {
     "data": {
      "text/plain": [
       "'479-625'"
      ]
     },
     "execution_count": 115,
     "metadata": {},
     "output_type": "execute_result"
    }
   ],
   "source": [
    "final.group()"
   ]
  },
  {
   "cell_type": "code",
   "execution_count": 116,
   "id": "869896e2",
   "metadata": {},
   "outputs": [],
   "source": [
    "#using quntifiers"
   ]
  },
  {
   "cell_type": "code",
   "execution_count": 131,
   "id": "c088c47d",
   "metadata": {},
   "outputs": [],
   "source": [
    "final = re.search(r'\\d{3},\\d{3}',text)"
   ]
  },
  {
   "cell_type": "code",
   "execution_count": 132,
   "id": "42296497",
   "metadata": {},
   "outputs": [],
   "source": [
    "final"
   ]
  },
  {
   "cell_type": "code",
   "execution_count": 133,
   "id": "11248f90",
   "metadata": {},
   "outputs": [],
   "source": [
    "#need to re compile"
   ]
  },
  {
   "cell_type": "code",
   "execution_count": 137,
   "id": "8ff60319",
   "metadata": {},
   "outputs": [],
   "source": [
    "final_pattern = re.compile(r'(\\d{3})-(\\d{3})')"
   ]
  },
  {
   "cell_type": "code",
   "execution_count": 138,
   "id": "6b6b4752",
   "metadata": {},
   "outputs": [],
   "source": [
    "res = re.search(final_pattern,text)"
   ]
  },
  {
   "cell_type": "code",
   "execution_count": 139,
   "id": "e5c26dee",
   "metadata": {},
   "outputs": [
    {
     "data": {
      "text/plain": [
       "'479-625'"
      ]
     },
     "execution_count": 139,
     "metadata": {},
     "output_type": "execute_result"
    }
   ],
   "source": [
    "res.group()"
   ]
  },
  {
   "cell_type": "code",
   "execution_count": 140,
   "id": "f932cca4",
   "metadata": {},
   "outputs": [
    {
     "data": {
      "text/plain": [
       "'479'"
      ]
     },
     "execution_count": 140,
     "metadata": {},
     "output_type": "execute_result"
    }
   ],
   "source": [
    "res.group(1)"
   ]
  },
  {
   "cell_type": "code",
   "execution_count": 141,
   "id": "085c09fe",
   "metadata": {},
   "outputs": [
    {
     "data": {
      "text/plain": [
       "'625'"
      ]
     },
     "execution_count": 141,
     "metadata": {},
     "output_type": "execute_result"
    }
   ],
   "source": [
    "res.group(2)"
   ]
  },
  {
   "cell_type": "code",
   "execution_count": 154,
   "id": "d7ae651e",
   "metadata": {},
   "outputs": [],
   "source": [
    "text = \"my native code is 571-40-5\""
   ]
  },
  {
   "cell_type": "code",
   "execution_count": 155,
   "id": "52fdb5fb",
   "metadata": {},
   "outputs": [],
   "source": [
    "pin = '571-40-5'"
   ]
  },
  {
   "cell_type": "code",
   "execution_count": 156,
   "id": "d1336101",
   "metadata": {},
   "outputs": [],
   "source": [
    "pin_pattern =re.search(r'\\d\\d\\d-\\d\\d-\\d',text)"
   ]
  },
  {
   "cell_type": "code",
   "execution_count": 157,
   "id": "d0aba0a2",
   "metadata": {},
   "outputs": [
    {
     "data": {
      "text/plain": [
       "'571-40-5'"
      ]
     },
     "execution_count": 157,
     "metadata": {},
     "output_type": "execute_result"
    }
   ],
   "source": [
    "pin_pattern.group()"
   ]
  },
  {
   "cell_type": "code",
   "execution_count": 159,
   "id": "cbe2bf36",
   "metadata": {},
   "outputs": [],
   "source": [
    "pins = re.compile(r'(\\d{3})-(\\d{2})-(\\d{1})')"
   ]
  },
  {
   "cell_type": "code",
   "execution_count": 162,
   "id": "115c530f",
   "metadata": {},
   "outputs": [],
   "source": [
    "result =re.search(pins,text)"
   ]
  },
  {
   "cell_type": "code",
   "execution_count": 164,
   "id": "1a51bc65",
   "metadata": {},
   "outputs": [
    {
     "data": {
      "text/plain": [
       "('571', '40', '5')"
      ]
     },
     "execution_count": 164,
     "metadata": {},
     "output_type": "execute_result"
    }
   ],
   "source": [
    "result.groups(3)"
   ]
  },
  {
   "cell_type": "code",
   "execution_count": null,
   "id": "e69b462f",
   "metadata": {},
   "outputs": [],
   "source": [
    "#part 3 regular expression"
   ]
  },
  {
   "cell_type": "code",
   "execution_count": null,
   "id": "f02ae120",
   "metadata": {},
   "outputs": [],
   "source": [
    "#ADDITIONAL REGEX SYNTAX"
   ]
  },
  {
   "cell_type": "code",
   "execution_count": 2,
   "id": "f7bb6c21",
   "metadata": {},
   "outputs": [],
   "source": [
    "import re"
   ]
  },
  {
   "cell_type": "code",
   "execution_count": 4,
   "id": "46b69824",
   "metadata": {},
   "outputs": [],
   "source": [
    "res = re.search(r'cat','the cat is here')"
   ]
  },
  {
   "cell_type": "code",
   "execution_count": 7,
   "id": "78a53430",
   "metadata": {},
   "outputs": [
    {
     "data": {
      "text/plain": [
       "<re.Match object; span=(4, 7), match='cat'>"
      ]
     },
     "execution_count": 7,
     "metadata": {},
     "output_type": "execute_result"
    }
   ],
   "source": [
    "res"
   ]
  },
  {
   "cell_type": "code",
   "execution_count": 8,
   "id": "79a4fe88",
   "metadata": {},
   "outputs": [
    {
     "data": {
      "text/plain": [
       "(4, 7)"
      ]
     },
     "execution_count": 8,
     "metadata": {},
     "output_type": "execute_result"
    }
   ],
   "source": [
    "res.span()"
   ]
  },
  {
   "cell_type": "code",
   "execution_count": 9,
   "id": "76290cca",
   "metadata": {},
   "outputs": [
    {
     "data": {
      "text/plain": [
       "['cat', 'hat', 'sat']"
      ]
     },
     "execution_count": 9,
     "metadata": {},
     "output_type": "execute_result"
    }
   ],
   "source": [
    "re.findall(r'.at','the cat is in hat sat there')"
   ]
  },
  {
   "cell_type": "code",
   "execution_count": 13,
   "id": "6863dcd9",
   "metadata": {},
   "outputs": [
    {
     "data": {
      "text/plain": [
       "['e cat', 'n hat', 'sphat']"
      ]
     },
     "execution_count": 13,
     "metadata": {},
     "output_type": "execute_result"
    }
   ],
   "source": [
    "re.findall(r'...at','the cat is in hat sat there even asphat')"
   ]
  },
  {
   "cell_type": "code",
   "execution_count": 17,
   "id": "1da58b4d",
   "metadata": {},
   "outputs": [
    {
     "data": {
      "text/plain": [
       "['e ok', 's ok', 't ok']"
      ]
     },
     "execution_count": 17,
     "metadata": {},
     "output_type": "execute_result"
    }
   ],
   "source": [
    "re.findall(r'..ok','the ok is okie not okay')"
   ]
  },
  {
   "cell_type": "code",
   "execution_count": 18,
   "id": "17461926",
   "metadata": {},
   "outputs": [
    {
     "data": {
      "text/plain": [
       "['bat', 'cat']"
      ]
     },
     "execution_count": 18,
     "metadata": {},
     "output_type": "execute_result"
    }
   ],
   "source": [
    "re.findall(r'.at','the bat is in the cat')"
   ]
  },
  {
   "cell_type": "code",
   "execution_count": 20,
   "id": "92920797",
   "metadata": {},
   "outputs": [],
   "source": [
    "#above are the wildcard charcters"
   ]
  },
  {
   "cell_type": "code",
   "execution_count": 21,
   "id": "0f8df1fa",
   "metadata": {},
   "outputs": [
    {
     "data": {
      "text/plain": [
       "['1']"
      ]
     },
     "execution_count": 21,
     "metadata": {},
     "output_type": "execute_result"
    }
   ],
   "source": [
    "re.findall(r'^\\d','1 is')              #^ start with digit"
   ]
  },
  {
   "cell_type": "code",
   "execution_count": 22,
   "id": "ba3b805f",
   "metadata": {},
   "outputs": [
    {
     "data": {
      "text/plain": [
       "['9']"
      ]
     },
     "execution_count": 22,
     "metadata": {},
     "output_type": "execute_result"
    }
   ],
   "source": [
    "re.findall(r'^\\d','9 is my fav')"
   ]
  },
  {
   "cell_type": "code",
   "execution_count": 24,
   "id": "d0190643",
   "metadata": {},
   "outputs": [
    {
     "data": {
      "text/plain": [
       "['9']"
      ]
     },
     "execution_count": 24,
     "metadata": {},
     "output_type": "execute_result"
    }
   ],
   "source": [
    "re.findall(r'\\d$',\"hello my number is 9\")           #$ends with number"
   ]
  },
  {
   "cell_type": "code",
   "execution_count": 25,
   "id": "28ed87b4",
   "metadata": {},
   "outputs": [
    {
     "data": {
      "text/plain": [
       "['9']"
      ]
     },
     "execution_count": 25,
     "metadata": {},
     "output_type": "execute_result"
    }
   ],
   "source": [
    "re.findall(r'\\d$','okay 199')                          #it will give only last digit"
   ]
  },
  {
   "cell_type": "code",
   "execution_count": 29,
   "id": "8e1b3044",
   "metadata": {},
   "outputs": [],
   "source": [
    "pharse = \"there are 3 numbers 34 inside the 5 this is the sentence\""
   ]
  },
  {
   "cell_type": "code",
   "execution_count": 34,
   "id": "91b85183",
   "metadata": {},
   "outputs": [],
   "source": [
    "pattern = (r'[^\\d]')"
   ]
  },
  {
   "cell_type": "code",
   "execution_count": 35,
   "id": "329d7020",
   "metadata": {},
   "outputs": [
    {
     "data": {
      "text/plain": [
       "['t',\n",
       " 'h',\n",
       " 'e',\n",
       " 'r',\n",
       " 'e',\n",
       " ' ',\n",
       " 'a',\n",
       " 'r',\n",
       " 'e',\n",
       " ' ',\n",
       " ' ',\n",
       " 'n',\n",
       " 'u',\n",
       " 'm',\n",
       " 'b',\n",
       " 'e',\n",
       " 'r',\n",
       " 's',\n",
       " ' ',\n",
       " ' ',\n",
       " 'i',\n",
       " 'n',\n",
       " 's',\n",
       " 'i',\n",
       " 'd',\n",
       " 'e',\n",
       " ' ',\n",
       " 't',\n",
       " 'h',\n",
       " 'e',\n",
       " ' ',\n",
       " ' ',\n",
       " 't',\n",
       " 'h',\n",
       " 'i',\n",
       " 's',\n",
       " ' ',\n",
       " 'i',\n",
       " 's',\n",
       " ' ',\n",
       " 't',\n",
       " 'h',\n",
       " 'e',\n",
       " ' ',\n",
       " 's',\n",
       " 'e',\n",
       " 'n',\n",
       " 't',\n",
       " 'e',\n",
       " 'n',\n",
       " 'c',\n",
       " 'e']"
      ]
     },
     "execution_count": 35,
     "metadata": {},
     "output_type": "execute_result"
    }
   ],
   "source": [
    "re.findall(pattern,pharse)"
   ]
  },
  {
   "cell_type": "code",
   "execution_count": 36,
   "id": "83d207b3",
   "metadata": {},
   "outputs": [],
   "source": [
    "pattern = (r'[^\\d]+')"
   ]
  },
  {
   "cell_type": "code",
   "execution_count": 37,
   "id": "81584213",
   "metadata": {},
   "outputs": [
    {
     "data": {
      "text/plain": [
       "['there are ', ' numbers ', ' inside the ', ' this is the sentence']"
      ]
     },
     "execution_count": 37,
     "metadata": {},
     "output_type": "execute_result"
    }
   ],
   "source": [
    "re.findall(pattern,pharse)"
   ]
  },
  {
   "cell_type": "code",
   "execution_count": 38,
   "id": "a4a0faa7",
   "metadata": {},
   "outputs": [],
   "source": [
    "# WE CAN ALSO REMOVE ? AND !"
   ]
  },
  {
   "cell_type": "code",
   "execution_count": 39,
   "id": "d8ed1ecf",
   "metadata": {},
   "outputs": [],
   "source": [
    "test_pharse = 'this is the string? but its has punctual!.how can i remove'"
   ]
  },
  {
   "cell_type": "code",
   "execution_count": 43,
   "id": "a1a6fdd0",
   "metadata": {},
   "outputs": [],
   "source": [
    "clean = re.findall(r'[^!.?]+',test_pharse)"
   ]
  },
  {
   "cell_type": "code",
   "execution_count": 44,
   "id": "f5a390ed",
   "metadata": {},
   "outputs": [
    {
     "data": {
      "text/plain": [
       "'this is the string  but its has punctual how can i remove'"
      ]
     },
     "execution_count": 44,
     "metadata": {},
     "output_type": "execute_result"
    }
   ],
   "source": [
    "\" \".join(clean)"
   ]
  },
  {
   "cell_type": "code",
   "execution_count": null,
   "id": "1275da47",
   "metadata": {},
   "outputs": [],
   "source": [
    "#we can also remove hypens"
   ]
  },
  {
   "cell_type": "code",
   "execution_count": 45,
   "id": "3bca9eb1",
   "metadata": {},
   "outputs": [],
   "source": [
    "text = \"only find the hypen_word\""
   ]
  },
  {
   "cell_type": "code",
   "execution_count": 46,
   "id": "2931e9b9",
   "metadata": {},
   "outputs": [],
   "source": [
    "pattern = (r'[\\w]')"
   ]
  },
  {
   "cell_type": "code",
   "execution_count": 47,
   "id": "c0f0b82d",
   "metadata": {},
   "outputs": [
    {
     "data": {
      "text/plain": [
       "'[\\\\w]'"
      ]
     },
     "execution_count": 47,
     "metadata": {},
     "output_type": "execute_result"
    }
   ],
   "source": [
    "pattern"
   ]
  },
  {
   "cell_type": "code",
   "execution_count": null,
   "id": "09c9359b",
   "metadata": {},
   "outputs": [],
   "source": []
  }
 ],
 "metadata": {
  "kernelspec": {
   "display_name": "Python 3",
   "language": "python",
   "name": "python3"
  },
  "language_info": {
   "codemirror_mode": {
    "name": "ipython",
    "version": 3
   },
   "file_extension": ".py",
   "mimetype": "text/x-python",
   "name": "python",
   "nbconvert_exporter": "python",
   "pygments_lexer": "ipython3",
   "version": "3.8.8"
  }
 },
 "nbformat": 4,
 "nbformat_minor": 5
}

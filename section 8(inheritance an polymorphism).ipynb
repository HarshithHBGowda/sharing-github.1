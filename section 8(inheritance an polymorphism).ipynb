{
 "cells": [
  {
   "cell_type": "code",
   "execution_count": 80,
   "id": "3c9dc80e",
   "metadata": {},
   "outputs": [],
   "source": [
    "#INHERITANCE \n",
    "\n",
    "\n",
    "\n",
    "class Animal():\n",
    "    \n",
    "    def __init__(self):\n",
    "        print('animal created')                                  #BASS Class\n",
    "    \n",
    "    def who_i_am(self):\n",
    "        print(\"i am a dog\")\n",
    "              \n",
    "    def eat(self):\n",
    "        print('i am a eating')"
   ]
  },
  {
   "cell_type": "code",
   "execution_count": 81,
   "id": "fd780a53",
   "metadata": {},
   "outputs": [
    {
     "name": "stdout",
     "output_type": "stream",
     "text": [
      "Dog created\n"
     ]
    }
   ],
   "source": [
    "class Dog(Animal):\n",
    "    \n",
    "    def __init__(self):\n",
    "        Animal.__init__(self)                                #inherit class\n",
    "    print('Dog created')       \n",
    "    \n",
    "    def who_i_am(self):\n",
    "        print('i am a dog')\n",
    "        \n",
    "    \n",
    "    \n",
    "    \n",
    "    "
   ]
  },
  {
   "cell_type": "code",
   "execution_count": 82,
   "id": "b5fabbf3",
   "metadata": {},
   "outputs": [
    {
     "name": "stdout",
     "output_type": "stream",
     "text": [
      "animal created\n"
     ]
    }
   ],
   "source": [
    "my_dog = Dog()"
   ]
  },
  {
   "cell_type": "code",
   "execution_count": 83,
   "id": "ff37f56c",
   "metadata": {},
   "outputs": [
    {
     "name": "stdout",
     "output_type": "stream",
     "text": [
      "animal created\n"
     ]
    }
   ],
   "source": [
    "my_dog = Animal()"
   ]
  },
  {
   "cell_type": "code",
   "execution_count": 84,
   "id": "5a3ca870",
   "metadata": {},
   "outputs": [
    {
     "name": "stdout",
     "output_type": "stream",
     "text": [
      "i am a dog\n"
     ]
    }
   ],
   "source": [
    "my_dog.who_i_am()"
   ]
  },
  {
   "cell_type": "code",
   "execution_count": 79,
   "id": "5e146cc0",
   "metadata": {},
   "outputs": [
    {
     "name": "stdout",
     "output_type": "stream",
     "text": [
      "i am a eating\n"
     ]
    }
   ],
   "source": [
    "my_dog.eat()"
   ]
  },
  {
   "cell_type": "code",
   "execution_count": 105,
   "id": "9a5bfc4a",
   "metadata": {},
   "outputs": [],
   "source": [
    "class Zoo():\n",
    "    \n",
    "    def __init__(self):\n",
    "        print(\"zoo creted\")\n",
    "        \n",
    "    def visit(slef):\n",
    "        print('people visted')\n",
    "        \n",
    "    def fee(self):\n",
    "        print(\"ticket\")\n",
    "    "
   ]
  },
  {
   "cell_type": "code",
   "execution_count": 106,
   "id": "fa498ba7",
   "metadata": {},
   "outputs": [],
   "source": [
    "class Mysore(Zoo):\n",
    "    \n",
    "    def __init__(slef):\n",
    "        Zoo.__init__(slef) \n",
    "        \n",
    "    def visit(self):\n",
    "        print(\"not visted\")                     #overwrite done from bass class\n",
    "        \n",
    "        \n",
    "    "
   ]
  },
  {
   "cell_type": "code",
   "execution_count": 107,
   "id": "e014dd1f",
   "metadata": {},
   "outputs": [
    {
     "name": "stdout",
     "output_type": "stream",
     "text": [
      "zoo creted\n"
     ]
    }
   ],
   "source": [
    "my_zoo = Zoo()"
   ]
  },
  {
   "cell_type": "code",
   "execution_count": 108,
   "id": "f0c38ae0",
   "metadata": {},
   "outputs": [
    {
     "name": "stdout",
     "output_type": "stream",
     "text": [
      "zoo creted\n"
     ]
    }
   ],
   "source": [
    "my_zoo = Mysore()"
   ]
  },
  {
   "cell_type": "code",
   "execution_count": 104,
   "id": "4baa830d",
   "metadata": {},
   "outputs": [
    {
     "name": "stdout",
     "output_type": "stream",
     "text": [
      "not visted\n"
     ]
    }
   ],
   "source": [
    "my_zoo.visit()"
   ]
  },
  {
   "cell_type": "code",
   "execution_count": 112,
   "id": "53c259a0",
   "metadata": {},
   "outputs": [
    {
     "name": "stdout",
     "output_type": "stream",
     "text": [
      "zoo creted\n"
     ]
    }
   ],
   "source": [
    "my_zoo = Mysore()"
   ]
  },
  {
   "cell_type": "code",
   "execution_count": 113,
   "id": "9e05acd7",
   "metadata": {},
   "outputs": [
    {
     "name": "stdout",
     "output_type": "stream",
     "text": [
      "ticket\n"
     ]
    }
   ],
   "source": [
    "my_zoo.fee()"
   ]
  },
  {
   "cell_type": "code",
   "execution_count": 114,
   "id": "a4f94149",
   "metadata": {},
   "outputs": [],
   "source": [
    "#POLYMORPHISMS"
   ]
  },
  {
   "cell_type": "code",
   "execution_count": 10,
   "id": "755010ee",
   "metadata": {},
   "outputs": [],
   "source": [
    "class Dog():\n",
    "    \n",
    "    def __init__(self,name):\n",
    "        self.name = name\n",
    "        \n",
    "    def speak(self):\n",
    "        return self.name + \"woof\""
   ]
  },
  {
   "cell_type": "code",
   "execution_count": 11,
   "id": "6ed817da",
   "metadata": {},
   "outputs": [],
   "source": [
    "class Cat():\n",
    "    \n",
    "    def __init__(self,name):\n",
    "        self.name = name\n",
    "        \n",
    "    def speak(self):\n",
    "        return self.name + \"meow\""
   ]
  },
  {
   "cell_type": "code",
   "execution_count": 12,
   "id": "65d629cb",
   "metadata": {},
   "outputs": [],
   "source": [
    "frankie = Dog('frankie')                         "
   ]
  },
  {
   "cell_type": "code",
   "execution_count": 13,
   "id": "7a28d248",
   "metadata": {},
   "outputs": [],
   "source": [
    "nikio = Cat('nikio')"
   ]
  },
  {
   "cell_type": "code",
   "execution_count": 14,
   "id": "86286cda",
   "metadata": {},
   "outputs": [
    {
     "name": "stdout",
     "output_type": "stream",
     "text": [
      "nikiomeow\n"
     ]
    }
   ],
   "source": [
    "print(nikio.speak())"
   ]
  },
  {
   "cell_type": "code",
   "execution_count": 15,
   "id": "c37d87c3",
   "metadata": {},
   "outputs": [
    {
     "name": "stdout",
     "output_type": "stream",
     "text": [
      "frankiewoof\n"
     ]
    }
   ],
   "source": [
    "print(frankie.speak())"
   ]
  },
  {
   "cell_type": "code",
   "execution_count": null,
   "id": "5e114ff9",
   "metadata": {},
   "outputs": [],
   "source": []
  }
 ],
 "metadata": {
  "kernelspec": {
   "display_name": "Python 3",
   "language": "python",
   "name": "python3"
  },
  "language_info": {
   "codemirror_mode": {
    "name": "ipython",
    "version": 3
   },
   "file_extension": ".py",
   "mimetype": "text/x-python",
   "name": "python",
   "nbconvert_exporter": "python",
   "pygments_lexer": "ipython3",
   "version": "3.8.8"
  }
 },
 "nbformat": 4,
 "nbformat_minor": 5
}

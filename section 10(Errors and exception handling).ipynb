{
 "cells": [
  {
   "cell_type": "code",
   "execution_count": 4,
   "id": "3314fc5e",
   "metadata": {},
   "outputs": [
    {
     "name": "stdout",
     "output_type": "stream",
     "text": [
      "Run only if try bloack is wrong\n"
     ]
    }
   ],
   "source": [
    "try:                                                    #try block here we want to attempt the code\n",
    "    10 + yee\n",
    "    \n",
    "    \n",
    "\n",
    "except :                                                 #it occurs whene there is an erorr in try block\n",
    "    print('Run only if try bloack is wrong')"
   ]
  },
  {
   "cell_type": "code",
   "execution_count": 8,
   "id": "59119232",
   "metadata": {},
   "outputs": [
    {
     "name": "stdout",
     "output_type": "stream",
     "text": [
      "ten is int 2 is string\n"
     ]
    }
   ],
   "source": [
    "try:\n",
    "    10+\"2\"\n",
    "    \n",
    "    \n",
    "except :\n",
    "    print(\"ten is int 2 is string\")                    #except occurs beacuse an erorr in try\n",
    "\n",
    "    \n",
    "else:\n",
    "    print(\"okay\")"
   ]
  },
  {
   "cell_type": "code",
   "execution_count": 9,
   "id": "ca52375a",
   "metadata": {},
   "outputs": [
    {
     "name": "stdout",
     "output_type": "stream",
     "text": [
      "try block will excute no need except block\n"
     ]
    }
   ],
   "source": [
    "try:\n",
    "    print(\"try block will excute no need except block\")\n",
    "    \n",
    "    \n",
    "except:\n",
    "    print(\"no\")\n",
    "    "
   ]
  },
  {
   "cell_type": "code",
   "execution_count": 11,
   "id": "3139328b",
   "metadata": {},
   "outputs": [
    {
     "name": "stdout",
     "output_type": "stream",
     "text": [
      "the dog\n",
      "fiannly\n"
     ]
    }
   ],
   "source": [
    "try:\n",
    "    \n",
    "    print(\"the dog\")\n",
    "    \n",
    "\n",
    "except:\n",
    "    \n",
    "    print(\"ok\")\n",
    "    \n",
    "    \n",
    "finally: \n",
    "    \n",
    "    print(\"fiannly\")"
   ]
  },
  {
   "cell_type": "code",
   "execution_count": 13,
   "id": "65a91076",
   "metadata": {},
   "outputs": [
    {
     "name": "stdout",
     "output_type": "stream",
     "text": [
      "okay\n"
     ]
    }
   ],
   "source": [
    "try:\n",
    "    f=open(\"test file\",'w')\n",
    "    f.write(\"write a test link\")\n",
    "    \n",
    "except:\n",
    "    print(\"try block is correct\")\n",
    "finally:\n",
    "    print(\"okay\")"
   ]
  },
  {
   "cell_type": "code",
   "execution_count": 19,
   "id": "aa46545b",
   "metadata": {},
   "outputs": [
    {
     "name": "stdout",
     "output_type": "stream",
     "text": [
      "thanks\n",
      "oky\n"
     ]
    }
   ],
   "source": [
    "try:\n",
    "    print(kkkkk)\n",
    "except:\n",
    "    print(\"thanks\")\n",
    "else:\n",
    "    print('ok')\n",
    "finally:\n",
    "    print(\"oky\")"
   ]
  },
  {
   "cell_type": "code",
   "execution_count": 3,
   "id": "58ecdf5b",
   "metadata": {},
   "outputs": [],
   "source": [
    "def ask_for_input():\n",
    "    \n",
    "    while True:\n",
    "        try:\n",
    "            result = int(input(\"please enter the number\"))\n",
    "        except:\n",
    "            print(\"enter the correct number\")\n",
    "            continue\n",
    "        else:\n",
    "            print(\"thanks\")\n",
    "            break\n",
    "        finally:\n",
    "            print(\"the end \")\n",
    "        \n",
    "        \n"
   ]
  },
  {
   "cell_type": "code",
   "execution_count": null,
   "id": "0cadc7ff",
   "metadata": {},
   "outputs": [
    {
     "name": "stdout",
     "output_type": "stream",
     "text": [
      "please enter the numberooo\n",
      "enter the correct number\n",
      "the end \n"
     ]
    }
   ],
   "source": [
    "ask_for_input()"
   ]
  },
  {
   "cell_type": "code",
   "execution_count": 1,
   "id": "1479b9ce",
   "metadata": {},
   "outputs": [],
   "source": [
    "def ask_for_float():\n",
    "    while True:\n",
    "        try:\n",
    "            result = float(input(\"Enter the number: \"))\n",
    "        except:\n",
    "            print(\"please enter the correct number\")\n",
    "            continue\n",
    "        else:\n",
    "            print(\"okay goood\")\n",
    "            break\n",
    "        finally:\n",
    "            print(\"ok\")\n",
    "            print(\"thanks for the number\")"
   ]
  },
  {
   "cell_type": "code",
   "execution_count": 3,
   "id": "4b457895",
   "metadata": {},
   "outputs": [
    {
     "name": "stdout",
     "output_type": "stream",
     "text": [
      "Enter the number: 9.0\n",
      "okay goood\n",
      "ok\n",
      "thanks for the number\n"
     ]
    }
   ],
   "source": [
    "ask_for_float()\n"
   ]
  },
  {
   "cell_type": "code",
   "execution_count": null,
   "id": "f5bd1adf",
   "metadata": {},
   "outputs": [],
   "source": []
  },
  {
   "cell_type": "code",
   "execution_count": null,
   "id": "5fedeed0",
   "metadata": {},
   "outputs": [],
   "source": []
  },
  {
   "cell_type": "code",
   "execution_count": null,
   "id": "92c1d517",
   "metadata": {},
   "outputs": [],
   "source": []
  }
 ],
 "metadata": {
  "kernelspec": {
   "display_name": "Python 3",
   "language": "python",
   "name": "python3"
  },
  "language_info": {
   "codemirror_mode": {
    "name": "ipython",
    "version": 3
   },
   "file_extension": ".py",
   "mimetype": "text/x-python",
   "name": "python",
   "nbconvert_exporter": "python",
   "pygments_lexer": "ipython3",
   "version": "3.8.8"
  }
 },
 "nbformat": 4,
 "nbformat_minor": 5
}

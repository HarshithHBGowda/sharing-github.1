{
 "cells": [
  {
   "cell_type": "code",
   "execution_count": 2,
   "id": "dccd56df",
   "metadata": {},
   "outputs": [
    {
     "name": "stdout",
     "output_type": "stream",
     "text": [
      "true\n"
     ]
    }
   ],
   "source": [
    "if 9>2:\n",
    "    print('True')\n",
    "    "
   ]
  },
  {
   "cell_type": "code",
   "execution_count": 29,
   "id": "5febcf54",
   "metadata": {},
   "outputs": [
    {
     "name": "stdout",
     "output_type": "stream",
     "text": [
      "its ok\n"
     ]
    }
   ],
   "source": [
    "if 10>11:\n",
    "    print('false')\n",
    "else:\n",
    "    print('its ok')\n",
    "    "
   ]
  },
  {
   "cell_type": "code",
   "execution_count": 13,
   "id": "49c9e349",
   "metadata": {},
   "outputs": [
    {
     "name": "stdout",
     "output_type": "stream",
     "text": [
      "no\n"
     ]
    }
   ],
   "source": [
    "if 23<78:\n",
    "    print('no')\n",
    "    \n"
   ]
  },
  {
   "cell_type": "code",
   "execution_count": 36,
   "id": "f3b39385",
   "metadata": {},
   "outputs": [
    {
     "name": "stdout",
     "output_type": "stream",
     "text": [
      "true\n"
     ]
    }
   ],
   "source": [
    "if 2==2: \n",
    "    print('true')\n",
    " \n",
    "    \n",
    "\n",
    "    "
   ]
  },
  {
   "cell_type": "code",
   "execution_count": 55,
   "id": "12e001c5",
   "metadata": {},
   "outputs": [
    {
     "name": "stdout",
     "output_type": "stream",
     "text": [
      "my native\n"
     ]
    }
   ],
   "source": [
    "loc ='mandya'\n",
    "\n",
    "if loc == 'mandya':\n",
    "    \n",
    "    print('my native')\n",
    "    \n",
    "else:\n",
    "    \n",
    "    print('not my native')\n"
   ]
  },
  {
   "cell_type": "code",
   "execution_count": 58,
   "id": "e4600907",
   "metadata": {},
   "outputs": [
    {
     "name": "stdout",
     "output_type": "stream",
     "text": [
      "yes.\n"
     ]
    }
   ],
   "source": [
    "name = 'harshith' \n",
    "\n",
    "if name == 'gowda' :\n",
    "\n",
    "    print('not good!')\n",
    "\n",
    "else: \n",
    "    \n",
    "     print('yes.')\n",
    "    \n",
    "\n",
    "\n"
   ]
  },
  {
   "cell_type": "code",
   "execution_count": 63,
   "id": "7747ee9c",
   "metadata": {},
   "outputs": [
    {
     "name": "stdout",
     "output_type": "stream",
     "text": [
      "hello sammy\n"
     ]
    }
   ],
   "source": [
    "name = 'sammy'\n",
    "\n",
    "if name == 'frankie': \n",
    "    \n",
    "    print('hello frankie')\n",
    "\n",
    "elif name =='sammy':\n",
    "    \n",
    "    print('hello sammy')\n",
    "    \n",
    "else:\n",
    "        \n",
    "    print('what is your name')\n"
   ]
  },
  {
   "cell_type": "code",
   "execution_count": 71,
   "id": "8c3fb2fa",
   "metadata": {},
   "outputs": [
    {
     "name": "stdout",
     "output_type": "stream",
     "text": [
      "hello\n"
     ]
    }
   ],
   "source": [
    "name ='harshith'\n",
    "\n",
    "if name == 'gowda':\n",
    "    \n",
    "    print('its not name')\n",
    "        \n",
    "elif name == 'harshith':\n",
    "    \n",
    "    print('hello')\n",
    "    \n",
    "else: \n",
    "    \n",
    "    print('harshith')"
   ]
  },
  {
   "cell_type": "code",
   "execution_count": 74,
   "id": "22e38380",
   "metadata": {},
   "outputs": [
    {
     "name": "stdout",
     "output_type": "stream",
     "text": [
      "true\n"
     ]
    }
   ],
   "source": [
    "bank = True\n",
    "\n",
    "if bank =='aaa':\n",
    "    \n",
    "    print('false')\n",
    "    \n",
    "else: \n",
    "    print('true')"
   ]
  },
  {
   "cell_type": "code",
   "execution_count": 75,
   "id": "6bb15103",
   "metadata": {},
   "outputs": [
    {
     "name": "stdout",
     "output_type": "stream",
     "text": [
      "i am not\n"
     ]
    }
   ],
   "source": [
    "hungry = False\n",
    "\n",
    "if hungry:\n",
    "     \n",
    "    print('feed my dog!')      \n",
    "else:\n",
    "    print('i am not')\n",
    "    "
   ]
  },
  {
   "cell_type": "code",
   "execution_count": 79,
   "id": "f2fbc3e1",
   "metadata": {},
   "outputs": [
    {
     "name": "stdout",
     "output_type": "stream",
     "text": [
      "am hungry\n"
     ]
    }
   ],
   "source": [
    "hungry = False\n",
    "\n",
    "if hungry:\n",
    "     \n",
    "    print('feed my dog!')        \n",
    "\n",
    "else:\n",
    "    print('am hungry')\n",
    "    "
   ]
  },
  {
   "cell_type": "code",
   "execution_count": 80,
   "id": "4bcc818b",
   "metadata": {},
   "outputs": [
    {
     "name": "stdout",
     "output_type": "stream",
     "text": [
      "its not mandya\n"
     ]
    }
   ],
   "source": [
    "loc ==' banglore'\n",
    "\n",
    "if loc =='mandya': \n",
    "    \n",
    "    print('its not mandya') \n",
    "    \n",
    "elif loc == 'mysore':  \n",
    "    \n",
    "    print('its not mandya')\n",
    "else:\n",
    "    print('its banglore')   "
   ]
  },
  {
   "cell_type": "code",
   "execution_count": 86,
   "id": "e1fda086",
   "metadata": {},
   "outputs": [
    {
     "name": "stdout",
     "output_type": "stream",
     "text": [
      "its banglore\n"
     ]
    }
   ],
   "source": [
    "loc =' banglore'\n",
    "\n",
    "if loc =='mandya': \n",
    "    \n",
    "    print('its not mandya') \n",
    "    \n",
    "elif loc == 'banglore':  \n",
    "    \n",
    "    print('its not mandya')\n",
    "else:\n",
    "    print('its banglore')   "
   ]
  },
  {
   "cell_type": "code",
   "execution_count": 85,
   "id": "1a0f165f",
   "metadata": {},
   "outputs": [
    {
     "name": "stdout",
     "output_type": "stream",
     "text": [
      "its not banglore\n"
     ]
    }
   ],
   "source": [
    "loc =' banglore'\n",
    "\n",
    "if loc =='mandya': \n",
    "    \n",
    "    print('its not mandya') \n",
    "    \n",
    "elif loc == 'banglore':  \n",
    "    \n",
    "    print('its banglore')\n",
    "else:\n",
    "    print('its not banglore')   "
   ]
  },
  {
   "cell_type": "code",
   "execution_count": 87,
   "id": "21be6309",
   "metadata": {},
   "outputs": [
    {
     "name": "stdout",
     "output_type": "stream",
     "text": [
      "its not banglore\n"
     ]
    }
   ],
   "source": [
    "loc =' banglore'\n",
    "\n",
    "if loc =='banglore': \n",
    "    \n",
    "    print('its not mandya') \n",
    "    \n",
    "elif loc == 'mysore':  \n",
    "    \n",
    "    print('its banglore')\n",
    "else:\n",
    "    print('its not banglore')   "
   ]
  },
  {
   "cell_type": "code",
   "execution_count": 93,
   "id": "202546c8",
   "metadata": {},
   "outputs": [
    {
     "name": "stdout",
     "output_type": "stream",
     "text": [
      "OKW\n"
     ]
    }
   ],
   "source": [
    "loc = 'IT OFFICE'\n",
    "\n",
    "if loc == 'pwd':\n",
    "    \n",
    "    print('its not pwd')    \n",
    "    \n",
    "elif loc == 'IT OFFICE':\n",
    "    \n",
    "    print('OKW')\n",
    "    \n",
    "else: \n",
    "\n",
    "    print('ok')"
   ]
  },
  {
   "cell_type": "code",
   "execution_count": 96,
   "id": "409fc51d",
   "metadata": {},
   "outputs": [
    {
     "name": "stdout",
     "output_type": "stream",
     "text": [
      "yes correct\n"
     ]
    }
   ],
   "source": [
    "device = 'remote'\n",
    "\n",
    "if device == 'cell':\n",
    "    \n",
    "    print('ok')    \n",
    "    \n",
    "elif device == 'remote':\n",
    "    \n",
    "    print('yes correct')\n",
    "    \n",
    "else: \n",
    "\n",
    "    print('ok')"
   ]
  },
  {
   "cell_type": "code",
   "execution_count": null,
   "id": "9075c945",
   "metadata": {},
   "outputs": [],
   "source": []
  }
 ],
 "metadata": {
  "kernelspec": {
   "display_name": "Python 3",
   "language": "python",
   "name": "python3"
  },
  "language_info": {
   "codemirror_mode": {
    "name": "ipython",
    "version": 3
   },
   "file_extension": ".py",
   "mimetype": "text/x-python",
   "name": "python",
   "nbconvert_exporter": "python",
   "pygments_lexer": "ipython3",
   "version": "3.8.8"
  }
 },
 "nbformat": 4,
 "nbformat_minor": 5
}

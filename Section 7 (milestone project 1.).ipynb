{
 "cells": [
  {
   "cell_type": "code",
   "execution_count": 10,
   "id": "87290367",
   "metadata": {},
   "outputs": [],
   "source": [
    "#DISPLAYING INFORMATIOIN\n",
    "\n",
    "def display(row1,row2,row3): \n",
    "    print(row1)\n",
    "    print(row2)\n",
    "    print(row3)"
   ]
  },
  {
   "cell_type": "code",
   "execution_count": 11,
   "id": "c6dd2549",
   "metadata": {},
   "outputs": [],
   "source": [
    "game=[1,2,3]"
   ]
  },
  {
   "cell_type": "code",
   "execution_count": 12,
   "id": "c950919c",
   "metadata": {},
   "outputs": [
    {
     "name": "stdout",
     "output_type": "stream",
     "text": [
      "[1, 2, 3]\n",
      "[1, 2, 3]\n",
      "[1, 2, 3]\n"
     ]
    }
   ],
   "source": [
    "display(game,game,game)"
   ]
  },
  {
   "cell_type": "code",
   "execution_count": 13,
   "id": "f1685622",
   "metadata": {},
   "outputs": [],
   "source": [
    "def display(row1,row2,row3):\n",
    "    print(row1)\n",
    "    print(row2)\n",
    "    print(row3)"
   ]
  },
  {
   "cell_type": "code",
   "execution_count": 14,
   "id": "0ca49e7c",
   "metadata": {},
   "outputs": [],
   "source": [
    "game=[',',',',',']"
   ]
  },
  {
   "cell_type": "code",
   "execution_count": 15,
   "id": "0e25045e",
   "metadata": {},
   "outputs": [
    {
     "name": "stdout",
     "output_type": "stream",
     "text": [
      "[',', ',', ',']\n",
      "[',', ',', ',']\n",
      "[',', ',', ',']\n"
     ]
    }
   ],
   "source": [
    "display(game,game,game)"
   ]
  },
  {
   "cell_type": "code",
   "execution_count": 16,
   "id": "4baa4759",
   "metadata": {},
   "outputs": [],
   "source": [
    "def display(row1,row2,row3):\n",
    "    print(row1)\n",
    "    print(row2)\n",
    "    print(row3)"
   ]
  },
  {
   "cell_type": "code",
   "execution_count": 17,
   "id": "725687d3",
   "metadata": {},
   "outputs": [],
   "source": [
    "\n",
    "row1=[',',',',',']\n",
    "row2=[',',',',',']\n",
    "row3=[',',',',',']"
   ]
  },
  {
   "cell_type": "code",
   "execution_count": 18,
   "id": "2ce22429",
   "metadata": {},
   "outputs": [
    {
     "name": "stdout",
     "output_type": "stream",
     "text": [
      "[',', ',', ',']\n",
      "[',', ',', ',']\n",
      "[',', ',', ',']\n"
     ]
    }
   ],
   "source": [
    "display(row1,row2,row3)"
   ]
  },
  {
   "cell_type": "code",
   "execution_count": 19,
   "id": "db3ce8d9",
   "metadata": {},
   "outputs": [],
   "source": [
    "row2[1]='x'"
   ]
  },
  {
   "cell_type": "code",
   "execution_count": 20,
   "id": "2805380c",
   "metadata": {},
   "outputs": [
    {
     "name": "stdout",
     "output_type": "stream",
     "text": [
      "[',', ',', ',']\n",
      "[',', 'x', ',']\n",
      "[',', ',', ',']\n"
     ]
    }
   ],
   "source": [
    "display(row1,row2,row3)"
   ]
  },
  {
   "cell_type": "code",
   "execution_count": 21,
   "id": "d4e7ff38",
   "metadata": {},
   "outputs": [],
   "source": [
    "row1[0]='x'"
   ]
  },
  {
   "cell_type": "code",
   "execution_count": 22,
   "id": "a5a979ab",
   "metadata": {},
   "outputs": [
    {
     "name": "stdout",
     "output_type": "stream",
     "text": [
      "['x', ',', ',']\n",
      "[',', 'x', ',']\n",
      "[',', ',', ',']\n"
     ]
    }
   ],
   "source": [
    "display(row1,row2,row3)"
   ]
  },
  {
   "cell_type": "code",
   "execution_count": 23,
   "id": "28d30894",
   "metadata": {},
   "outputs": [],
   "source": [
    "row3[2]='x'"
   ]
  },
  {
   "cell_type": "code",
   "execution_count": 24,
   "id": "966becae",
   "metadata": {},
   "outputs": [
    {
     "name": "stdout",
     "output_type": "stream",
     "text": [
      "['x', ',', ',']\n",
      "[',', 'x', ',']\n",
      "[',', ',', 'x']\n"
     ]
    }
   ],
   "source": [
    "display(row1,row2,row3)"
   ]
  },
  {
   "cell_type": "code",
   "execution_count": 25,
   "id": "c0c82c04",
   "metadata": {},
   "outputs": [
    {
     "name": "stdout",
     "output_type": "stream",
     "text": [
      "please enter the value:2\n"
     ]
    },
    {
     "data": {
      "text/plain": [
       "'2'"
      ]
     },
     "execution_count": 25,
     "metadata": {},
     "output_type": "execute_result"
    }
   ],
   "source": [
    "input('please enter the value:')"
   ]
  },
  {
   "cell_type": "code",
   "execution_count": 26,
   "id": "718622a7",
   "metadata": {},
   "outputs": [
    {
     "name": "stdout",
     "output_type": "stream",
     "text": [
      "please enter the value:3\n"
     ]
    }
   ],
   "source": [
    "result=input(\"please enter the value:\")"
   ]
  },
  {
   "cell_type": "code",
   "execution_count": 27,
   "id": "8100b4b2",
   "metadata": {},
   "outputs": [
    {
     "data": {
      "text/plain": [
       "'3'"
      ]
     },
     "execution_count": 27,
     "metadata": {},
     "output_type": "execute_result"
    }
   ],
   "source": [
    "result                                             "
   ]
  },
  {
   "cell_type": "code",
   "execution_count": 28,
   "id": "ca4c3ee5",
   "metadata": {},
   "outputs": [
    {
     "data": {
      "text/plain": [
       "str"
      ]
     },
     "execution_count": 28,
     "metadata": {},
     "output_type": "execute_result"
    }
   ],
   "source": [
    " type(result)                                        #string type"
   ]
  },
  {
   "cell_type": "code",
   "execution_count": 29,
   "id": "e780c430",
   "metadata": {},
   "outputs": [],
   "source": [
    "result_int = int(result)"
   ]
  },
  {
   "cell_type": "code",
   "execution_count": 30,
   "id": "bbb12041",
   "metadata": {},
   "outputs": [
    {
     "data": {
      "text/plain": [
       "int"
      ]
     },
     "execution_count": 30,
     "metadata": {},
     "output_type": "execute_result"
    }
   ],
   "source": [
    "type(result_int)                                     #way to convert str to int"
   ]
  },
  {
   "cell_type": "code",
   "execution_count": 35,
   "id": "c3cb91d2",
   "metadata": {},
   "outputs": [
    {
     "name": "stdout",
     "output_type": "stream",
     "text": [
      "choose an index poistion: 1\n"
     ]
    }
   ],
   "source": [
    "position_index=int(input(\"choose an index poistion: \"))"
   ]
  },
  {
   "cell_type": "code",
   "execution_count": 36,
   "id": "aebd3bdb",
   "metadata": {},
   "outputs": [
    {
     "data": {
      "text/plain": [
       "','"
      ]
     },
     "execution_count": 36,
     "metadata": {},
     "output_type": "execute_result"
    }
   ],
   "source": [
    "row1[position_index]                               "
   ]
  },
  {
   "cell_type": "code",
   "execution_count": 37,
   "id": "3571cb91",
   "metadata": {},
   "outputs": [
    {
     "data": {
      "text/plain": [
       "'x'"
      ]
     },
     "execution_count": 37,
     "metadata": {},
     "output_type": "execute_result"
    }
   ],
   "source": [
    "row2[position_index]"
   ]
  },
  {
   "cell_type": "code",
   "execution_count": 41,
   "id": "ef6e3a5a",
   "metadata": {},
   "outputs": [],
   "source": [
    "#validating user input"
   ]
  },
  {
   "cell_type": "code",
   "execution_count": 1,
   "id": "fe9cd21c",
   "metadata": {},
   "outputs": [],
   "source": [
    "def choice_user():\n",
    "    \n",
    "        choice = 'WRONG'\n",
    "    \n",
    "        while choice.isdigit() == False:\n",
    "        \n",
    "             choice = input(\"please enter a number (0-10):\")\n",
    "            \n",
    "             if choice.isdigit()  == False:\n",
    "                print('sorry that is not a digit')\n",
    "            \n",
    "        return int(choice)"
   ]
  },
  {
   "cell_type": "code",
   "execution_count": 2,
   "id": "d9ef467b",
   "metadata": {},
   "outputs": [
    {
     "name": "stdout",
     "output_type": "stream",
     "text": [
      "please enter a number (0-10):w\n",
      "sorry that is not a digit\n",
      "please enter a number (0-10):7\n"
     ]
    },
    {
     "data": {
      "text/plain": [
       "7"
      ]
     },
     "execution_count": 2,
     "metadata": {},
     "output_type": "execute_result"
    }
   ],
   "source": [
    "choice_user()"
   ]
  },
  {
   "cell_type": "code",
   "execution_count": 3,
   "id": "f181bd8c",
   "metadata": {},
   "outputs": [],
   "source": [
    "cell = [2,3,4,5,6,7,9]"
   ]
  },
  {
   "cell_type": "code",
   "execution_count": 4,
   "id": "294534f8",
   "metadata": {},
   "outputs": [],
   "source": [
    "acceptable_value = [0,2,3]"
   ]
  },
  {
   "cell_type": "code",
   "execution_count": 5,
   "id": "0749b3c5",
   "metadata": {},
   "outputs": [
    {
     "data": {
      "text/plain": [
       "False"
      ]
     },
     "execution_count": 5,
     "metadata": {},
     "output_type": "execute_result"
    }
   ],
   "source": [
    "cell in acceptable_value"
   ]
  },
  {
   "cell_type": "code",
   "execution_count": 6,
   "id": "25632610",
   "metadata": {},
   "outputs": [
    {
     "data": {
      "text/plain": [
       "True"
      ]
     },
     "execution_count": 6,
     "metadata": {},
     "output_type": "execute_result"
    }
   ],
   "source": [
    "cell not in acceptable_value"
   ]
  },
  {
   "cell_type": "code",
   "execution_count": null,
   "id": "1cd3614e",
   "metadata": {},
   "outputs": [],
   "source": []
  },
  {
   "cell_type": "code",
   "execution_count": null,
   "id": "fdb3374e",
   "metadata": {},
   "outputs": [],
   "source": []
  },
  {
   "cell_type": "code",
   "execution_count": 7,
   "id": "16583322",
   "metadata": {},
   "outputs": [],
   "source": [
    "game_list=[0,1,2]"
   ]
  },
  {
   "cell_type": "code",
   "execution_count": 11,
   "id": "a747dc66",
   "metadata": {},
   "outputs": [],
   "source": [
    "def display_game(game_list):\n",
    "    print('here is the current list:')\n",
    "    print(game_list)"
   ]
  },
  {
   "cell_type": "code",
   "execution_count": 12,
   "id": "88d72020",
   "metadata": {},
   "outputs": [
    {
     "name": "stdout",
     "output_type": "stream",
     "text": [
      "[0, 1, 2]\n"
     ]
    }
   ],
   "source": [
    "print(game_list)"
   ]
  },
  {
   "cell_type": "code",
   "execution_count": 16,
   "id": "2d0ae055",
   "metadata": {},
   "outputs": [],
   "source": [
    "def poistion_check():                                    #poistion choice\n",
    "    \n",
    "    choice = 'wrong'\n",
    "    \n",
    "    while choice not in ['0','1','2']:\n",
    "        \n",
    "        choice = input('pick a position (0,1,2):')\n",
    "        \n",
    "        if choice not in ['0','1','2']:\n",
    "            print(\"sorry invalid choice! \")\n",
    "    return int(choice)"
   ]
  },
  {
   "cell_type": "code",
   "execution_count": 15,
   "id": "2b7bfa38",
   "metadata": {},
   "outputs": [
    {
     "name": "stdout",
     "output_type": "stream",
     "text": [
      "pick a position (0,1,2):2\n"
     ]
    },
    {
     "data": {
      "text/plain": [
       "2"
      ]
     },
     "execution_count": 15,
     "metadata": {},
     "output_type": "execute_result"
    }
   ],
   "source": [
    "poistion_check()\n"
   ]
  },
  {
   "cell_type": "code",
   "execution_count": 18,
   "id": "f9224981",
   "metadata": {},
   "outputs": [],
   "source": [
    "def replacment_choice(game_list,position):                  #replacment choice\n",
    "\n",
    "    user_placement = input('type a string to place at position: ')\n",
    "    \n",
    "    game_list[position] = user_placement\n",
    "    \n",
    "    return game_list\n",
    "\n",
    "    "
   ]
  },
  {
   "cell_type": "code",
   "execution_count": 19,
   "id": "b9c684be",
   "metadata": {},
   "outputs": [
    {
     "name": "stdout",
     "output_type": "stream",
     "text": [
      "type a string to place at position: test\n"
     ]
    },
    {
     "data": {
      "text/plain": [
       "[0, 'test', 2]"
      ]
     },
     "execution_count": 19,
     "metadata": {},
     "output_type": "execute_result"
    }
   ],
   "source": [
    "replacment_choice(game_list,1)"
   ]
  },
  {
   "cell_type": "code",
   "execution_count": 25,
   "id": "06147dd0",
   "metadata": {},
   "outputs": [],
   "source": [
    "def gameon_check():                                    #poistion choice\n",
    "    \n",
    "    choice = 'wrong'\n",
    "    \n",
    "    while choice not in ['y','n']:\n",
    "        \n",
    "        choice = input('keep playing? (y or n)')\n",
    "        \n",
    "        if choice not in ['y','n']:\n",
    "            print(\"sorry i dont understand,please choose y or n\")\n",
    "    \n",
    "    if choice == 'y':\n",
    "        return True\n",
    "    else:\n",
    "        return False"
   ]
  },
  {
   "cell_type": "code",
   "execution_count": 27,
   "id": "1cd9c4fd",
   "metadata": {},
   "outputs": [
    {
     "name": "stdout",
     "output_type": "stream",
     "text": [
      "keep playing? (y or n)e\n",
      "sorry i dont understand,please choose y or n\n",
      "keep playing? (y or n)d\n",
      "sorry i dont understand,please choose y or n\n",
      "keep playing? (y or n)y\n"
     ]
    },
    {
     "data": {
      "text/plain": [
       "True"
      ]
     },
     "execution_count": 27,
     "metadata": {},
     "output_type": "execute_result"
    }
   ],
   "source": [
    "gameon_check()"
   ]
  },
  {
   "cell_type": "code",
   "execution_count": null,
   "id": "d507daaf",
   "metadata": {},
   "outputs": [
    {
     "name": "stdout",
     "output_type": "stream",
     "text": [
      "here is the current list:\n",
      "[0, 1, 2]\n",
      "pick a position (0,1,2):2\n",
      "type a string to place at position: 9\n",
      "here is the current list:\n",
      "[0, 1, '9']\n",
      "keep playing? (y or n)6\n",
      "sorry i dont understand,please choose y or n\n",
      "keep playing? (y or n)y\n",
      "here is the current list:\n",
      "[0, 1, '9']\n",
      "pick a position (0,1,2):6\n",
      "sorry invalid choice! \n",
      "pick a position (0,1,2):2\n",
      "type a string to place at position: 1\n",
      "here is the current list:\n",
      "[0, 1, '1']\n",
      "keep playing? (y or n)y\n",
      "here is the current list:\n",
      "[0, 1, '1']\n",
      "pick a position (0,1,2):0\n"
     ]
    }
   ],
   "source": [
    "game_on = True\n",
    "game_list = [0,1,2]\n",
    "\n",
    "\n",
    "while game_on:\n",
    "        \n",
    "        display_game(game_list)\n",
    "        \n",
    "        position = poistion_check()\n",
    "        \n",
    "        game_list = replacment_choice(game_list,position)\n",
    "        \n",
    "        display_game(game_list)\n",
    "        \n",
    "        game_on = gameon_check()\n",
    "        "
   ]
  },
  {
   "cell_type": "code",
   "execution_count": null,
   "id": "f1b48e08",
   "metadata": {},
   "outputs": [],
   "source": []
  },
  {
   "cell_type": "code",
   "execution_count": null,
   "id": "1f90f047",
   "metadata": {},
   "outputs": [],
   "source": []
  }
 ],
 "metadata": {
  "kernelspec": {
   "display_name": "Python 3",
   "language": "python",
   "name": "python3"
  },
  "language_info": {
   "codemirror_mode": {
    "name": "ipython",
    "version": 3
   },
   "file_extension": ".py",
   "mimetype": "text/x-python",
   "name": "python",
   "nbconvert_exporter": "python",
   "pygments_lexer": "ipython3",
   "version": "3.8.8"
  }
 },
 "nbformat": 4,
 "nbformat_minor": 5
}

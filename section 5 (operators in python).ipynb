{
 "cells": [
  {
   "cell_type": "code",
   "execution_count": 1,
   "id": "33509f72",
   "metadata": {},
   "outputs": [],
   "source": [
    "mydogs=[1,2,3,4]                                                            #range opertor"
   ]
  },
  {
   "cell_type": "code",
   "execution_count": 4,
   "id": "f11c3cfc",
   "metadata": {},
   "outputs": [
    {
     "name": "stdout",
     "output_type": "stream",
     "text": [
      "0\n",
      "1\n",
      "2\n",
      "3\n",
      "4\n",
      "5\n",
      "6\n",
      "7\n",
      "8\n",
      "9\n"
     ]
    }
   ],
   "source": [
    "for num in range(10):\n",
    "    print(num)"
   ]
  },
  {
   "cell_type": "code",
   "execution_count": 8,
   "id": "e139fb6c",
   "metadata": {},
   "outputs": [
    {
     "name": "stdout",
     "output_type": "stream",
     "text": [
      "2\n",
      "3\n"
     ]
    }
   ],
   "source": [
    "for num in range(2,4):\n",
    "     print(num)                                                             # here 2 is start value 4 is stop value"
   ]
  },
  {
   "cell_type": "code",
   "execution_count": 10,
   "id": "c1f21fcd",
   "metadata": {},
   "outputs": [
    {
     "name": "stdout",
     "output_type": "stream",
     "text": [
      "2\n",
      "3\n"
     ]
    }
   ],
   "source": [
    "for num in range(2,4,1):\n",
    "     print(num)                                                             # here 2 is start value 4 is stop value and 1 is step"
   ]
  },
  {
   "cell_type": "code",
   "execution_count": 33,
   "id": "2f9bb756",
   "metadata": {},
   "outputs": [
    {
     "name": "stdout",
     "output_type": "stream",
     "text": [
      "b\n",
      "b\n",
      "b\n",
      "b\n",
      "b\n",
      "b\n"
     ]
    }
   ],
   "source": [
    "index_count = 0\n",
    "\n",
    "word = 'bcttde'\n",
    "\n",
    "for letter in word:\n",
    "    \n",
    "    print(word[index_count])                                              \n",
    "    index += 1"
   ]
  },
  {
   "cell_type": "code",
   "execution_count": 1,
   "id": "61fee6bd",
   "metadata": {},
   "outputs": [],
   "source": [
    "word = 'harshi'"
   ]
  },
  {
   "cell_type": "code",
   "execution_count": 3,
   "id": "588d3d72",
   "metadata": {},
   "outputs": [
    {
     "name": "stdout",
     "output_type": "stream",
     "text": [
      "i\n",
      "i\n",
      "i\n",
      "i\n",
      "i\n",
      "i\n"
     ]
    }
   ],
   "source": [
    "for index in word:\n",
    "    print(item)"
   ]
  },
  {
   "cell_type": "code",
   "execution_count": 2,
   "id": "360eff0d",
   "metadata": {},
   "outputs": [],
   "source": [
    " word = 'abcdefg'"
   ]
  },
  {
   "cell_type": "code",
   "execution_count": 4,
   "id": "6618dbb8",
   "metadata": {},
   "outputs": [
    {
     "name": "stdout",
     "output_type": "stream",
     "text": [
      "0\n",
      "a\n",
      "1\n",
      "b\n",
      "2\n",
      "c\n",
      "3\n",
      "d\n",
      "4\n",
      "e\n",
      "5\n",
      "f\n",
      "6\n",
      "g\n"
     ]
    }
   ],
   "source": [
    "for index,lit in enumerate(word):\n",
    "    print(index)                                    #enumerate function\n",
    "    print(lit)"
   ]
  },
  {
   "cell_type": "code",
   "execution_count": 5,
   "id": "2a4bd4c9",
   "metadata": {},
   "outputs": [],
   "source": [
    "sea ='fish'"
   ]
  },
  {
   "cell_type": "code",
   "execution_count": 9,
   "id": "4919ec5d",
   "metadata": {},
   "outputs": [
    {
     "name": "stdout",
     "output_type": "stream",
     "text": [
      "f\n",
      "0\n",
      "\t\n",
      "i\n",
      "1\n",
      "\t\n",
      "s\n",
      "2\n",
      "\t\n",
      "h\n",
      "3\n",
      "\t\n"
     ]
    }
   ],
   "source": [
    "for index,jelly in enumerate(sea):\n",
    "    print(jelly)\n",
    "    print(index)                                 \n",
    "    print('\\t')\n",
    "     \n",
    "    "
   ]
  },
  {
   "cell_type": "code",
   "execution_count": 10,
   "id": "3417fc17",
   "metadata": {},
   "outputs": [],
   "source": [
    "wow = 'wow'\n"
   ]
  },
  {
   "cell_type": "code",
   "execution_count": 11,
   "id": "13e6f757",
   "metadata": {},
   "outputs": [
    {
     "name": "stdout",
     "output_type": "stream",
     "text": [
      "(0, 'w')\n",
      "(1, 'o')\n",
      "(2, 'w')\n"
     ]
    }
   ],
   "source": [
    "for jack in enumerate(wow):\n",
    "    print(jack)"
   ]
  },
  {
   "cell_type": "code",
   "execution_count": 12,
   "id": "1fa69da5",
   "metadata": {},
   "outputs": [],
   "source": [
    "east = 'west'"
   ]
  },
  {
   "cell_type": "code",
   "execution_count": 15,
   "id": "bac61124",
   "metadata": {
    "scrolled": true
   },
   "outputs": [
    {
     "name": "stdout",
     "output_type": "stream",
     "text": [
      "\n",
      " <built-in function print> w\n",
      "\n",
      " <built-in function print> e\n",
      "\n",
      " <built-in function print> s\n",
      "\n",
      " <built-in function print> t\n"
     ]
    }
   ],
   "source": [
    "for south,index in enumerate(east):\n",
    "    print('\\n',print,index)"
   ]
  },
  {
   "cell_type": "code",
   "execution_count": 17,
   "id": "0ca057b4",
   "metadata": {},
   "outputs": [
    {
     "name": "stdout",
     "output_type": "stream",
     "text": [
      "\n",
      "\n",
      "\t\n",
      "0\n",
      "\n",
      "\n",
      "\t\n",
      "1\n",
      "\n",
      "\n",
      "\t\n",
      "2\n",
      "\n",
      "\n",
      "\t\n",
      "3\n"
     ]
    }
   ],
   "source": [
    "for south,index in enumerate(east):\n",
    "    print('\\n')\n",
    "    print('\\t')\n",
    "    print(south)\n",
    "    "
   ]
  },
  {
   "cell_type": "code",
   "execution_count": 18,
   "id": "0e05de18",
   "metadata": {},
   "outputs": [
    {
     "name": "stdout",
     "output_type": "stream",
     "text": [
      "\n",
      "\n",
      "\t\n",
      "0\n",
      "w\n",
      "\n",
      "\n",
      "\t\n",
      "1\n",
      "e\n",
      "\n",
      "\n",
      "\t\n",
      "2\n",
      "s\n",
      "\n",
      "\n",
      "\t\n",
      "3\n",
      "t\n"
     ]
    }
   ],
   "source": [
    "for south,index in enumerate(east):\n",
    "    print('\\n')\n",
    "    print('\\t')\n",
    "    print(south)\n",
    "    print(index)"
   ]
  },
  {
   "cell_type": "code",
   "execution_count": 19,
   "id": "cf270863",
   "metadata": {},
   "outputs": [
    {
     "name": "stdout",
     "output_type": "stream",
     "text": [
      "\n",
      "\n",
      "\t\n",
      "0 w\n",
      "\n",
      "\n",
      "\t\n",
      "1 e\n",
      "\n",
      "\n",
      "\t\n",
      "2 s\n",
      "\n",
      "\n",
      "\t\n",
      "3 t\n"
     ]
    }
   ],
   "source": [
    "for south,index in enumerate(east):\n",
    "    print('\\n')\n",
    "    print('\\t')\n",
    "    print(south,index)\n",
    "    "
   ]
  },
  {
   "cell_type": "code",
   "execution_count": 20,
   "id": "a4562235",
   "metadata": {},
   "outputs": [
    {
     "name": "stdout",
     "output_type": "stream",
     "text": [
      "\n",
      "\n",
      "\t\n",
      "w 0\n",
      "\n",
      "\n",
      "\t\n",
      "e 1\n",
      "\n",
      "\n",
      "\t\n",
      "s 2\n",
      "\n",
      "\n",
      "\t\n",
      "t 3\n"
     ]
    }
   ],
   "source": [
    "for south,index in enumerate(east):\n",
    "    print('\\n')\n",
    "    print('\\t')\n",
    "    print(index,south)\n",
    "    "
   ]
  },
  {
   "cell_type": "code",
   "execution_count": 26,
   "id": "9767ee20",
   "metadata": {},
   "outputs": [
    {
     "name": "stdout",
     "output_type": "stream",
     "text": [
      "\n",
      "\n",
      "\t\n",
      "w 0\n",
      "\n",
      "\n",
      "\t\n",
      "e 1\n",
      "\n",
      "\n",
      "\t\n",
      "s 2\n",
      "\n",
      "\n",
      "\t\n",
      "t 3\n"
     ]
    }
   ],
   "source": [
    "for south,index in enumerate(east):\n",
    "    print('\\n')\n",
    "    print('\\t')\n",
    "    print(index,south)\n",
    "    "
   ]
  },
  {
   "cell_type": "code",
   "execution_count": 27,
   "id": "25522307",
   "metadata": {},
   "outputs": [],
   "source": [
    "#by using zip function"
   ]
  },
  {
   "cell_type": "code",
   "execution_count": 28,
   "id": "94d85597",
   "metadata": {},
   "outputs": [],
   "source": [
    "my_sort=[1,2,3,4,5,6]\n",
    "my_long=[7,8,9,0,1,3]"
   ]
  },
  {
   "cell_type": "code",
   "execution_count": 60,
   "id": "0dc7ae4f",
   "metadata": {},
   "outputs": [],
   "source": [
    "zip=my_sort + my_long"
   ]
  },
  {
   "cell_type": "code",
   "execution_count": 30,
   "id": "2a7bc202",
   "metadata": {},
   "outputs": [
    {
     "name": "stdout",
     "output_type": "stream",
     "text": [
      "[1, 2, 3, 4, 5, 6, 7, 8, 9, 0, 1, 3]\n"
     ]
    }
   ],
   "source": [
    "print(zip)"
   ]
  },
  {
   "cell_type": "code",
   "execution_count": 65,
   "id": "7fe0b751",
   "metadata": {},
   "outputs": [
    {
     "data": {
      "text/plain": [
       "False"
      ]
     },
     "execution_count": 65,
     "metadata": {},
     "output_type": "execute_result"
    }
   ],
   "source": [
    "#in keyword\n",
    "'x'in ['exam']   "
   ]
  },
  {
   "cell_type": "markdown",
   "id": "69d1690b",
   "metadata": {},
   "source": [
    "it will return the boolean"
   ]
  },
  {
   "cell_type": "code",
   "execution_count": 66,
   "id": "501bf3a3",
   "metadata": {},
   "outputs": [
    {
     "data": {
      "text/plain": [
       "False"
      ]
     },
     "execution_count": 66,
     "metadata": {},
     "output_type": "execute_result"
    }
   ],
   "source": [
    "'east' in ['easters']"
   ]
  },
  {
   "cell_type": "code",
   "execution_count": 67,
   "id": "ec5721ba",
   "metadata": {},
   "outputs": [
    {
     "data": {
      "text/plain": [
       "True"
      ]
     },
     "execution_count": 67,
     "metadata": {},
     "output_type": "execute_result"
    }
   ],
   "source": [
    "'q' in ['q']"
   ]
  },
  {
   "cell_type": "code",
   "execution_count": 68,
   "id": "603a1d26",
   "metadata": {},
   "outputs": [
    {
     "data": {
      "text/plain": [
       "False"
      ]
     },
     "execution_count": 68,
     "metadata": {},
     "output_type": "execute_result"
    }
   ],
   "source": [
    "'mysore' in {'banglore'}"
   ]
  },
  {
   "cell_type": "code",
   "execution_count": 70,
   "id": "14aa02c7",
   "metadata": {},
   "outputs": [
    {
     "data": {
      "text/plain": [
       "True"
      ]
     },
     "execution_count": 70,
     "metadata": {},
     "output_type": "execute_result"
    }
   ],
   "source": [
    "'mysore' in {'mysore','banglore'}"
   ]
  },
  {
   "cell_type": "code",
   "execution_count": 73,
   "id": "7b11877d",
   "metadata": {},
   "outputs": [
    {
     "data": {
      "text/plain": [
       "True"
      ]
     },
     "execution_count": 73,
     "metadata": {},
     "output_type": "execute_result"
    }
   ],
   "source": [
    "'its' in {'its':8888,'a':9999,'car':8055}                     #dictinories"
   ]
  },
  {
   "cell_type": "code",
   "execution_count": 74,
   "id": "3ac1d69e",
   "metadata": {},
   "outputs": [
    {
     "data": {
      "text/plain": [
       "False"
      ]
     },
     "execution_count": 74,
     "metadata": {},
     "output_type": "execute_result"
    }
   ],
   "source": [
    "d={'east:sun','north:moon'}\n",
    "\n",
    "'east' in 'moon'"
   ]
  },
  {
   "cell_type": "code",
   "execution_count": 75,
   "id": "93c3b790",
   "metadata": {},
   "outputs": [],
   "source": [
    "#to check min and max"
   ]
  },
  {
   "cell_type": "code",
   "execution_count": 76,
   "id": "4f6864bd",
   "metadata": {},
   "outputs": [
    {
     "data": {
      "text/plain": [
       "1"
      ]
     },
     "execution_count": 76,
     "metadata": {},
     "output_type": "execute_result"
    }
   ],
   "source": [
    "list=[1,2,3,4]\n",
    "min(list)                                                        #min"
   ]
  },
  {
   "cell_type": "code",
   "execution_count": 77,
   "id": "9ad16230",
   "metadata": {},
   "outputs": [],
   "source": [
    "list=['kkkk','oaoaooa']"
   ]
  },
  {
   "cell_type": "code",
   "execution_count": 78,
   "id": "43bbe260",
   "metadata": {},
   "outputs": [
    {
     "data": {
      "text/plain": [
       "'oaoaooa'"
      ]
     },
     "execution_count": 78,
     "metadata": {},
     "output_type": "execute_result"
    }
   ],
   "source": [
    "max(list)                                                        #max"
   ]
  },
  {
   "cell_type": "code",
   "execution_count": 79,
   "id": "bf6f3029",
   "metadata": {},
   "outputs": [
    {
     "data": {
      "text/plain": [
       "'wwe'"
      ]
     },
     "execution_count": 79,
     "metadata": {},
     "output_type": "execute_result"
    }
   ],
   "source": [
    "list=('wwe','kane','hhh','john')\n",
    "min(list)\n",
    "max(list)"
   ]
  },
  {
   "cell_type": "code",
   "execution_count": 82,
   "id": "e2e2c735",
   "metadata": {},
   "outputs": [
    {
     "data": {
      "text/plain": [
       "'kkk'"
      ]
     },
     "execution_count": 82,
     "metadata": {},
     "output_type": "execute_result"
    }
   ],
   "source": [
    "dict={'kkk':'iiii','lll':'hhh'}\n",
    "min(dict)"
   ]
  },
  {
   "cell_type": "markdown",
   "id": "ebaddcd2",
   "metadata": {},
   "source": [
    "min(dict)"
   ]
  },
  {
   "cell_type": "code",
   "execution_count": 83,
   "id": "4ff73919",
   "metadata": {},
   "outputs": [],
   "source": [
    "#shuffle"
   ]
  },
  {
   "cell_type": "code",
   "execution_count": 98,
   "id": "c6738687",
   "metadata": {},
   "outputs": [],
   "source": [
    "\n",
    "from random import shuffle                                        #shuffling a list\n"
   ]
  },
  {
   "cell_type": "code",
   "execution_count": 101,
   "id": "e019703c",
   "metadata": {},
   "outputs": [],
   "source": [
    "mylist=[1,2,3,4,5]"
   ]
  },
  {
   "cell_type": "code",
   "execution_count": 102,
   "id": "a026bb7a",
   "metadata": {},
   "outputs": [],
   "source": [
    "shuffle(mylist)"
   ]
  },
  {
   "cell_type": "code",
   "execution_count": 103,
   "id": "7749f2a6",
   "metadata": {},
   "outputs": [
    {
     "data": {
      "text/plain": [
       "[4, 2, 3, 5, 1]"
      ]
     },
     "execution_count": 103,
     "metadata": {},
     "output_type": "execute_result"
    }
   ],
   "source": [
    "mylist"
   ]
  },
  {
   "cell_type": "code",
   "execution_count": 104,
   "id": "c86ab754",
   "metadata": {},
   "outputs": [],
   "source": [
    "mylist=[1,2,3,4,5,5,6,7,8,8,99,0]"
   ]
  },
  {
   "cell_type": "code",
   "execution_count": 105,
   "id": "66023173",
   "metadata": {},
   "outputs": [],
   "source": [
    "from random import shuffle"
   ]
  },
  {
   "cell_type": "code",
   "execution_count": 107,
   "id": "4d093e9e",
   "metadata": {},
   "outputs": [],
   "source": [
    "shuffle(mylist)"
   ]
  },
  {
   "cell_type": "code",
   "execution_count": 108,
   "id": "ead0c49d",
   "metadata": {},
   "outputs": [
    {
     "data": {
      "text/plain": [
       "[4, 2, 1, 5, 3]"
      ]
     },
     "execution_count": 108,
     "metadata": {},
     "output_type": "execute_result"
    }
   ],
   "source": [
    "mylist"
   ]
  },
  {
   "cell_type": "code",
   "execution_count": 109,
   "id": "808f1604",
   "metadata": {},
   "outputs": [],
   "source": [
    "                                                                     #randiant function"
   ]
  },
  {
   "cell_type": "code",
   "execution_count": 111,
   "id": "61d4ebd8",
   "metadata": {},
   "outputs": [],
   "source": [
    "from random import randint"
   ]
  },
  {
   "cell_type": "code",
   "execution_count": 114,
   "id": "0cfa897a",
   "metadata": {},
   "outputs": [
    {
     "data": {
      "text/plain": [
       "82"
      ]
     },
     "execution_count": 114,
     "metadata": {},
     "output_type": "execute_result"
    }
   ],
   "source": [
    "randint(0,109)"
   ]
  },
  {
   "cell_type": "code",
   "execution_count": 113,
   "id": "31c4500c",
   "metadata": {},
   "outputs": [],
   "source": [
    "from random import randint"
   ]
  },
  {
   "cell_type": "code",
   "execution_count": 116,
   "id": "d2c51c66",
   "metadata": {},
   "outputs": [
    {
     "data": {
      "text/plain": [
       "5"
      ]
     },
     "execution_count": 116,
     "metadata": {},
     "output_type": "execute_result"
    }
   ],
   "source": [
    "randint(3,6)"
   ]
  },
  {
   "cell_type": "code",
   "execution_count": 117,
   "id": "55a9596e",
   "metadata": {},
   "outputs": [],
   "source": [
    "from random import randint"
   ]
  },
  {
   "cell_type": "code",
   "execution_count": 120,
   "id": "f26935d8",
   "metadata": {},
   "outputs": [
    {
     "data": {
      "text/plain": [
       "14"
      ]
     },
     "execution_count": 120,
     "metadata": {},
     "output_type": "execute_result"
    }
   ],
   "source": [
    "randint(1,1010)\n"
   ]
  },
  {
   "cell_type": "code",
   "execution_count": 122,
   "id": "5ba0ca84",
   "metadata": {},
   "outputs": [],
   "source": [
    "from random import randint"
   ]
  },
  {
   "cell_type": "code",
   "execution_count": 124,
   "id": "9d501c1a",
   "metadata": {},
   "outputs": [],
   "source": [
    "myworld = randint(1,2)"
   ]
  },
  {
   "cell_type": "code",
   "execution_count": 125,
   "id": "e763aeda",
   "metadata": {},
   "outputs": [
    {
     "data": {
      "text/plain": [
       "2"
      ]
     },
     "execution_count": 125,
     "metadata": {},
     "output_type": "execute_result"
    }
   ],
   "source": [
    "myworld"
   ]
  },
  {
   "cell_type": "code",
   "execution_count": 2,
   "id": "5b88b4a5",
   "metadata": {},
   "outputs": [
    {
     "name": "stdout",
     "output_type": "stream",
     "text": [
      "my fav numb1\n"
     ]
    },
    {
     "data": {
      "text/plain": [
       "'1'"
      ]
     },
     "execution_count": 2,
     "metadata": {},
     "output_type": "execute_result"
    }
   ],
   "source": [
    "input('my fav numb')                                    #input function"
   ]
  },
  {
   "cell_type": "code",
   "execution_count": 3,
   "id": "4c85968f",
   "metadata": {},
   "outputs": [
    {
     "name": "stdout",
     "output_type": "stream",
     "text": [
      "enter your usn number?4PS15IS009\n"
     ]
    },
    {
     "data": {
      "text/plain": [
       "'4PS15IS009'"
      ]
     },
     "execution_count": 3,
     "metadata": {},
     "output_type": "execute_result"
    }
   ],
   "source": [
    "input('enter your usn number?')"
   ]
  },
  {
   "cell_type": "code",
   "execution_count": 5,
   "id": "67892ebf",
   "metadata": {},
   "outputs": [
    {
     "name": "stdout",
     "output_type": "stream",
     "text": [
      "enter your usn:is009\n"
     ]
    }
   ],
   "source": [
    "myusn = input('enter your usn:')"
   ]
  },
  {
   "cell_type": "code",
   "execution_count": 7,
   "id": "e91e387b",
   "metadata": {},
   "outputs": [
    {
     "name": "stdout",
     "output_type": "stream",
     "text": [
      "is009\n"
     ]
    }
   ],
   "source": [
    "print(myusn)"
   ]
  },
  {
   "cell_type": "code",
   "execution_count": 8,
   "id": "1b814fb6",
   "metadata": {},
   "outputs": [
    {
     "name": "stdout",
     "output_type": "stream",
     "text": [
      "what is your name?  gowda\n"
     ]
    }
   ],
   "source": [
    "name =input('what is your name?  ')"
   ]
  },
  {
   "cell_type": "code",
   "execution_count": 9,
   "id": "10c8a4aa",
   "metadata": {},
   "outputs": [
    {
     "name": "stdout",
     "output_type": "stream",
     "text": [
      "gowda\n"
     ]
    }
   ],
   "source": [
    "print(name)"
   ]
  },
  {
   "cell_type": "code",
   "execution_count": 10,
   "id": "92e4bed0",
   "metadata": {},
   "outputs": [
    {
     "name": "stdout",
     "output_type": "stream",
     "text": [
      "cell number: 8150950935\n"
     ]
    }
   ],
   "source": [
    "mycell=input('cell number: ')"
   ]
  },
  {
   "cell_type": "code",
   "execution_count": 12,
   "id": "df20a2bd",
   "metadata": {},
   "outputs": [
    {
     "name": "stdout",
     "output_type": "stream",
     "text": [
      "8150950935\n"
     ]
    }
   ],
   "source": [
    "print(mycell)"
   ]
  },
  {
   "cell_type": "code",
   "execution_count": null,
   "id": "6ba0266a",
   "metadata": {},
   "outputs": [],
   "source": []
  }
 ],
 "metadata": {
  "kernelspec": {
   "display_name": "Python 3",
   "language": "python",
   "name": "python3"
  },
  "language_info": {
   "codemirror_mode": {
    "name": "ipython",
    "version": 3
   },
   "file_extension": ".py",
   "mimetype": "text/x-python",
   "name": "python",
   "nbconvert_exporter": "python",
   "pygments_lexer": "ipython3",
   "version": "3.8.8"
  }
 },
 "nbformat": 4,
 "nbformat_minor": 5
}

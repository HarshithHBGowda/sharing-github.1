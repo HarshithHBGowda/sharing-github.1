{
 "cells": [
  {
   "cell_type": "code",
   "execution_count": 156,
   "id": "56187403",
   "metadata": {},
   "outputs": [],
   "source": [
    "class dog():\n",
    "    pass                                            #here Class created "
   ]
  },
  {
   "cell_type": "code",
   "execution_count": 157,
   "id": "2b96a98b",
   "metadata": {},
   "outputs": [],
   "source": [
    "\n",
    "class Human():\n",
    "\n",
    "    def __init__ (self,age):                           \n",
    "   \n",
    "        self.age = age                         #the dod instance is breed(.breed is attribute)"
   ]
  },
  {
   "cell_type": "code",
   "execution_count": 158,
   "id": "82b6517e",
   "metadata": {},
   "outputs": [],
   "source": [
    "my_dog = Human(age ='23')"
   ]
  },
  {
   "cell_type": "code",
   "execution_count": 159,
   "id": "f7ebfc94",
   "metadata": {},
   "outputs": [
    {
     "data": {
      "text/plain": [
       "'23'"
      ]
     },
     "execution_count": 159,
     "metadata": {},
     "output_type": "execute_result"
    }
   ],
   "source": [
    "my_dog.age"
   ]
  },
  {
   "cell_type": "code",
   "execution_count": 160,
   "id": "60b28707",
   "metadata": {},
   "outputs": [],
   "source": [
    "class Zoo(): \n",
    "    \n",
    "    def __init__ (self,animals,birds):                     #attributes and class keyword\n",
    "        \n",
    "        self.animals=animals\n",
    "        self.birds=birds"
   ]
  },
  {
   "cell_type": "code",
   "execution_count": 125,
   "id": "b6a81bb2",
   "metadata": {},
   "outputs": [],
   "source": [
    "my_animals = Zoo(animals = 'tiger',birds = 'parrot')"
   ]
  },
  {
   "cell_type": "code",
   "execution_count": 126,
   "id": "19e6ee15",
   "metadata": {},
   "outputs": [
    {
     "data": {
      "text/plain": [
       "'tiger'"
      ]
     },
     "execution_count": 126,
     "metadata": {},
     "output_type": "execute_result"
    }
   ],
   "source": [
    "my_animals.animals"
   ]
  },
  {
   "cell_type": "code",
   "execution_count": 127,
   "id": "04161271",
   "metadata": {},
   "outputs": [
    {
     "data": {
      "text/plain": [
       "'parrot'"
      ]
     },
     "execution_count": 127,
     "metadata": {},
     "output_type": "execute_result"
    }
   ],
   "source": [
    "my_animals.birds"
   ]
  },
  {
   "cell_type": "code",
   "execution_count": 135,
   "id": "33d4cd93",
   "metadata": {},
   "outputs": [],
   "source": [
    "class Employee():\n",
    "    \n",
    "    def __init__(self,name,age,height): \n",
    "        \n",
    "        self.name = name\n",
    "        self.age = age\n",
    "        self.height= height\n",
    "        "
   ]
  },
  {
   "cell_type": "code",
   "execution_count": 147,
   "id": "dd1789ec",
   "metadata": {},
   "outputs": [],
   "source": [
    "my_employee=Employee(name='hfhhf',age='hxhd',height='9')"
   ]
  },
  {
   "cell_type": "code",
   "execution_count": 142,
   "id": "8ae20e89",
   "metadata": {},
   "outputs": [
    {
     "data": {
      "text/plain": [
       "'hfhhf'"
      ]
     },
     "execution_count": 142,
     "metadata": {},
     "output_type": "execute_result"
    }
   ],
   "source": [
    "my_employee.name"
   ]
  },
  {
   "cell_type": "code",
   "execution_count": 148,
   "id": "acd85e82",
   "metadata": {},
   "outputs": [
    {
     "data": {
      "text/plain": [
       "str"
      ]
     },
     "execution_count": 148,
     "metadata": {},
     "output_type": "execute_result"
    }
   ],
   "source": [
    "type(my_employee.age)"
   ]
  },
  {
   "cell_type": "code",
   "execution_count": 149,
   "id": "f2d3baf2",
   "metadata": {},
   "outputs": [
    {
     "data": {
      "text/plain": [
       "str"
      ]
     },
     "execution_count": 149,
     "metadata": {},
     "output_type": "execute_result"
    }
   ],
   "source": [
    "type(my_employee.height)"
   ]
  },
  {
   "cell_type": "code",
   "execution_count": 154,
   "id": "28189293",
   "metadata": {},
   "outputs": [
    {
     "data": {
      "text/plain": [
       "'hxhd'"
      ]
     },
     "execution_count": 154,
     "metadata": {},
     "output_type": "execute_result"
    }
   ],
   "source": [
    "my_employee.age"
   ]
  },
  {
   "cell_type": "code",
   "execution_count": 163,
   "id": "05faf78f",
   "metadata": {},
   "outputs": [],
   "source": [
    "class Dog():\n",
    "    def __init__(self,breed):\n",
    "        self.breed=breed"
   ]
  },
  {
   "cell_type": "code",
   "execution_count": 164,
   "id": "b70ac5d4",
   "metadata": {},
   "outputs": [],
   "source": [
    "my_dog = Dog(breed = \"huskie\")"
   ]
  },
  {
   "cell_type": "code",
   "execution_count": 166,
   "id": "8af00e7a",
   "metadata": {},
   "outputs": [
    {
     "data": {
      "text/plain": [
       "'huskie'"
      ]
     },
     "execution_count": 166,
     "metadata": {},
     "output_type": "execute_result"
    }
   ],
   "source": [
    "my_dog.breed"
   ]
  },
  {
   "cell_type": "code",
   "execution_count": 8,
   "id": "16c08497",
   "metadata": {},
   "outputs": [],
   "source": [
    "class Dog():\n",
    "   \n",
    "    species = \"mamal\"                           #class object attribute\n",
    "    \n",
    "    \n",
    "    def __init__(self,breed,name):\n",
    "        self.breed = breed\n",
    "        self.name = name"
   ]
  },
  {
   "cell_type": "code",
   "execution_count": 11,
   "id": "640998da",
   "metadata": {},
   "outputs": [],
   "source": [
    "my_dog = Dog(breed='lab',name='huskie')"
   ]
  },
  {
   "cell_type": "code",
   "execution_count": 14,
   "id": "a4520971",
   "metadata": {},
   "outputs": [
    {
     "data": {
      "text/plain": [
       "'mamal'"
      ]
     },
     "execution_count": 14,
     "metadata": {},
     "output_type": "execute_result"
    }
   ],
   "source": [
    "my_dog.species"
   ]
  },
  {
   "cell_type": "code",
   "execution_count": 19,
   "id": "ad1b2bd9",
   "metadata": {},
   "outputs": [],
   "source": [
    "class Dog():\n",
    "   \n",
    "    species = \"mamal\"                           #class object attribute\n",
    "    \n",
    "    \n",
    "    def __init__(self,breed,name):\n",
    "        self.breed = breed\n",
    "        self.name = name\n",
    "        \n",
    "    def bark(self):\n",
    "        print(\"woofP\")                          #Actions or method tat going to do"
   ]
  },
  {
   "cell_type": "code",
   "execution_count": 24,
   "id": "ca374883",
   "metadata": {},
   "outputs": [],
   "source": [
    "my_dog = Dog('Lab','huskie')"
   ]
  },
  {
   "cell_type": "code",
   "execution_count": 21,
   "id": "b5463b48",
   "metadata": {},
   "outputs": [
    {
     "data": {
      "text/plain": [
       "'Lab'"
      ]
     },
     "execution_count": 21,
     "metadata": {},
     "output_type": "execute_result"
    }
   ],
   "source": [
    "my_dog.breed"
   ]
  },
  {
   "cell_type": "code",
   "execution_count": 23,
   "id": "d6872ede",
   "metadata": {},
   "outputs": [
    {
     "name": "stdout",
     "output_type": "stream",
     "text": [
      "woofP\n"
     ]
    }
   ],
   "source": [
    "my_dog.bark()                              #actions printed"
   ]
  },
  {
   "cell_type": "code",
   "execution_count": 27,
   "id": "22f97b57",
   "metadata": {},
   "outputs": [
    {
     "data": {
      "text/plain": [
       "'Lab'"
      ]
     },
     "execution_count": 27,
     "metadata": {},
     "output_type": "execute_result"
    }
   ],
   "source": [
    "my_dog.breed"
   ]
  },
  {
   "cell_type": "code",
   "execution_count": 28,
   "id": "40affbe9",
   "metadata": {},
   "outputs": [
    {
     "data": {
      "text/plain": [
       "'huskie'"
      ]
     },
     "execution_count": 28,
     "metadata": {},
     "output_type": "execute_result"
    }
   ],
   "source": [
    "my_dog.name"
   ]
  },
  {
   "cell_type": "code",
   "execution_count": 29,
   "id": "301c6c56",
   "metadata": {},
   "outputs": [],
   "source": [
    "#lets create class called Zoo"
   ]
  },
  {
   "cell_type": "code",
   "execution_count": 52,
   "id": "967d6eb9",
   "metadata": {},
   "outputs": [],
   "source": [
    "class Zoo():                                             \n",
    "    \n",
    "    place = 'mysore'\n",
    "    \n",
    "    def __init__(self,snakes,insects):\n",
    "                                                                           #SAME AS CHARCTER\n",
    "        self.snakes = snakes\n",
    "        self.insects=insects\n",
    "        \n",
    "        #need actions/opertions methods\n",
    "        \n",
    "    def visit(self,number):\n",
    "        print(\"the people can enjoy by seeing {} {}\".format(self.snakes,number))     #ACTIONS\n",
    "    "
   ]
  },
  {
   "cell_type": "code",
   "execution_count": 53,
   "id": "cf80177d",
   "metadata": {},
   "outputs": [],
   "source": [
    "my_animals = Zoo('python','butterfly')"
   ]
  },
  {
   "cell_type": "code",
   "execution_count": 54,
   "id": "9270e19f",
   "metadata": {},
   "outputs": [
    {
     "name": "stdout",
     "output_type": "stream",
     "text": [
      "the people can enjoy by seeing python 3.6\n"
     ]
    }
   ],
   "source": [
    "my_animals.visit(3.6)"
   ]
  },
  {
   "cell_type": "code",
   "execution_count": 44,
   "id": "696db830",
   "metadata": {},
   "outputs": [
    {
     "data": {
      "text/plain": [
       "'python'"
      ]
     },
     "execution_count": 44,
     "metadata": {},
     "output_type": "execute_result"
    }
   ],
   "source": [
    "my_animals.snakes"
   ]
  },
  {
   "cell_type": "code",
   "execution_count": 38,
   "id": "efcfae34",
   "metadata": {},
   "outputs": [
    {
     "data": {
      "text/plain": [
       "'mysore'"
      ]
     },
     "execution_count": 38,
     "metadata": {},
     "output_type": "execute_result"
    }
   ],
   "source": [
    "my_animals.place"
   ]
  },
  {
   "cell_type": "code",
   "execution_count": 39,
   "id": "7bde32c5",
   "metadata": {},
   "outputs": [
    {
     "data": {
      "text/plain": [
       "'butterfly'"
      ]
     },
     "execution_count": 39,
     "metadata": {},
     "output_type": "execute_result"
    }
   ],
   "source": [
    "my_animals.insects"
   ]
  },
  {
   "cell_type": "code",
   "execution_count": 55,
   "id": "ec6cd270",
   "metadata": {},
   "outputs": [],
   "source": [
    "#lets create class called school"
   ]
  },
  {
   "cell_type": "code",
   "execution_count": 90,
   "id": "beeb66b7",
   "metadata": {},
   "outputs": [],
   "source": [
    "class Pesce():\n",
    "    \n",
    "    branch = '8'                          #Class Attributes\n",
    "    \n",
    "    def __init__(self,staffs,students=30):\n",
    "        \n",
    "        self.staffs = staffs\n",
    "        \n",
    "        self.students = students\n",
    "        \n",
    "    def studies(self):\n",
    "        \n",
    "        return self.staffs,self.branch"
   ]
  },
  {
   "cell_type": "code",
   "execution_count": 91,
   "id": "0318b673",
   "metadata": {},
   "outputs": [],
   "source": [
    "my_college = Pesce(staffs='ten')"
   ]
  },
  {
   "cell_type": "code",
   "execution_count": 92,
   "id": "030e6784",
   "metadata": {},
   "outputs": [
    {
     "data": {
      "text/plain": [
       "'ten'"
      ]
     },
     "execution_count": 92,
     "metadata": {},
     "output_type": "execute_result"
    }
   ],
   "source": [
    "my_college.staffs"
   ]
  },
  {
   "cell_type": "code",
   "execution_count": 93,
   "id": "9c20b3f8",
   "metadata": {},
   "outputs": [
    {
     "data": {
      "text/plain": [
       "('ten', '8')"
      ]
     },
     "execution_count": 93,
     "metadata": {},
     "output_type": "execute_result"
    }
   ],
   "source": [
    "my_college.studies()"
   ]
  },
  {
   "cell_type": "code",
   "execution_count": null,
   "id": "794e4384",
   "metadata": {},
   "outputs": [],
   "source": []
  }
 ],
 "metadata": {
  "kernelspec": {
   "display_name": "Python 3",
   "language": "python",
   "name": "python3"
  },
  "language_info": {
   "codemirror_mode": {
    "name": "ipython",
    "version": 3
   },
   "file_extension": ".py",
   "mimetype": "text/x-python",
   "name": "python",
   "nbconvert_exporter": "python",
   "pygments_lexer": "ipython3",
   "version": "3.8.8"
  }
 },
 "nbformat": 4,
 "nbformat_minor": 5
}

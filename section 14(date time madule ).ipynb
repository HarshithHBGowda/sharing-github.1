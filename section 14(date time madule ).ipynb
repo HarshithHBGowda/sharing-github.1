{
 "cells": [
  {
   "cell_type": "code",
   "execution_count": 1,
   "id": "e581a107",
   "metadata": {},
   "outputs": [],
   "source": [
    "import datetime                      #time"
   ]
  },
  {
   "cell_type": "code",
   "execution_count": 6,
   "id": "5049f321",
   "metadata": {},
   "outputs": [],
   "source": [
    "mytime = datetime.time(9,15)"
   ]
  },
  {
   "cell_type": "code",
   "execution_count": 8,
   "id": "e64b58c0",
   "metadata": {},
   "outputs": [
    {
     "data": {
      "text/plain": [
       "15"
      ]
     },
     "execution_count": 8,
     "metadata": {},
     "output_type": "execute_result"
    }
   ],
   "source": [
    "mytime.minute                        #minute"
   ]
  },
  {
   "cell_type": "code",
   "execution_count": 9,
   "id": "91ac5381",
   "metadata": {},
   "outputs": [
    {
     "data": {
      "text/plain": [
       "9"
      ]
     },
     "execution_count": 9,
     "metadata": {},
     "output_type": "execute_result"
    }
   ],
   "source": [
    "mytime.hour                           #hour"
   ]
  },
  {
   "cell_type": "code",
   "execution_count": 10,
   "id": "37bfd7df",
   "metadata": {},
   "outputs": [],
   "source": [
    "import datetime"
   ]
  },
  {
   "cell_type": "code",
   "execution_count": 30,
   "id": "76b21bac",
   "metadata": {},
   "outputs": [],
   "source": [
    "mytimedate = datetime.datetime(1998,1,14,5,20,8)"
   ]
  },
  {
   "cell_type": "code",
   "execution_count": 31,
   "id": "0483b5f8",
   "metadata": {},
   "outputs": [
    {
     "data": {
      "text/plain": [
       "datetime.datetime(1998, 1, 14, 5, 20, 8)"
      ]
     },
     "execution_count": 31,
     "metadata": {},
     "output_type": "execute_result"
    }
   ],
   "source": [
    "mytimedate"
   ]
  },
  {
   "cell_type": "code",
   "execution_count": 25,
   "id": "d5f2a30c",
   "metadata": {},
   "outputs": [
    {
     "data": {
      "text/plain": [
       "datetime.date(1998, 1, 14)"
      ]
     },
     "execution_count": 25,
     "metadata": {},
     "output_type": "execute_result"
    }
   ],
   "source": [
    "mytimedate.date()                      #date"
   ]
  },
  {
   "cell_type": "code",
   "execution_count": 28,
   "id": "7eb6b19c",
   "metadata": {},
   "outputs": [
    {
     "data": {
      "text/plain": [
       "20"
      ]
     },
     "execution_count": 28,
     "metadata": {},
     "output_type": "execute_result"
    }
   ],
   "source": [
    "mytimedate.minute"
   ]
  },
  {
   "cell_type": "code",
   "execution_count": 33,
   "id": "288daf1e",
   "metadata": {},
   "outputs": [
    {
     "data": {
      "text/plain": [
       "1"
      ]
     },
     "execution_count": 33,
     "metadata": {},
     "output_type": "execute_result"
    }
   ],
   "source": [
    "mytimedate.month                       #month"
   ]
  },
  {
   "cell_type": "code",
   "execution_count": 36,
   "id": "b3f30b61",
   "metadata": {},
   "outputs": [
    {
     "data": {
      "text/plain": [
       "datetime.date(1998, 1, 14)"
      ]
     },
     "execution_count": 36,
     "metadata": {},
     "output_type": "execute_result"
    }
   ],
   "source": [
    "mytimedate.date()"
   ]
  },
  {
   "cell_type": "code",
   "execution_count": 37,
   "id": "d1569ede",
   "metadata": {},
   "outputs": [
    {
     "name": "stdout",
     "output_type": "stream",
     "text": [
      "1998-01-14 05:20:08\n"
     ]
    }
   ],
   "source": [
    "print(mytimedate)                    #date ,month ,day,with time"
   ]
  },
  {
   "cell_type": "code",
   "execution_count": 38,
   "id": "38671414",
   "metadata": {},
   "outputs": [
    {
     "data": {
      "text/plain": [
       "14"
      ]
     },
     "execution_count": 38,
     "metadata": {},
     "output_type": "execute_result"
    }
   ],
   "source": [
    "mytimedate.day                      #day"
   ]
  },
  {
   "cell_type": "code",
   "execution_count": 39,
   "id": "3c2228d4",
   "metadata": {},
   "outputs": [],
   "source": [
    "mytimedate = datetime.time(2)"
   ]
  },
  {
   "cell_type": "code",
   "execution_count": 40,
   "id": "1506aac3",
   "metadata": {},
   "outputs": [
    {
     "data": {
      "text/plain": [
       "datetime.time(2, 0)"
      ]
     },
     "execution_count": 40,
     "metadata": {},
     "output_type": "execute_result"
    }
   ],
   "source": [
    "mytimedate"
   ]
  },
  {
   "cell_type": "code",
   "execution_count": 44,
   "id": "b5b6862e",
   "metadata": {},
   "outputs": [],
   "source": [
    "from datetime import datetime"
   ]
  },
  {
   "cell_type": "code",
   "execution_count": 50,
   "id": "6b101684",
   "metadata": {},
   "outputs": [],
   "source": [
    "mydate=datetime(2023,5,2,22,3,3)"
   ]
  },
  {
   "cell_type": "code",
   "execution_count": 51,
   "id": "761d43ff",
   "metadata": {},
   "outputs": [
    {
     "name": "stdout",
     "output_type": "stream",
     "text": [
      "2023-05-02 22:03:03\n"
     ]
    }
   ],
   "source": [
    "print(mydate)"
   ]
  },
  {
   "cell_type": "code",
   "execution_count": 52,
   "id": "b92ca247",
   "metadata": {},
   "outputs": [],
   "source": [
    "mydate=datetime(1997,8,21,11,55,0)"
   ]
  },
  {
   "cell_type": "code",
   "execution_count": 53,
   "id": "01dd70aa",
   "metadata": {},
   "outputs": [
    {
     "data": {
      "text/plain": [
       "datetime.datetime(1997, 8, 21, 11, 55)"
      ]
     },
     "execution_count": 53,
     "metadata": {},
     "output_type": "execute_result"
    }
   ],
   "source": [
    "mydate"
   ]
  },
  {
   "cell_type": "code",
   "execution_count": 55,
   "id": "eaf15f48",
   "metadata": {},
   "outputs": [
    {
     "data": {
      "text/plain": [
       "datetime.date(1997, 8, 21)"
      ]
     },
     "execution_count": 55,
     "metadata": {},
     "output_type": "execute_result"
    }
   ],
   "source": [
    "mydate.date()"
   ]
  },
  {
   "cell_type": "code",
   "execution_count": 57,
   "id": "21352c2a",
   "metadata": {},
   "outputs": [
    {
     "data": {
      "text/plain": [
       "datetime.time(11, 55)"
      ]
     },
     "execution_count": 57,
     "metadata": {},
     "output_type": "execute_result"
    }
   ],
   "source": [
    "mydate.time()"
   ]
  },
  {
   "cell_type": "code",
   "execution_count": 61,
   "id": "a14ae57a",
   "metadata": {},
   "outputs": [
    {
     "name": "stdout",
     "output_type": "stream",
     "text": [
      "1997-08-21 11:55:00\n"
     ]
    }
   ],
   "source": [
    "print(mydate)"
   ]
  },
  {
   "cell_type": "code",
   "execution_count": 63,
   "id": "bf55de28",
   "metadata": {},
   "outputs": [
    {
     "data": {
      "text/plain": [
       "21"
      ]
     },
     "execution_count": 63,
     "metadata": {},
     "output_type": "execute_result"
    }
   ],
   "source": [
    "mydate.day"
   ]
  },
  {
   "cell_type": "code",
   "execution_count": 65,
   "id": "7774c5da",
   "metadata": {},
   "outputs": [
    {
     "data": {
      "text/plain": [
       "8"
      ]
     },
     "execution_count": 65,
     "metadata": {},
     "output_type": "execute_result"
    }
   ],
   "source": [
    "mydate.month"
   ]
  },
  {
   "cell_type": "code",
   "execution_count": 66,
   "id": "fdc2c083",
   "metadata": {},
   "outputs": [
    {
     "data": {
      "text/plain": [
       "1997"
      ]
     },
     "execution_count": 66,
     "metadata": {},
     "output_type": "execute_result"
    }
   ],
   "source": [
    "mydate.year"
   ]
  },
  {
   "cell_type": "code",
   "execution_count": 70,
   "id": "017fff96",
   "metadata": {},
   "outputs": [],
   "source": [
    "from datetime import datetime"
   ]
  },
  {
   "cell_type": "code",
   "execution_count": 72,
   "id": "788fa96f",
   "metadata": {},
   "outputs": [],
   "source": [
    "mydatetime = datetime(2021,10,3,14,30)"
   ]
  },
  {
   "cell_type": "code",
   "execution_count": 73,
   "id": "bede3a6c",
   "metadata": {},
   "outputs": [
    {
     "name": "stdout",
     "output_type": "stream",
     "text": [
      "2021-10-03 14:30:00\n"
     ]
    }
   ],
   "source": [
    "print(mydatetime)"
   ]
  },
  {
   "cell_type": "code",
   "execution_count": 75,
   "id": "74f6cc01",
   "metadata": {},
   "outputs": [],
   "source": [
    "mydatetime =mydatetime.replace(year=2020)                    #replace"
   ]
  },
  {
   "cell_type": "code",
   "execution_count": 76,
   "id": "cbf06fde",
   "metadata": {},
   "outputs": [
    {
     "name": "stdout",
     "output_type": "stream",
     "text": [
      "2020-10-03 14:30:00\n"
     ]
    }
   ],
   "source": [
    "print(mydatetime)"
   ]
  },
  {
   "cell_type": "code",
   "execution_count": 79,
   "id": "f3c1200b",
   "metadata": {},
   "outputs": [],
   "source": [
    "from datetime import date"
   ]
  },
  {
   "cell_type": "code",
   "execution_count": 81,
   "id": "f838b30f",
   "metadata": {},
   "outputs": [],
   "source": [
    "mydate1 = date(1998,1,14)                            #differnce betwen dates\n",
    "mydate2 = date(1997,8,21)"
   ]
  },
  {
   "cell_type": "code",
   "execution_count": 82,
   "id": "17689497",
   "metadata": {},
   "outputs": [],
   "source": [
    "res = mydate1-mydate2"
   ]
  },
  {
   "cell_type": "code",
   "execution_count": 84,
   "id": "f911cbbf",
   "metadata": {},
   "outputs": [
    {
     "data": {
      "text/plain": [
       "146"
      ]
     },
     "execution_count": 84,
     "metadata": {},
     "output_type": "execute_result"
    }
   ],
   "source": [
    "res.days"
   ]
  },
  {
   "cell_type": "code",
   "execution_count": 85,
   "id": "b773d1b5",
   "metadata": {},
   "outputs": [],
   "source": [
    "mydate=date(1997,8,21)\n",
    "mydate=date(1998,1,14)"
   ]
  },
  {
   "cell_type": "code",
   "execution_count": 86,
   "id": "dbe77f3d",
   "metadata": {},
   "outputs": [],
   "source": [
    "myres = mydate - mydate"
   ]
  },
  {
   "cell_type": "code",
   "execution_count": 89,
   "id": "d089b051",
   "metadata": {},
   "outputs": [
    {
     "data": {
      "text/plain": [
       "0"
      ]
     },
     "execution_count": 89,
     "metadata": {},
     "output_type": "execute_result"
    }
   ],
   "source": [
    "myres.days"
   ]
  },
  {
   "cell_type": "code",
   "execution_count": 90,
   "id": "53a8ca95",
   "metadata": {},
   "outputs": [],
   "source": [
    "from datetime import datetime"
   ]
  },
  {
   "cell_type": "code",
   "execution_count": 91,
   "id": "f8ec6735",
   "metadata": {},
   "outputs": [],
   "source": [
    "datet1 = datetime(1997,8,21,11,55,0)\n",
    "datet2 = datetime(1998,1,14,5,20,0)"
   ]
  },
  {
   "cell_type": "code",
   "execution_count": 92,
   "id": "a60f2c07",
   "metadata": {},
   "outputs": [],
   "source": [
    "result=datet1-datet2"
   ]
  },
  {
   "cell_type": "code",
   "execution_count": 93,
   "id": "80805d01",
   "metadata": {},
   "outputs": [
    {
     "data": {
      "text/plain": [
       "datetime.timedelta(days=-146, seconds=23700)"
      ]
     },
     "execution_count": 93,
     "metadata": {},
     "output_type": "execute_result"
    }
   ],
   "source": [
    "result"
   ]
  },
  {
   "cell_type": "code",
   "execution_count": 95,
   "id": "2d64ac64",
   "metadata": {},
   "outputs": [
    {
     "data": {
      "text/plain": [
       "-146"
      ]
     },
     "execution_count": 95,
     "metadata": {},
     "output_type": "execute_result"
    }
   ],
   "source": [
    "result.days"
   ]
  },
  {
   "cell_type": "code",
   "execution_count": 103,
   "id": "0fc096bb",
   "metadata": {},
   "outputs": [
    {
     "data": {
      "text/plain": [
       "-146"
      ]
     },
     "execution_count": 103,
     "metadata": {},
     "output_type": "execute_result"
    }
   ],
   "source": [
    "result.days"
   ]
  },
  {
   "cell_type": "code",
   "execution_count": 102,
   "id": "2c2f8fb6",
   "metadata": {},
   "outputs": [
    {
     "data": {
      "text/plain": [
       "6.583333333333333"
      ]
     },
     "execution_count": 102,
     "metadata": {},
     "output_type": "execute_result"
    }
   ],
   "source": [
    "23700/60/60"
   ]
  },
  {
   "cell_type": "code",
   "execution_count": 101,
   "id": "677e334b",
   "metadata": {},
   "outputs": [
    {
     "data": {
      "text/plain": [
       "6.763698630136986"
      ]
     },
     "execution_count": 101,
     "metadata": {},
     "output_type": "execute_result"
    }
   ],
   "source": [
    "987.5/146"
   ]
  },
  {
   "cell_type": "code",
   "execution_count": null,
   "id": "37434530",
   "metadata": {},
   "outputs": [],
   "source": []
  }
 ],
 "metadata": {
  "kernelspec": {
   "display_name": "Python 3",
   "language": "python",
   "name": "python3"
  },
  "language_info": {
   "codemirror_mode": {
    "name": "ipython",
    "version": 3
   },
   "file_extension": ".py",
   "mimetype": "text/x-python",
   "name": "python",
   "nbconvert_exporter": "python",
   "pygments_lexer": "ipython3",
   "version": "3.8.8"
  }
 },
 "nbformat": 4,
 "nbformat_minor": 5
}

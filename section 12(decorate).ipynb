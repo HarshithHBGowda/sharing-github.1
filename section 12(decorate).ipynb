{
 "cells": [
  {
   "cell_type": "code",
   "execution_count": 1,
   "id": "dd494b66",
   "metadata": {},
   "outputs": [],
   "source": [
    "#defining a function inside the function"
   ]
  },
  {
   "cell_type": "code",
   "execution_count": 2,
   "id": "f9805b19",
   "metadata": {},
   "outputs": [],
   "source": [
    "def func():\n",
    "    print(\"hello()\")"
   ]
  },
  {
   "cell_type": "code",
   "execution_count": 4,
   "id": "03fc13ce",
   "metadata": {},
   "outputs": [
    {
     "name": "stdout",
     "output_type": "stream",
     "text": [
      "hello()\n"
     ]
    }
   ],
   "source": [
    "func()"
   ]
  },
  {
   "cell_type": "code",
   "execution_count": 54,
   "id": "8bbb7d5c",
   "metadata": {},
   "outputs": [],
   "source": [
    "def func(name = \"jose\"):\n",
    "    print(\"happy to learn python\")\n",
    "                                                    #inside func am going to define another function called fu    \n",
    "    def fun():\n",
    "        return \"have fun\"\n",
    "    \n",
    "    print(\"now i will excute the fun\")\n",
    "    \n",
    "    if name == 'jose':\n",
    "        return fun()\n",
    "    else:\n",
    "        pass"
   ]
  },
  {
   "cell_type": "code",
   "execution_count": 55,
   "id": "ddb6625c",
   "metadata": {},
   "outputs": [
    {
     "name": "stdout",
     "output_type": "stream",
     "text": [
      "happy to learn python\n",
      "now i will excute the fun\n"
     ]
    }
   ],
   "source": [
    "my_func = func(\"jose\")                        "
   ]
  },
  {
   "cell_type": "code",
   "execution_count": 57,
   "id": "b935595c",
   "metadata": {},
   "outputs": [
    {
     "name": "stdout",
     "output_type": "stream",
     "text": [
      "happy to learn python\n",
      "now i will excute the fun\n"
     ]
    }
   ],
   "source": [
    "                                                  \n",
    "my_fun = func()"
   ]
  },
  {
   "cell_type": "code",
   "execution_count": 59,
   "id": "b15525bf",
   "metadata": {},
   "outputs": [
    {
     "name": "stdout",
     "output_type": "stream",
     "text": [
      "have fun\n"
     ]
    }
   ],
   "source": [
    "print(my_func)"
   ]
  },
  {
   "cell_type": "code",
   "execution_count": 77,
   "id": "edfac172",
   "metadata": {},
   "outputs": [],
   "source": [
    "def zoo(place = \"mysore\"):\n",
    "    print(\"it is a good place to enjoy the day\")\n",
    "        \n",
    "    \n",
    "    def birds():\n",
    "        return \"birds are flying\"\n",
    "        \n",
    "        \n",
    "    def animals(): \n",
    "        return \"animals are sleeping\"\n",
    "        \n",
    "        if place == 'mysore':\n",
    "            return birds()\n",
    "        else :\n",
    "            return animals()"
   ]
  },
  {
   "cell_type": "code",
   "execution_count": 78,
   "id": "ef9e74e9",
   "metadata": {},
   "outputs": [
    {
     "name": "stdout",
     "output_type": "stream",
     "text": [
      "it is a good place to enjoy the day\n"
     ]
    }
   ],
   "source": [
    "zoo()"
   ]
  },
  {
   "cell_type": "code",
   "execution_count": 79,
   "id": "e737af12",
   "metadata": {},
   "outputs": [
    {
     "name": "stdout",
     "output_type": "stream",
     "text": [
      "it is a good place to enjoy the day\n"
     ]
    }
   ],
   "source": [
    "myzoo = zoo('mysore')"
   ]
  },
  {
   "cell_type": "code",
   "execution_count": 81,
   "id": "b15e40f5",
   "metadata": {},
   "outputs": [
    {
     "name": "stdout",
     "output_type": "stream",
     "text": [
      "None\n"
     ]
    }
   ],
   "source": [
    "print(myzoo)"
   ]
  },
  {
   "cell_type": "code",
   "execution_count": 84,
   "id": "5c426d71",
   "metadata": {},
   "outputs": [],
   "source": [
    "def cool():\n",
    "    def super_cool():\n",
    "        return \"i am very cool\"\n",
    "    \n",
    "    \n",
    "    return super_cool\n"
   ]
  },
  {
   "cell_type": "code",
   "execution_count": 85,
   "id": "1be5f63d",
   "metadata": {},
   "outputs": [],
   "source": [
    "my_cool = cool()"
   ]
  },
  {
   "cell_type": "code",
   "execution_count": 86,
   "id": "cad6f40b",
   "metadata": {},
   "outputs": [
    {
     "data": {
      "text/plain": [
       "<function __main__.cool.<locals>.super_cool()>"
      ]
     },
     "execution_count": 86,
     "metadata": {},
     "output_type": "execute_result"
    }
   ],
   "source": [
    "cool()"
   ]
  },
  {
   "cell_type": "code",
   "execution_count": 87,
   "id": "0e96f887",
   "metadata": {},
   "outputs": [
    {
     "data": {
      "text/plain": [
       "<function __main__.cool()>"
      ]
     },
     "execution_count": 87,
     "metadata": {},
     "output_type": "execute_result"
    }
   ],
   "source": [
    "cool"
   ]
  },
  {
   "cell_type": "code",
   "execution_count": 88,
   "id": "2f332342",
   "metadata": {},
   "outputs": [
    {
     "data": {
      "text/plain": [
       "'i am very cool'"
      ]
     },
     "execution_count": 88,
     "metadata": {},
     "output_type": "execute_result"
    }
   ],
   "source": [
    "my_cool()"
   ]
  },
  {
   "cell_type": "code",
   "execution_count": 96,
   "id": "b1ad8625",
   "metadata": {},
   "outputs": [],
   "source": [
    "def zoo():\n",
    "    def mysore():\n",
    "        return \"animals\"\n",
    "    \n",
    "    return mysore"
   ]
  },
  {
   "cell_type": "code",
   "execution_count": 97,
   "id": "30ff5d58",
   "metadata": {},
   "outputs": [],
   "source": [
    "myzoo = zoo()"
   ]
  },
  {
   "cell_type": "code",
   "execution_count": 98,
   "id": "d00e0ab2",
   "metadata": {},
   "outputs": [
    {
     "data": {
      "text/plain": [
       "'animals'"
      ]
     },
     "execution_count": 98,
     "metadata": {},
     "output_type": "execute_result"
    }
   ],
   "source": [
    "myzoo()"
   ]
  },
  {
   "cell_type": "code",
   "execution_count": 1,
   "id": "b0948af6",
   "metadata": {},
   "outputs": [],
   "source": [
    "#decorates"
   ]
  },
  {
   "cell_type": "code",
   "execution_count": 4,
   "id": "ddfcd2f3",
   "metadata": {},
   "outputs": [],
   "source": [
    "def new_decorate(orginal_func):\n",
    "    \n",
    "    def wrap_func():\n",
    "        \n",
    "        print(\"some extra code before \")\n",
    "        \n",
    "        orginal_func()\n",
    "            \n",
    "        print(\"some code after\")\n",
    "        \n",
    "    return wrap_func()"
   ]
  },
  {
   "cell_type": "code",
   "execution_count": 5,
   "id": "8ac1d612",
   "metadata": {},
   "outputs": [
    {
     "name": "stdout",
     "output_type": "stream",
     "text": [
      "some extra code before \n",
      "i want to b decorate\n",
      "some code after\n"
     ]
    }
   ],
   "source": [
    "@new_decorate\n",
    "def function_need_decorate():\n",
    "    print(\"i want to be decorate\")"
   ]
  },
  {
   "cell_type": "code",
   "execution_count": 6,
   "id": "8bc23538",
   "metadata": {},
   "outputs": [],
   "source": [
    "def zoo(animals):\n",
    "    \n",
    "    def wrap():\n",
    "        \n",
    "        print(\"need some food\")\n",
    "        \n",
    "        animals()\n",
    "        \n",
    "        print('need some water')\n",
    "    \n",
    "    return wrap()\n",
    "        \n",
    "        "
   ]
  },
  {
   "cell_type": "code",
   "execution_count": 7,
   "id": "79004366",
   "metadata": {},
   "outputs": [
    {
     "name": "stdout",
     "output_type": "stream",
     "text": [
      "need some food\n",
      "fine\n",
      "need some water\n"
     ]
    }
   ],
   "source": [
    "@zoo\n",
    "def zoo_animals():\n",
    "    print(\"fine\")"
   ]
  },
  {
   "cell_type": "code",
   "execution_count": null,
   "id": "b878cb69",
   "metadata": {},
   "outputs": [],
   "source": []
  }
 ],
 "metadata": {
  "kernelspec": {
   "display_name": "Python 3",
   "language": "python",
   "name": "python3"
  },
  "language_info": {
   "codemirror_mode": {
    "name": "ipython",
    "version": 3
   },
   "file_extension": ".py",
   "mimetype": "text/x-python",
   "name": "python",
   "nbconvert_exporter": "python",
   "pygments_lexer": "ipython3",
   "version": "3.8.8"
  }
 },
 "nbformat": 4,
 "nbformat_minor": 5
}

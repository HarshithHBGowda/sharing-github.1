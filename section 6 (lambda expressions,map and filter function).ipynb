{
 "cells": [
  {
   "cell_type": "markdown",
   "id": "f9758737",
   "metadata": {},
   "source": [
    "#mapping"
   ]
  },
  {
   "cell_type": "code",
   "execution_count": 28,
   "id": "5b3530ae",
   "metadata": {},
   "outputs": [],
   "source": [
    "def sqaure(num):\n",
    "    print(num*2)                     "
   ]
  },
  {
   "cell_type": "code",
   "execution_count": 29,
   "id": "d7fda900",
   "metadata": {},
   "outputs": [],
   "source": [
    "mysqaure = [1,3,4,5,7]"
   ]
  },
  {
   "cell_type": "code",
   "execution_count": 30,
   "id": "b2fe17bb",
   "metadata": {},
   "outputs": [
    {
     "name": "stdout",
     "output_type": "stream",
     "text": [
      "2\n",
      "None\n",
      "6\n",
      "None\n",
      "8\n",
      "None\n",
      "10\n",
      "None\n",
      "14\n",
      "None\n"
     ]
    }
   ],
   "source": [
    "for item in map(sqaure,mysqaure):\n",
    "        print(item)"
   ]
  },
  {
   "cell_type": "code",
   "execution_count": 32,
   "id": "90d68382",
   "metadata": {},
   "outputs": [],
   "source": [
    "def cube(n):\n",
    "    print(n*n)"
   ]
  },
  {
   "cell_type": "code",
   "execution_count": 35,
   "id": "efa1e60d",
   "metadata": {},
   "outputs": [
    {
     "name": "stdout",
     "output_type": "stream",
     "text": [
      "4\n"
     ]
    }
   ],
   "source": [
    "cube(2)"
   ]
  },
  {
   "cell_type": "code",
   "execution_count": null,
   "id": "92e955b3",
   "metadata": {},
   "outputs": [],
   "source": [
    "def cube(n):\n",
    "    print(n*3)\n",
    "    "
   ]
  },
  {
   "cell_type": "code",
   "execution_count": 36,
   "id": "93f3ab3c",
   "metadata": {},
   "outputs": [],
   "source": [
    "mylist=[2,3,5,7]"
   ]
  },
  {
   "cell_type": "code",
   "execution_count": 38,
   "id": "0bc785b9",
   "metadata": {},
   "outputs": [
    {
     "name": "stdout",
     "output_type": "stream",
     "text": [
      "4\n",
      "None\n",
      "9\n",
      "None\n",
      "25\n",
      "None\n",
      "49\n",
      "None\n"
     ]
    }
   ],
   "source": [
    "for item in map(cube,mylist):\n",
    "    print(item)\n",
    "    "
   ]
  },
  {
   "cell_type": "code",
   "execution_count": 48,
   "id": "67908fbd",
   "metadata": {},
   "outputs": [],
   "source": [
    "def item(kkk):\n",
    "    print(kkk-2)"
   ]
  },
  {
   "cell_type": "code",
   "execution_count": 49,
   "id": "f2a060b9",
   "metadata": {},
   "outputs": [],
   "source": [
    "mylen=[2,4,6,8]"
   ]
  },
  {
   "cell_type": "code",
   "execution_count": 51,
   "id": "b3212793",
   "metadata": {},
   "outputs": [
    {
     "name": "stdout",
     "output_type": "stream",
     "text": [
      "0\n",
      "None\n",
      "2\n",
      "None\n",
      "4\n",
      "None\n",
      "6\n",
      "None\n"
     ]
    }
   ],
   "source": [
    "for sub in map(item,mylen):\n",
    "    print(sub)"
   ]
  },
  {
   "cell_type": "code",
   "execution_count": 80,
   "id": "ec94b20f",
   "metadata": {},
   "outputs": [],
   "source": [
    "def item(num):\n",
    "        print(num*2)\n",
    "    \n",
    "        my_len = [2,4,6,7]\n",
    "        \n",
    "        for item in map(item,mylen):\n",
    "            print(item)\n",
    "            "
   ]
  },
  {
   "cell_type": "code",
   "execution_count": 81,
   "id": "7745a758",
   "metadata": {},
   "outputs": [],
   "source": [
    "                                           #filter in built function in python"
   ]
  },
  {
   "cell_type": "code",
   "execution_count": 82,
   "id": "3b6acef7",
   "metadata": {},
   "outputs": [],
   "source": [
    "def item(num):\n",
    "    return num%2==0"
   ]
  },
  {
   "cell_type": "code",
   "execution_count": 85,
   "id": "80d764cb",
   "metadata": {},
   "outputs": [
    {
     "data": {
      "text/plain": [
       "False"
      ]
     },
     "execution_count": 85,
     "metadata": {},
     "output_type": "execute_result"
    }
   ],
   "source": [
    "item(3)"
   ]
  },
  {
   "cell_type": "code",
   "execution_count": 86,
   "id": "c6257729",
   "metadata": {},
   "outputs": [],
   "source": [
    "def item(num):\n",
    "    return num%2==0"
   ]
  },
  {
   "cell_type": "code",
   "execution_count": 87,
   "id": "dd33ead5",
   "metadata": {},
   "outputs": [],
   "source": [
    "my_list=[2,3,4,5,6,7]"
   ]
  },
  {
   "cell_type": "code",
   "execution_count": 89,
   "id": "756ba529",
   "metadata": {},
   "outputs": [
    {
     "data": {
      "text/plain": [
       "<filter at 0x1edc1e4e310>"
      ]
     },
     "execution_count": 89,
     "metadata": {},
     "output_type": "execute_result"
    }
   ],
   "source": [
    "(filter(item,my_list))"
   ]
  },
  {
   "cell_type": "code",
   "execution_count": 90,
   "id": "ca44de40",
   "metadata": {},
   "outputs": [],
   "source": [
    "def item(num):\n",
    "    return num%2==0"
   ]
  },
  {
   "cell_type": "code",
   "execution_count": 91,
   "id": "ffecb5f0",
   "metadata": {},
   "outputs": [],
   "source": [
    "my_list=[2,3,4,5,6]"
   ]
  },
  {
   "cell_type": "code",
   "execution_count": 95,
   "id": "3fbd1b95",
   "metadata": {},
   "outputs": [
    {
     "data": {
      "text/plain": [
       "[2, 4, 6]"
      ]
     },
     "execution_count": 95,
     "metadata": {},
     "output_type": "execute_result"
    }
   ],
   "source": [
    "list(filter(item,my_list))                  #it only grab the even numbers"
   ]
  },
  {
   "cell_type": "code",
   "execution_count": 108,
   "id": "572d5f07",
   "metadata": {},
   "outputs": [],
   "source": [
    "def odd(nums):\n",
    "    return nums%2==1"
   ]
  },
  {
   "cell_type": "code",
   "execution_count": 109,
   "id": "2c04890e",
   "metadata": {},
   "outputs": [
    {
     "data": {
      "text/plain": [
       "[1, 3, 5, 7]"
      ]
     },
     "execution_count": 109,
     "metadata": {},
     "output_type": "execute_result"
    }
   ],
   "source": [
    "list(filter(odd,mylen))"
   ]
  },
  {
   "cell_type": "code",
   "execution_count": null,
   "id": "9cd31a56",
   "metadata": {},
   "outputs": [],
   "source": [
    "def odd(nums):\n",
    "    return nums%2 == 1"
   ]
  },
  {
   "cell_type": "code",
   "execution_count": null,
   "id": "0cb3fdc6",
   "metadata": {},
   "outputs": [],
   "source": [
    "my_list=[2,3,4,5,6]"
   ]
  },
  {
   "cell_type": "code",
   "execution_count": 111,
   "id": "4ad7987b",
   "metadata": {},
   "outputs": [
    {
     "name": "stdout",
     "output_type": "stream",
     "text": [
      "False\n",
      "True\n",
      "False\n",
      "True\n",
      "False\n"
     ]
    }
   ],
   "source": [
    "for n in map(odd,my_list):\n",
    "    print(n)"
   ]
  },
  {
   "cell_type": "code",
   "execution_count": 124,
   "id": "838ec72c",
   "metadata": {},
   "outputs": [],
   "source": [
    "                                                #lambda function"
   ]
  },
  {
   "cell_type": "code",
   "execution_count": 136,
   "id": "962b8b6d",
   "metadata": {},
   "outputs": [],
   "source": [
    "shell=lambda num1:num1*2\n",
    "         "
   ]
  },
  {
   "cell_type": "code",
   "execution_count": 137,
   "id": "20be5fb6",
   "metadata": {},
   "outputs": [
    {
     "data": {
      "text/plain": [
       "18"
      ]
     },
     "execution_count": 137,
     "metadata": {},
     "output_type": "execute_result"
    }
   ],
   "source": [
    "shell(9)"
   ]
  },
  {
   "cell_type": "code",
   "execution_count": 140,
   "id": "5db0a98d",
   "metadata": {},
   "outputs": [],
   "source": [
    "sqaure=lambda num:num*2==0"
   ]
  },
  {
   "cell_type": "code",
   "execution_count": 142,
   "id": "498fedc9",
   "metadata": {},
   "outputs": [
    {
     "data": {
      "text/plain": [
       "False"
      ]
     },
     "execution_count": 142,
     "metadata": {},
     "output_type": "execute_result"
    }
   ],
   "source": [
    "sqaure(2)"
   ]
  },
  {
   "cell_type": "code",
   "execution_count": 146,
   "id": "2d8f9a97",
   "metadata": {},
   "outputs": [
    {
     "data": {
      "text/plain": [
       "[]"
      ]
     },
     "execution_count": 146,
     "metadata": {},
     "output_type": "execute_result"
    }
   ],
   "source": [
    "mynums=[2,3,3,2,2]\n",
    "list(filter(lambda num:num*2==0,mynums))"
   ]
  },
  {
   "cell_type": "code",
   "execution_count": 147,
   "id": "11b02297",
   "metadata": {},
   "outputs": [],
   "source": [
    "names=['harshi','gowda','hbs']"
   ]
  },
  {
   "cell_type": "code",
   "execution_count": 149,
   "id": "33e47d9c",
   "metadata": {},
   "outputs": [
    {
     "data": {
      "text/plain": [
       "(<function __main__.<lambda>(name)>, ['harshi', 'gowda', 'hbs'])"
      ]
     },
     "execution_count": 149,
     "metadata": {},
     "output_type": "execute_result"
    }
   ],
   "source": [
    "lambda name:name[::],names"
   ]
  },
  {
   "cell_type": "code",
   "execution_count": 150,
   "id": "4a111924",
   "metadata": {},
   "outputs": [
    {
     "data": {
      "text/plain": [
       "['harshi', 'gowda', 'hbs']"
      ]
     },
     "execution_count": 150,
     "metadata": {},
     "output_type": "execute_result"
    }
   ],
   "source": [
    "names"
   ]
  },
  {
   "cell_type": "code",
   "execution_count": 151,
   "id": "a9a6685b",
   "metadata": {},
   "outputs": [],
   "source": [
    "names=['harshi','gowda','hbs']"
   ]
  },
  {
   "cell_type": "code",
   "execution_count": 154,
   "id": "0b133b3c",
   "metadata": {},
   "outputs": [
    {
     "data": {
      "text/plain": [
       "['harshi', 'gowda', 'hbs']"
      ]
     },
     "execution_count": 154,
     "metadata": {},
     "output_type": "execute_result"
    }
   ],
   "source": [
    "list(filter(lambda name:name[:-2],names))"
   ]
  },
  {
   "cell_type": "code",
   "execution_count": null,
   "id": "caded570",
   "metadata": {},
   "outputs": [],
   "source": []
  },
  {
   "cell_type": "code",
   "execution_count": null,
   "id": "8bb74273",
   "metadata": {},
   "outputs": [],
   "source": []
  },
  {
   "cell_type": "code",
   "execution_count": null,
   "id": "cb81bac3",
   "metadata": {},
   "outputs": [],
   "source": []
  }
 ],
 "metadata": {
  "kernelspec": {
   "display_name": "Python 3",
   "language": "python",
   "name": "python3"
  },
  "language_info": {
   "codemirror_mode": {
    "name": "ipython",
    "version": 3
   },
   "file_extension": ".py",
   "mimetype": "text/x-python",
   "name": "python",
   "nbconvert_exporter": "python",
   "pygments_lexer": "ipython3",
   "version": "3.8.8"
  }
 },
 "nbformat": 4,
 "nbformat_minor": 5
}
